{
 "cells": [
  {
   "cell_type": "markdown",
   "metadata": {},
   "source": [
    "![panda](http://res.freestockphotos.biz/thumbs/3/3173-illustration-of-a-giant-panda-eating-bamboo-th.png)"
   ]
  },
  {
   "cell_type": "markdown",
   "metadata": {
    "heading_collapsed": true
   },
   "source": [
    "# Pandas Data Cleaning"
   ]
  },
  {
   "cell_type": "markdown",
   "metadata": {
    "heading_collapsed": true
   },
   "source": [
    "# Objectives"
   ]
  },
  {
   "cell_type": "markdown",
   "metadata": {
    "hidden": true
   },
   "source": [
    "- Handle missing data, and recognize when different strategies for handling missing data would be appropriate\n",
    "- Use DataFrame methods (and sometimes lambda functions) to transform data\n",
    "- Use string methods to transform object-type columns"
   ]
  },
  {
   "cell_type": "code",
   "execution_count": 2,
   "metadata": {},
   "outputs": [],
   "source": [
    "# Imports\n",
    "import numpy as np\n",
    "import pandas as pd\n",
    "import seaborn as sns\n",
    "import matplotlib.pyplot as plt"
   ]
  },
  {
   "cell_type": "markdown",
   "metadata": {},
   "source": [
    "## To The Center!\n",
    "\n",
    "That's right - we're still working with Austin Animal Center data! But now, let's check out the Outcomes data, instead of the Intakes data we were working with before.\n",
    "\n",
    "Data source: https://data.austintexas.gov/Health-and-Community-Services/Austin-Animal-Center-Outcomes/9t4d-g238"
   ]
  },
  {
   "cell_type": "code",
   "execution_count": 3,
   "metadata": {},
   "outputs": [],
   "source": [
    "# Read in the animal center outcomes data as df\n",
    "# Can use parse_dates and pass a column name to read it as a datetime\n",
    "df = pd.read_csv(\"data/Austin_Animal_center_Outcomes_022822.csv\",parse_dates=[\"DateTime\",\"Date of Birth\"])"
   ]
  },
  {
   "cell_type": "code",
   "execution_count": 4,
   "metadata": {},
   "outputs": [
    {
     "data": {
      "text/html": [
       "<div>\n",
       "<style scoped>\n",
       "    .dataframe tbody tr th:only-of-type {\n",
       "        vertical-align: middle;\n",
       "    }\n",
       "\n",
       "    .dataframe tbody tr th {\n",
       "        vertical-align: top;\n",
       "    }\n",
       "\n",
       "    .dataframe thead th {\n",
       "        text-align: right;\n",
       "    }\n",
       "</style>\n",
       "<table border=\"1\" class=\"dataframe\">\n",
       "  <thead>\n",
       "    <tr style=\"text-align: right;\">\n",
       "      <th></th>\n",
       "      <th>Animal ID</th>\n",
       "      <th>Name</th>\n",
       "      <th>DateTime</th>\n",
       "      <th>MonthYear</th>\n",
       "      <th>Date of Birth</th>\n",
       "      <th>Outcome Type</th>\n",
       "      <th>Outcome Subtype</th>\n",
       "      <th>Animal Type</th>\n",
       "      <th>Sex upon Outcome</th>\n",
       "      <th>Age upon Outcome</th>\n",
       "      <th>Breed</th>\n",
       "      <th>Color</th>\n",
       "    </tr>\n",
       "  </thead>\n",
       "  <tbody>\n",
       "    <tr>\n",
       "      <th>0</th>\n",
       "      <td>A794011</td>\n",
       "      <td>Chunk</td>\n",
       "      <td>2019-05-08 18:20:00</td>\n",
       "      <td>May 2019</td>\n",
       "      <td>2017-05-02</td>\n",
       "      <td>Rto-Adopt</td>\n",
       "      <td>NaN</td>\n",
       "      <td>Cat</td>\n",
       "      <td>Neutered Male</td>\n",
       "      <td>2 years</td>\n",
       "      <td>Domestic Shorthair Mix</td>\n",
       "      <td>Brown Tabby/White</td>\n",
       "    </tr>\n",
       "    <tr>\n",
       "      <th>1</th>\n",
       "      <td>A776359</td>\n",
       "      <td>Gizmo</td>\n",
       "      <td>2018-07-18 16:02:00</td>\n",
       "      <td>Jul 2018</td>\n",
       "      <td>2017-07-12</td>\n",
       "      <td>Adoption</td>\n",
       "      <td>NaN</td>\n",
       "      <td>Dog</td>\n",
       "      <td>Neutered Male</td>\n",
       "      <td>1 year</td>\n",
       "      <td>Chihuahua Shorthair Mix</td>\n",
       "      <td>White/Brown</td>\n",
       "    </tr>\n",
       "    <tr>\n",
       "      <th>2</th>\n",
       "      <td>A821648</td>\n",
       "      <td>NaN</td>\n",
       "      <td>2020-08-16 11:38:00</td>\n",
       "      <td>Aug 2020</td>\n",
       "      <td>2019-08-16</td>\n",
       "      <td>Euthanasia</td>\n",
       "      <td>NaN</td>\n",
       "      <td>Other</td>\n",
       "      <td>Unknown</td>\n",
       "      <td>1 year</td>\n",
       "      <td>Raccoon</td>\n",
       "      <td>Gray</td>\n",
       "    </tr>\n",
       "    <tr>\n",
       "      <th>3</th>\n",
       "      <td>A720371</td>\n",
       "      <td>Moose</td>\n",
       "      <td>2016-02-13 17:59:00</td>\n",
       "      <td>Feb 2016</td>\n",
       "      <td>2015-10-08</td>\n",
       "      <td>Adoption</td>\n",
       "      <td>NaN</td>\n",
       "      <td>Dog</td>\n",
       "      <td>Neutered Male</td>\n",
       "      <td>4 months</td>\n",
       "      <td>Anatol Shepherd/Labrador Retriever</td>\n",
       "      <td>Buff</td>\n",
       "    </tr>\n",
       "    <tr>\n",
       "      <th>4</th>\n",
       "      <td>A674754</td>\n",
       "      <td>NaN</td>\n",
       "      <td>2014-03-18 11:47:00</td>\n",
       "      <td>Mar 2014</td>\n",
       "      <td>2014-03-12</td>\n",
       "      <td>Transfer</td>\n",
       "      <td>Partner</td>\n",
       "      <td>Cat</td>\n",
       "      <td>Intact Male</td>\n",
       "      <td>6 days</td>\n",
       "      <td>Domestic Shorthair Mix</td>\n",
       "      <td>Orange Tabby</td>\n",
       "    </tr>\n",
       "  </tbody>\n",
       "</table>\n",
       "</div>"
      ],
      "text/plain": [
       "  Animal ID   Name            DateTime MonthYear Date of Birth Outcome Type  \\\n",
       "0   A794011  Chunk 2019-05-08 18:20:00  May 2019    2017-05-02    Rto-Adopt   \n",
       "1   A776359  Gizmo 2018-07-18 16:02:00  Jul 2018    2017-07-12     Adoption   \n",
       "2   A821648    NaN 2020-08-16 11:38:00  Aug 2020    2019-08-16   Euthanasia   \n",
       "3   A720371  Moose 2016-02-13 17:59:00  Feb 2016    2015-10-08     Adoption   \n",
       "4   A674754    NaN 2014-03-18 11:47:00  Mar 2014    2014-03-12     Transfer   \n",
       "\n",
       "  Outcome Subtype Animal Type Sex upon Outcome Age upon Outcome  \\\n",
       "0             NaN         Cat    Neutered Male          2 years   \n",
       "1             NaN         Dog    Neutered Male           1 year   \n",
       "2             NaN       Other          Unknown           1 year   \n",
       "3             NaN         Dog    Neutered Male         4 months   \n",
       "4         Partner         Cat      Intact Male           6 days   \n",
       "\n",
       "                                Breed              Color  \n",
       "0              Domestic Shorthair Mix  Brown Tabby/White  \n",
       "1             Chihuahua Shorthair Mix        White/Brown  \n",
       "2                             Raccoon               Gray  \n",
       "3  Anatol Shepherd/Labrador Retriever               Buff  \n",
       "4              Domestic Shorthair Mix       Orange Tabby  "
      ]
     },
     "execution_count": 4,
     "metadata": {},
     "output_type": "execute_result"
    }
   ],
   "source": [
    "# Check it out\n",
    "df.head()"
   ]
  },
  {
   "cell_type": "code",
   "execution_count": 5,
   "metadata": {},
   "outputs": [
    {
     "name": "stdout",
     "output_type": "stream",
     "text": [
      "<class 'pandas.core.frame.DataFrame'>\n",
      "RangeIndex: 137097 entries, 0 to 137096\n",
      "Data columns (total 12 columns):\n",
      " #   Column            Non-Null Count   Dtype         \n",
      "---  ------            --------------   -----         \n",
      " 0   Animal ID         137097 non-null  object        \n",
      " 1   Name              96095 non-null   object        \n",
      " 2   DateTime          137097 non-null  datetime64[ns]\n",
      " 3   MonthYear         137097 non-null  object        \n",
      " 4   Date of Birth     137097 non-null  datetime64[ns]\n",
      " 5   Outcome Type      137073 non-null  object        \n",
      " 6   Outcome Subtype   62653 non-null   object        \n",
      " 7   Animal Type       137097 non-null  object        \n",
      " 8   Sex upon Outcome  137095 non-null  object        \n",
      " 9   Age upon Outcome  137092 non-null  object        \n",
      " 10  Breed             137097 non-null  object        \n",
      " 11  Color             137097 non-null  object        \n",
      "dtypes: datetime64[ns](2), object(10)\n",
      "memory usage: 12.6+ MB\n"
     ]
    }
   ],
   "source": [
    "# Info on the dataframe\n",
    "df.info()"
   ]
  },
  {
   "cell_type": "markdown",
   "metadata": {},
   "source": [
    "## Using Questions to Drive Both Exploration and Cleaning\n",
    "\n",
    "The best way to think about how to both explore and clean your data set is to think about what is interesting in your data, what questions you have, what you want to know and how to actually get there. We're going to ask a few questions of our dataset, and use that to drive our 'cleaning' process (and talk a little bit about how and when to clean data in the process!)"
   ]
  },
  {
   "cell_type": "markdown",
   "metadata": {
    "heading_collapsed": true,
    "hidden": true
   },
   "source": [
    "## Question 1: How old are the animals in our dataset?"
   ]
  },
  {
   "cell_type": "markdown",
   "metadata": {
    "hidden": true
   },
   "source": [
    "Let's try to answer this with the `Age upon Outcome` variable:"
   ]
  },
  {
   "cell_type": "code",
   "execution_count": 6,
   "metadata": {
    "hidden": true
   },
   "outputs": [
    {
     "data": {
      "text/plain": [
       "1 year       23780\n",
       "2 years      21332\n",
       "2 months     17063\n",
       "3 years       8112\n",
       "3 months      6685\n",
       "1 month       5902\n",
       "4 years       4765\n",
       "4 months      4502\n",
       "5 years       4413\n",
       "5 months      3436\n",
       "6 months      3329\n",
       "6 years       2925\n",
       "8 years       2551\n",
       "7 years       2527\n",
       "3 weeks       2331\n",
       "2 weeks       2294\n",
       "8 months      2177\n",
       "10 years      2045\n",
       "10 months     1988\n",
       "4 weeks       1938\n",
       "7 months      1777\n",
       "9 months      1415\n",
       "9 years       1410\n",
       "12 years       995\n",
       "1 weeks        995\n",
       "11 months      869\n",
       "11 years       801\n",
       "1 week         748\n",
       "13 years       656\n",
       "14 years       441\n",
       "3 days         399\n",
       "2 days         389\n",
       "15 years       369\n",
       "1 day          316\n",
       "6 days         263\n",
       "4 days         250\n",
       "0 years        207\n",
       "5 days         167\n",
       "16 years       163\n",
       "5 weeks        152\n",
       "17 years        92\n",
       "18 years        56\n",
       "19 years        27\n",
       "20 years        21\n",
       "-1 years         6\n",
       "22 years         6\n",
       "24 years         1\n",
       "23 years         1\n",
       "30 years         1\n",
       "-2 years         1\n",
       "-3 years         1\n",
       "25 years         1\n",
       "21 years         1\n",
       "Name: Age upon Outcome, dtype: int64"
      ]
     },
     "execution_count": 6,
     "metadata": {},
     "output_type": "execute_result"
    }
   ],
   "source": [
    "df[\"Age upon Outcome\"].value_counts()"
   ]
  },
  {
   "cell_type": "markdown",
   "metadata": {},
   "source": [
    "Oh no! These aren't numbers! And the data is pretty dirty! Let's see how we can break this column apart, into the Age Number and the Age Unit."
   ]
  },
  {
   "cell_type": "code",
   "execution_count": 34,
   "metadata": {},
   "outputs": [],
   "source": [
    "df.dropna(axis=0,subset=[\"Age upon Outcome\"],inplace=True)"
   ]
  },
  {
   "cell_type": "code",
   "execution_count": 21,
   "metadata": {},
   "outputs": [
    {
     "data": {
      "text/plain": [
       "'years'"
      ]
     },
     "execution_count": 21,
     "metadata": {},
     "output_type": "execute_result"
    }
   ],
   "source": [
    "df[\"Age upon Outcome\"][0].split()[1]"
   ]
  },
  {
   "cell_type": "code",
   "execution_count": 44,
   "metadata": {},
   "outputs": [
    {
     "data": {
      "text/html": [
       "<div>\n",
       "<style scoped>\n",
       "    .dataframe tbody tr th:only-of-type {\n",
       "        vertical-align: middle;\n",
       "    }\n",
       "\n",
       "    .dataframe tbody tr th {\n",
       "        vertical-align: top;\n",
       "    }\n",
       "\n",
       "    .dataframe thead th {\n",
       "        text-align: right;\n",
       "    }\n",
       "</style>\n",
       "<table border=\"1\" class=\"dataframe\">\n",
       "  <thead>\n",
       "    <tr style=\"text-align: right;\">\n",
       "      <th></th>\n",
       "      <th>Animal ID</th>\n",
       "      <th>Name</th>\n",
       "      <th>DateTime</th>\n",
       "      <th>MonthYear</th>\n",
       "      <th>Date of Birth</th>\n",
       "      <th>Outcome Type</th>\n",
       "      <th>Outcome Subtype</th>\n",
       "      <th>Animal Type</th>\n",
       "      <th>Sex upon Outcome</th>\n",
       "      <th>Age upon Outcome</th>\n",
       "      <th>Breed</th>\n",
       "      <th>Color</th>\n",
       "      <th>(age unit,)</th>\n",
       "      <th>age unit</th>\n",
       "      <th>age number</th>\n",
       "    </tr>\n",
       "  </thead>\n",
       "  <tbody>\n",
       "    <tr>\n",
       "      <th>0</th>\n",
       "      <td>A794011</td>\n",
       "      <td>Chunk</td>\n",
       "      <td>2019-05-08 18:20:00</td>\n",
       "      <td>May 2019</td>\n",
       "      <td>2017-05-02</td>\n",
       "      <td>Rto-Adopt</td>\n",
       "      <td>NaN</td>\n",
       "      <td>Cat</td>\n",
       "      <td>Neutered Male</td>\n",
       "      <td>2 years</td>\n",
       "      <td>Domestic Shorthair Mix</td>\n",
       "      <td>Brown Tabby/White</td>\n",
       "      <td>2</td>\n",
       "      <td>years</td>\n",
       "      <td>2</td>\n",
       "    </tr>\n",
       "    <tr>\n",
       "      <th>1</th>\n",
       "      <td>A776359</td>\n",
       "      <td>Gizmo</td>\n",
       "      <td>2018-07-18 16:02:00</td>\n",
       "      <td>Jul 2018</td>\n",
       "      <td>2017-07-12</td>\n",
       "      <td>Adoption</td>\n",
       "      <td>NaN</td>\n",
       "      <td>Dog</td>\n",
       "      <td>Neutered Male</td>\n",
       "      <td>1 year</td>\n",
       "      <td>Chihuahua Shorthair Mix</td>\n",
       "      <td>White/Brown</td>\n",
       "      <td>1</td>\n",
       "      <td>year</td>\n",
       "      <td>1</td>\n",
       "    </tr>\n",
       "    <tr>\n",
       "      <th>2</th>\n",
       "      <td>A821648</td>\n",
       "      <td>NaN</td>\n",
       "      <td>2020-08-16 11:38:00</td>\n",
       "      <td>Aug 2020</td>\n",
       "      <td>2019-08-16</td>\n",
       "      <td>Euthanasia</td>\n",
       "      <td>NaN</td>\n",
       "      <td>Other</td>\n",
       "      <td>Unknown</td>\n",
       "      <td>1 year</td>\n",
       "      <td>Raccoon</td>\n",
       "      <td>Gray</td>\n",
       "      <td>1</td>\n",
       "      <td>year</td>\n",
       "      <td>1</td>\n",
       "    </tr>\n",
       "    <tr>\n",
       "      <th>3</th>\n",
       "      <td>A720371</td>\n",
       "      <td>Moose</td>\n",
       "      <td>2016-02-13 17:59:00</td>\n",
       "      <td>Feb 2016</td>\n",
       "      <td>2015-10-08</td>\n",
       "      <td>Adoption</td>\n",
       "      <td>NaN</td>\n",
       "      <td>Dog</td>\n",
       "      <td>Neutered Male</td>\n",
       "      <td>4 months</td>\n",
       "      <td>Anatol Shepherd/Labrador Retriever</td>\n",
       "      <td>Buff</td>\n",
       "      <td>4</td>\n",
       "      <td>months</td>\n",
       "      <td>4</td>\n",
       "    </tr>\n",
       "    <tr>\n",
       "      <th>4</th>\n",
       "      <td>A674754</td>\n",
       "      <td>NaN</td>\n",
       "      <td>2014-03-18 11:47:00</td>\n",
       "      <td>Mar 2014</td>\n",
       "      <td>2014-03-12</td>\n",
       "      <td>Transfer</td>\n",
       "      <td>Partner</td>\n",
       "      <td>Cat</td>\n",
       "      <td>Intact Male</td>\n",
       "      <td>6 days</td>\n",
       "      <td>Domestic Shorthair Mix</td>\n",
       "      <td>Orange Tabby</td>\n",
       "      <td>6</td>\n",
       "      <td>days</td>\n",
       "      <td>6</td>\n",
       "    </tr>\n",
       "  </tbody>\n",
       "</table>\n",
       "</div>"
      ],
      "text/plain": [
       "  Animal ID   Name            DateTime MonthYear Date of Birth Outcome Type  \\\n",
       "0   A794011  Chunk 2019-05-08 18:20:00  May 2019    2017-05-02    Rto-Adopt   \n",
       "1   A776359  Gizmo 2018-07-18 16:02:00  Jul 2018    2017-07-12     Adoption   \n",
       "2   A821648    NaN 2020-08-16 11:38:00  Aug 2020    2019-08-16   Euthanasia   \n",
       "3   A720371  Moose 2016-02-13 17:59:00  Feb 2016    2015-10-08     Adoption   \n",
       "4   A674754    NaN 2014-03-18 11:47:00  Mar 2014    2014-03-12     Transfer   \n",
       "\n",
       "  Outcome Subtype Animal Type Sex upon Outcome Age upon Outcome  \\\n",
       "0             NaN         Cat    Neutered Male          2 years   \n",
       "1             NaN         Dog    Neutered Male           1 year   \n",
       "2             NaN       Other          Unknown           1 year   \n",
       "3             NaN         Dog    Neutered Male         4 months   \n",
       "4         Partner         Cat      Intact Male           6 days   \n",
       "\n",
       "                                Breed              Color (age unit,) age unit  \\\n",
       "0              Domestic Shorthair Mix  Brown Tabby/White           2    years   \n",
       "1             Chihuahua Shorthair Mix        White/Brown           1     year   \n",
       "2                             Raccoon               Gray           1     year   \n",
       "3  Anatol Shepherd/Labrador Retriever               Buff           4   months   \n",
       "4              Domestic Shorthair Mix       Orange Tabby           6     days   \n",
       "\n",
       "  age number  \n",
       "0          2  \n",
       "1          1  \n",
       "2          1  \n",
       "3          4  \n",
       "4          6  "
      ]
     },
     "execution_count": 44,
     "metadata": {},
     "output_type": "execute_result"
    }
   ],
   "source": [
    "df[\"age unit\"] = df[\"Age upon Outcome\"].map(lambda x: str(x).split()[1])\n",
    "df[\"age number\"] = df[\"Age upon Outcome\"].map(lambda x: str(x).split()[0])\n",
    "df.head()"
   ]
  },
  {
   "cell_type": "code",
   "execution_count": null,
   "metadata": {},
   "outputs": [],
   "source": [
    "# Sanity check\n",
    "df.head()"
   ]
  },
  {
   "cell_type": "code",
   "execution_count": 45,
   "metadata": {},
   "outputs": [
    {
     "name": "stdout",
     "output_type": "stream",
     "text": [
      "<class 'pandas.core.frame.DataFrame'>\n",
      "Int64Index: 137092 entries, 0 to 137096\n",
      "Data columns (total 15 columns):\n",
      " #   Column            Non-Null Count   Dtype         \n",
      "---  ------            --------------   -----         \n",
      " 0   Animal ID         137092 non-null  object        \n",
      " 1   Name              96093 non-null   object        \n",
      " 2   DateTime          137092 non-null  datetime64[ns]\n",
      " 3   MonthYear         137092 non-null  object        \n",
      " 4   Date of Birth     137092 non-null  datetime64[ns]\n",
      " 5   Outcome Type      137069 non-null  object        \n",
      " 6   Outcome Subtype   62649 non-null   object        \n",
      " 7   Animal Type       137092 non-null  object        \n",
      " 8   Sex upon Outcome  137091 non-null  object        \n",
      " 9   Age upon Outcome  137092 non-null  object        \n",
      " 10  Breed             137092 non-null  object        \n",
      " 11  Color             137092 non-null  object        \n",
      " 12  (age unit,)       137092 non-null  object        \n",
      " 13  age unit          137092 non-null  object        \n",
      " 14  age number        137092 non-null  object        \n",
      "dtypes: datetime64[ns](2), object(13)\n",
      "memory usage: 21.7+ MB\n"
     ]
    }
   ],
   "source": [
    "# Check the data types really quick...\n",
    "df.info()"
   ]
  },
  {
   "cell_type": "code",
   "execution_count": 46,
   "metadata": {},
   "outputs": [
    {
     "data": {
      "text/plain": [
       "0         2\n",
       "1         1\n",
       "2         1\n",
       "3         4\n",
       "4         6\n",
       "         ..\n",
       "137092    2\n",
       "137093    2\n",
       "137094    1\n",
       "137095    8\n",
       "137096    3\n",
       "Name: age number, Length: 137092, dtype: int64"
      ]
     },
     "execution_count": 46,
     "metadata": {},
     "output_type": "execute_result"
    }
   ],
   "source": [
    "# Need to make our Age Number actual numbers! \n",
    "df['age number'].astype(int)\n",
    "# But this throws an error!"
   ]
  },
  {
   "cell_type": "markdown",
   "metadata": {},
   "source": [
    "Alas! Nulls! Let's check out these null values:"
   ]
  },
  {
   "cell_type": "code",
   "execution_count": null,
   "metadata": {},
   "outputs": [],
   "source": [
    "# Check how many nulls we have in our original Age Upon Outcome column"
   ]
  },
  {
   "cell_type": "markdown",
   "metadata": {
    "heading_collapsed": true
   },
   "source": [
    "### Handling Missing Data"
   ]
  },
  {
   "cell_type": "markdown",
   "metadata": {
    "hidden": true
   },
   "source": [
    "A lot of the times we'll have missing information in our data set. This can sometimes be troublesome in what we're trying to do."
   ]
  },
  {
   "cell_type": "markdown",
   "metadata": {
    "hidden": true
   },
   "source": [
    "There are a few strategies we can choose from and they each have their pros/cons:\n",
    "\n",
    "- **Fill with a Relevant Value**\n",
    "    - If we know what the nulls 'should' be, easy to fill them with that value\n",
    "    - For numbers, perhaps the null indicates a 0\n",
    "    - Or, for string columns, might be easier to handle if we fill with \"Missing\" or \"Unknown\"\n",
    "- **Fill with a Reasonable Value**\n",
    "    - For numeric data, it might be acceptable to fill with a measure of central tendency (mean or median)\n",
    "    - For categorical/string data, might be acceptable to fill with the most common (mode)\n",
    "    - But beware! Filling in missing values can lead to you drawing incorrect conclusions. If most of the data from a column are missing, it's going to appear that the value you filled it in with is more common that it actually was!\n",
    "- **Specify Missing Data**\n",
    "    - If you plan to fill in missing values, it might make sense to specify that the data was originally missing by creating a new indicator column\n",
    "    - This can be helpful when you suspect that the fact the data was missing could be important for an analysis.\n",
    "- **Drop Missing Data**\n",
    "    - While you should try to keep as much relevant data as possible, sometimes the other methods don't make as much sense and it's better to remove or **drop** the missing data\n",
    "    - We typically drop missing data if very little data would be lost and/or trying to fill in the values wouldn't make sense for our use case\n",
    "\n"
   ]
  },
  {
   "cell_type": "markdown",
   "metadata": {},
   "source": [
    "So: what should we do about the missing Age upon Outcome data?\n",
    "\n",
    "<br>\n",
    "<details>\n",
    "    <summary>Possible Answer</summary>\n",
    "\n",
    "- It's probably okay to drop the missing data in this case - not very many rows with nulls in that column\n",
    "- Should look at the percentage of the total (aka what percentage of rows would be dropped) to justify this decision\n",
    "    \n",
    "    \n",
    "Note! There is a Date of Birth column that does not have any nulls! But we're specifically trying to use Age Upon Outcome here because it helps us practice some other tactics for cleaning data.\n",
    "    \n",
    "</details>\n",
    "\n"
   ]
  },
  {
   "cell_type": "code",
   "execution_count": 52,
   "metadata": {},
   "outputs": [],
   "source": [
    "# No matter what - better to make this change on a COPY of the dataframe\n",
    "df_clean = df.dropna(subset=[\"Age upon Outcome\"])\n",
    "df_clean['Age upon Outcome'].isna().sum()\n",
    "df_clean['age number'] = df_clean['age number'].astype(int)"
   ]
  },
  {
   "cell_type": "code",
   "execution_count": null,
   "metadata": {},
   "outputs": [],
   "source": [
    "# Code here to handle nulls"
   ]
  },
  {
   "cell_type": "code",
   "execution_count": null,
   "metadata": {},
   "outputs": [],
   "source": [
    "# Cool - now we can make our Age Number column an integer"
   ]
  },
  {
   "cell_type": "code",
   "execution_count": 53,
   "metadata": {},
   "outputs": [
    {
     "name": "stdout",
     "output_type": "stream",
     "text": [
      "<class 'pandas.core.frame.DataFrame'>\n",
      "Int64Index: 137092 entries, 0 to 137096\n",
      "Data columns (total 15 columns):\n",
      " #   Column            Non-Null Count   Dtype         \n",
      "---  ------            --------------   -----         \n",
      " 0   Animal ID         137092 non-null  object        \n",
      " 1   Name              96093 non-null   object        \n",
      " 2   DateTime          137092 non-null  datetime64[ns]\n",
      " 3   MonthYear         137092 non-null  object        \n",
      " 4   Date of Birth     137092 non-null  datetime64[ns]\n",
      " 5   Outcome Type      137069 non-null  object        \n",
      " 6   Outcome Subtype   62649 non-null   object        \n",
      " 7   Animal Type       137092 non-null  object        \n",
      " 8   Sex upon Outcome  137091 non-null  object        \n",
      " 9   Age upon Outcome  137092 non-null  object        \n",
      " 10  Breed             137092 non-null  object        \n",
      " 11  Color             137092 non-null  object        \n",
      " 12  (age unit,)       137092 non-null  object        \n",
      " 13  age unit          137092 non-null  object        \n",
      " 14  age number        137092 non-null  int64         \n",
      "dtypes: datetime64[ns](2), int64(1), object(12)\n",
      "memory usage: 16.7+ MB\n"
     ]
    }
   ],
   "source": [
    "# Sanity check\n",
    "df_clean.info()"
   ]
  },
  {
   "cell_type": "markdown",
   "metadata": {},
   "source": [
    "Now let's do something about those Age Values..."
   ]
  },
  {
   "cell_type": "markdown",
   "metadata": {
    "heading_collapsed": true,
    "hidden": true
   },
   "source": [
    "### Map, Apply and Applymap"
   ]
  },
  {
   "cell_type": "markdown",
   "metadata": {
    "hidden": true
   },
   "source": [
    "Resource: https://www.geeksforgeeks.org/difference-between-map-applymap-and-apply-methods-in-pandas/\n",
    "\n",
    "The `.map()` method applies a transformation to every entry in the Series. This transformation  \"maps\" each value from the Series to a new value. A transformation can be defined by a function, Series, or dictionary.\n",
    "\n",
    "The `.apply()` method is similar to the `.map()` method for Series, but can only take in functions. \n",
    "\n",
    "The `.applymap()` method only works on DataFrames, and applies the same transformation to every element (cell) of that DataFrame."
   ]
  },
  {
   "cell_type": "code",
   "execution_count": 47,
   "metadata": {},
   "outputs": [],
   "source": [
    "# Providing this dictionary to capture age values in # days (not perfect)\n",
    "age_vals = {\n",
    "    'years': 365,\n",
    "    'year': 365,\n",
    "    'months': 30,\n",
    "    'month': 30,\n",
    "    'weeks': 7,\n",
    "    'week': 7,\n",
    "    'days': 1,\n",
    "    'day': 1\n",
    "}"
   ]
  },
  {
   "cell_type": "code",
   "execution_count": 57,
   "metadata": {},
   "outputs": [],
   "source": [
    "# Now, how can we transform the Age Value column to capture these values?\n",
    "df_clean[\"Age in Days\"] = df_clean[\"age unit\"].map(age_vals)"
   ]
  },
  {
   "cell_type": "code",
   "execution_count": 61,
   "metadata": {},
   "outputs": [
    {
     "ename": "KeyError",
     "evalue": "\"['Animal Type'] not found in axis\"",
     "output_type": "error",
     "traceback": [
      "\u001b[0;31m---------------------------------------------------------------------------\u001b[0m",
      "\u001b[0;31mKeyError\u001b[0m                                  Traceback (most recent call last)",
      "\u001b[0;32m<ipython-input-61-89afb49cac36>\u001b[0m in \u001b[0;36m<module>\u001b[0;34m\u001b[0m\n\u001b[0;32m----> 1\u001b[0;31m \u001b[0mdf_clean\u001b[0m\u001b[0;34m.\u001b[0m\u001b[0mdrop\u001b[0m\u001b[0;34m(\u001b[0m\u001b[0mlabels\u001b[0m\u001b[0;34m=\u001b[0m\u001b[0;34m\"Animal Type\"\u001b[0m\u001b[0;34m,\u001b[0m\u001b[0minplace\u001b[0m\u001b[0;34m=\u001b[0m\u001b[0;32mTrue\u001b[0m\u001b[0;34m)\u001b[0m\u001b[0;34m\u001b[0m\u001b[0;34m\u001b[0m\u001b[0m\n\u001b[0m",
      "\u001b[0;32m/Applications/anaconda3/envs/learn-env/lib/python3.8/site-packages/pandas/core/frame.py\u001b[0m in \u001b[0;36mdrop\u001b[0;34m(self, labels, axis, index, columns, level, inplace, errors)\u001b[0m\n\u001b[1;32m   4161\u001b[0m                 \u001b[0mweight\u001b[0m  \u001b[0;36m1.0\u001b[0m     \u001b[0;36m0.8\u001b[0m\u001b[0;34m\u001b[0m\u001b[0;34m\u001b[0m\u001b[0m\n\u001b[1;32m   4162\u001b[0m         \"\"\"\n\u001b[0;32m-> 4163\u001b[0;31m         return super().drop(\n\u001b[0m\u001b[1;32m   4164\u001b[0m             \u001b[0mlabels\u001b[0m\u001b[0;34m=\u001b[0m\u001b[0mlabels\u001b[0m\u001b[0;34m,\u001b[0m\u001b[0;34m\u001b[0m\u001b[0;34m\u001b[0m\u001b[0m\n\u001b[1;32m   4165\u001b[0m             \u001b[0maxis\u001b[0m\u001b[0;34m=\u001b[0m\u001b[0maxis\u001b[0m\u001b[0;34m,\u001b[0m\u001b[0;34m\u001b[0m\u001b[0;34m\u001b[0m\u001b[0m\n",
      "\u001b[0;32m/Applications/anaconda3/envs/learn-env/lib/python3.8/site-packages/pandas/core/generic.py\u001b[0m in \u001b[0;36mdrop\u001b[0;34m(self, labels, axis, index, columns, level, inplace, errors)\u001b[0m\n\u001b[1;32m   3885\u001b[0m         \u001b[0;32mfor\u001b[0m \u001b[0maxis\u001b[0m\u001b[0;34m,\u001b[0m \u001b[0mlabels\u001b[0m \u001b[0;32min\u001b[0m \u001b[0maxes\u001b[0m\u001b[0;34m.\u001b[0m\u001b[0mitems\u001b[0m\u001b[0;34m(\u001b[0m\u001b[0;34m)\u001b[0m\u001b[0;34m:\u001b[0m\u001b[0;34m\u001b[0m\u001b[0;34m\u001b[0m\u001b[0m\n\u001b[1;32m   3886\u001b[0m             \u001b[0;32mif\u001b[0m \u001b[0mlabels\u001b[0m \u001b[0;32mis\u001b[0m \u001b[0;32mnot\u001b[0m \u001b[0;32mNone\u001b[0m\u001b[0;34m:\u001b[0m\u001b[0;34m\u001b[0m\u001b[0;34m\u001b[0m\u001b[0m\n\u001b[0;32m-> 3887\u001b[0;31m                 \u001b[0mobj\u001b[0m \u001b[0;34m=\u001b[0m \u001b[0mobj\u001b[0m\u001b[0;34m.\u001b[0m\u001b[0m_drop_axis\u001b[0m\u001b[0;34m(\u001b[0m\u001b[0mlabels\u001b[0m\u001b[0;34m,\u001b[0m \u001b[0maxis\u001b[0m\u001b[0;34m,\u001b[0m \u001b[0mlevel\u001b[0m\u001b[0;34m=\u001b[0m\u001b[0mlevel\u001b[0m\u001b[0;34m,\u001b[0m \u001b[0merrors\u001b[0m\u001b[0;34m=\u001b[0m\u001b[0merrors\u001b[0m\u001b[0;34m)\u001b[0m\u001b[0;34m\u001b[0m\u001b[0;34m\u001b[0m\u001b[0m\n\u001b[0m\u001b[1;32m   3888\u001b[0m \u001b[0;34m\u001b[0m\u001b[0m\n\u001b[1;32m   3889\u001b[0m         \u001b[0;32mif\u001b[0m \u001b[0minplace\u001b[0m\u001b[0;34m:\u001b[0m\u001b[0;34m\u001b[0m\u001b[0;34m\u001b[0m\u001b[0m\n",
      "\u001b[0;32m/Applications/anaconda3/envs/learn-env/lib/python3.8/site-packages/pandas/core/generic.py\u001b[0m in \u001b[0;36m_drop_axis\u001b[0;34m(self, labels, axis, level, errors)\u001b[0m\n\u001b[1;32m   3919\u001b[0m                 \u001b[0mnew_axis\u001b[0m \u001b[0;34m=\u001b[0m \u001b[0maxis\u001b[0m\u001b[0;34m.\u001b[0m\u001b[0mdrop\u001b[0m\u001b[0;34m(\u001b[0m\u001b[0mlabels\u001b[0m\u001b[0;34m,\u001b[0m \u001b[0mlevel\u001b[0m\u001b[0;34m=\u001b[0m\u001b[0mlevel\u001b[0m\u001b[0;34m,\u001b[0m \u001b[0merrors\u001b[0m\u001b[0;34m=\u001b[0m\u001b[0merrors\u001b[0m\u001b[0;34m)\u001b[0m\u001b[0;34m\u001b[0m\u001b[0;34m\u001b[0m\u001b[0m\n\u001b[1;32m   3920\u001b[0m             \u001b[0;32melse\u001b[0m\u001b[0;34m:\u001b[0m\u001b[0;34m\u001b[0m\u001b[0;34m\u001b[0m\u001b[0m\n\u001b[0;32m-> 3921\u001b[0;31m                 \u001b[0mnew_axis\u001b[0m \u001b[0;34m=\u001b[0m \u001b[0maxis\u001b[0m\u001b[0;34m.\u001b[0m\u001b[0mdrop\u001b[0m\u001b[0;34m(\u001b[0m\u001b[0mlabels\u001b[0m\u001b[0;34m,\u001b[0m \u001b[0merrors\u001b[0m\u001b[0;34m=\u001b[0m\u001b[0merrors\u001b[0m\u001b[0;34m)\u001b[0m\u001b[0;34m\u001b[0m\u001b[0;34m\u001b[0m\u001b[0m\n\u001b[0m\u001b[1;32m   3922\u001b[0m             \u001b[0mresult\u001b[0m \u001b[0;34m=\u001b[0m \u001b[0mself\u001b[0m\u001b[0;34m.\u001b[0m\u001b[0mreindex\u001b[0m\u001b[0;34m(\u001b[0m\u001b[0;34m**\u001b[0m\u001b[0;34m{\u001b[0m\u001b[0maxis_name\u001b[0m\u001b[0;34m:\u001b[0m \u001b[0mnew_axis\u001b[0m\u001b[0;34m}\u001b[0m\u001b[0;34m)\u001b[0m\u001b[0;34m\u001b[0m\u001b[0;34m\u001b[0m\u001b[0m\n\u001b[1;32m   3923\u001b[0m \u001b[0;34m\u001b[0m\u001b[0m\n",
      "\u001b[0;32m/Applications/anaconda3/envs/learn-env/lib/python3.8/site-packages/pandas/core/indexes/base.py\u001b[0m in \u001b[0;36mdrop\u001b[0;34m(self, labels, errors)\u001b[0m\n\u001b[1;32m   5280\u001b[0m         \u001b[0;32mif\u001b[0m \u001b[0mmask\u001b[0m\u001b[0;34m.\u001b[0m\u001b[0many\u001b[0m\u001b[0;34m(\u001b[0m\u001b[0;34m)\u001b[0m\u001b[0;34m:\u001b[0m\u001b[0;34m\u001b[0m\u001b[0;34m\u001b[0m\u001b[0m\n\u001b[1;32m   5281\u001b[0m             \u001b[0;32mif\u001b[0m \u001b[0merrors\u001b[0m \u001b[0;34m!=\u001b[0m \u001b[0;34m\"ignore\"\u001b[0m\u001b[0;34m:\u001b[0m\u001b[0;34m\u001b[0m\u001b[0;34m\u001b[0m\u001b[0m\n\u001b[0;32m-> 5282\u001b[0;31m                 \u001b[0;32mraise\u001b[0m \u001b[0mKeyError\u001b[0m\u001b[0;34m(\u001b[0m\u001b[0;34mf\"{labels[mask]} not found in axis\"\u001b[0m\u001b[0;34m)\u001b[0m\u001b[0;34m\u001b[0m\u001b[0;34m\u001b[0m\u001b[0m\n\u001b[0m\u001b[1;32m   5283\u001b[0m             \u001b[0mindexer\u001b[0m \u001b[0;34m=\u001b[0m \u001b[0mindexer\u001b[0m\u001b[0;34m[\u001b[0m\u001b[0;34m~\u001b[0m\u001b[0mmask\u001b[0m\u001b[0;34m]\u001b[0m\u001b[0;34m\u001b[0m\u001b[0;34m\u001b[0m\u001b[0m\n\u001b[1;32m   5284\u001b[0m         \u001b[0;32mreturn\u001b[0m \u001b[0mself\u001b[0m\u001b[0;34m.\u001b[0m\u001b[0mdelete\u001b[0m\u001b[0;34m(\u001b[0m\u001b[0mindexer\u001b[0m\u001b[0;34m)\u001b[0m\u001b[0;34m\u001b[0m\u001b[0;34m\u001b[0m\u001b[0m\n",
      "\u001b[0;31mKeyError\u001b[0m: \"['Animal Type'] not found in axis\""
     ]
    }
   ],
   "source": [
    "df_clean.drop(labels=\"Animal Type\",inplace=True)"
   ]
  },
  {
   "cell_type": "code",
   "execution_count": 56,
   "metadata": {},
   "outputs": [
    {
     "data": {
      "text/html": [
       "<div>\n",
       "<style scoped>\n",
       "    .dataframe tbody tr th:only-of-type {\n",
       "        vertical-align: middle;\n",
       "    }\n",
       "\n",
       "    .dataframe tbody tr th {\n",
       "        vertical-align: top;\n",
       "    }\n",
       "\n",
       "    .dataframe thead th {\n",
       "        text-align: right;\n",
       "    }\n",
       "</style>\n",
       "<table border=\"1\" class=\"dataframe\">\n",
       "  <thead>\n",
       "    <tr style=\"text-align: right;\">\n",
       "      <th></th>\n",
       "      <th>Animal ID</th>\n",
       "      <th>Name</th>\n",
       "      <th>DateTime</th>\n",
       "      <th>MonthYear</th>\n",
       "      <th>Date of Birth</th>\n",
       "      <th>Outcome Type</th>\n",
       "      <th>Outcome Subtype</th>\n",
       "      <th>Animal Type</th>\n",
       "      <th>Sex upon Outcome</th>\n",
       "      <th>Age upon Outcome</th>\n",
       "      <th>Breed</th>\n",
       "      <th>Color</th>\n",
       "      <th>(age unit,)</th>\n",
       "      <th>age unit</th>\n",
       "      <th>age number</th>\n",
       "      <th>Age in Days</th>\n",
       "    </tr>\n",
       "  </thead>\n",
       "  <tbody>\n",
       "    <tr>\n",
       "      <th>0</th>\n",
       "      <td>A794011</td>\n",
       "      <td>Chunk</td>\n",
       "      <td>2019-05-08 18:20:00</td>\n",
       "      <td>May 2019</td>\n",
       "      <td>2017-05-02</td>\n",
       "      <td>Rto-Adopt</td>\n",
       "      <td>NaN</td>\n",
       "      <td>Cat</td>\n",
       "      <td>Neutered Male</td>\n",
       "      <td>2 years</td>\n",
       "      <td>Domestic Shorthair Mix</td>\n",
       "      <td>Brown Tabby/White</td>\n",
       "      <td>2</td>\n",
       "      <td>years</td>\n",
       "      <td>2</td>\n",
       "      <td>NaN</td>\n",
       "    </tr>\n",
       "    <tr>\n",
       "      <th>1</th>\n",
       "      <td>A776359</td>\n",
       "      <td>Gizmo</td>\n",
       "      <td>2018-07-18 16:02:00</td>\n",
       "      <td>Jul 2018</td>\n",
       "      <td>2017-07-12</td>\n",
       "      <td>Adoption</td>\n",
       "      <td>NaN</td>\n",
       "      <td>Dog</td>\n",
       "      <td>Neutered Male</td>\n",
       "      <td>1 year</td>\n",
       "      <td>Chihuahua Shorthair Mix</td>\n",
       "      <td>White/Brown</td>\n",
       "      <td>1</td>\n",
       "      <td>year</td>\n",
       "      <td>1</td>\n",
       "      <td>NaN</td>\n",
       "    </tr>\n",
       "    <tr>\n",
       "      <th>2</th>\n",
       "      <td>A821648</td>\n",
       "      <td>NaN</td>\n",
       "      <td>2020-08-16 11:38:00</td>\n",
       "      <td>Aug 2020</td>\n",
       "      <td>2019-08-16</td>\n",
       "      <td>Euthanasia</td>\n",
       "      <td>NaN</td>\n",
       "      <td>Other</td>\n",
       "      <td>Unknown</td>\n",
       "      <td>1 year</td>\n",
       "      <td>Raccoon</td>\n",
       "      <td>Gray</td>\n",
       "      <td>1</td>\n",
       "      <td>year</td>\n",
       "      <td>1</td>\n",
       "      <td>NaN</td>\n",
       "    </tr>\n",
       "    <tr>\n",
       "      <th>3</th>\n",
       "      <td>A720371</td>\n",
       "      <td>Moose</td>\n",
       "      <td>2016-02-13 17:59:00</td>\n",
       "      <td>Feb 2016</td>\n",
       "      <td>2015-10-08</td>\n",
       "      <td>Adoption</td>\n",
       "      <td>NaN</td>\n",
       "      <td>Dog</td>\n",
       "      <td>Neutered Male</td>\n",
       "      <td>4 months</td>\n",
       "      <td>Anatol Shepherd/Labrador Retriever</td>\n",
       "      <td>Buff</td>\n",
       "      <td>4</td>\n",
       "      <td>months</td>\n",
       "      <td>4</td>\n",
       "      <td>NaN</td>\n",
       "    </tr>\n",
       "    <tr>\n",
       "      <th>4</th>\n",
       "      <td>A674754</td>\n",
       "      <td>NaN</td>\n",
       "      <td>2014-03-18 11:47:00</td>\n",
       "      <td>Mar 2014</td>\n",
       "      <td>2014-03-12</td>\n",
       "      <td>Transfer</td>\n",
       "      <td>Partner</td>\n",
       "      <td>Cat</td>\n",
       "      <td>Intact Male</td>\n",
       "      <td>6 days</td>\n",
       "      <td>Domestic Shorthair Mix</td>\n",
       "      <td>Orange Tabby</td>\n",
       "      <td>6</td>\n",
       "      <td>days</td>\n",
       "      <td>6</td>\n",
       "      <td>NaN</td>\n",
       "    </tr>\n",
       "  </tbody>\n",
       "</table>\n",
       "</div>"
      ],
      "text/plain": [
       "  Animal ID   Name            DateTime MonthYear Date of Birth Outcome Type  \\\n",
       "0   A794011  Chunk 2019-05-08 18:20:00  May 2019    2017-05-02    Rto-Adopt   \n",
       "1   A776359  Gizmo 2018-07-18 16:02:00  Jul 2018    2017-07-12     Adoption   \n",
       "2   A821648    NaN 2020-08-16 11:38:00  Aug 2020    2019-08-16   Euthanasia   \n",
       "3   A720371  Moose 2016-02-13 17:59:00  Feb 2016    2015-10-08     Adoption   \n",
       "4   A674754    NaN 2014-03-18 11:47:00  Mar 2014    2014-03-12     Transfer   \n",
       "\n",
       "  Outcome Subtype Animal Type Sex upon Outcome Age upon Outcome  \\\n",
       "0             NaN         Cat    Neutered Male          2 years   \n",
       "1             NaN         Dog    Neutered Male           1 year   \n",
       "2             NaN       Other          Unknown           1 year   \n",
       "3             NaN         Dog    Neutered Male         4 months   \n",
       "4         Partner         Cat      Intact Male           6 days   \n",
       "\n",
       "                                Breed              Color (age unit,) age unit  \\\n",
       "0              Domestic Shorthair Mix  Brown Tabby/White           2    years   \n",
       "1             Chihuahua Shorthair Mix        White/Brown           1     year   \n",
       "2                             Raccoon               Gray           1     year   \n",
       "3  Anatol Shepherd/Labrador Retriever               Buff           4   months   \n",
       "4              Domestic Shorthair Mix       Orange Tabby           6     days   \n",
       "\n",
       "   age number  Age in Days  \n",
       "0           2          NaN  \n",
       "1           1          NaN  \n",
       "2           1          NaN  \n",
       "3           4          NaN  \n",
       "4           6          NaN  "
      ]
     },
     "execution_count": 56,
     "metadata": {},
     "output_type": "execute_result"
    }
   ],
   "source": [
    "\n",
    "# Sanity check\n",
    "df_clean.head()"
   ]
  },
  {
   "cell_type": "code",
   "execution_count": 63,
   "metadata": {},
   "outputs": [],
   "source": [
    "# Now, let's make a new Age in Days column!\n",
    "df_clean[\"Age in Days\"] = df_clean[\"Age in Days\"] * df_clean[\"age number\"]"
   ]
  },
  {
   "cell_type": "code",
   "execution_count": 64,
   "metadata": {},
   "outputs": [
    {
     "data": {
      "text/html": [
       "<div>\n",
       "<style scoped>\n",
       "    .dataframe tbody tr th:only-of-type {\n",
       "        vertical-align: middle;\n",
       "    }\n",
       "\n",
       "    .dataframe tbody tr th {\n",
       "        vertical-align: top;\n",
       "    }\n",
       "\n",
       "    .dataframe thead th {\n",
       "        text-align: right;\n",
       "    }\n",
       "</style>\n",
       "<table border=\"1\" class=\"dataframe\">\n",
       "  <thead>\n",
       "    <tr style=\"text-align: right;\">\n",
       "      <th></th>\n",
       "      <th>Animal ID</th>\n",
       "      <th>Name</th>\n",
       "      <th>DateTime</th>\n",
       "      <th>MonthYear</th>\n",
       "      <th>Date of Birth</th>\n",
       "      <th>Outcome Type</th>\n",
       "      <th>Outcome Subtype</th>\n",
       "      <th>Animal Type</th>\n",
       "      <th>Sex upon Outcome</th>\n",
       "      <th>Age upon Outcome</th>\n",
       "      <th>Breed</th>\n",
       "      <th>Color</th>\n",
       "      <th>(age unit,)</th>\n",
       "      <th>age unit</th>\n",
       "      <th>age number</th>\n",
       "      <th>Age in Days</th>\n",
       "    </tr>\n",
       "  </thead>\n",
       "  <tbody>\n",
       "    <tr>\n",
       "      <th>0</th>\n",
       "      <td>A794011</td>\n",
       "      <td>Chunk</td>\n",
       "      <td>2019-05-08 18:20:00</td>\n",
       "      <td>May 2019</td>\n",
       "      <td>2017-05-02</td>\n",
       "      <td>Rto-Adopt</td>\n",
       "      <td>NaN</td>\n",
       "      <td>Cat</td>\n",
       "      <td>Neutered Male</td>\n",
       "      <td>2 years</td>\n",
       "      <td>Domestic Shorthair Mix</td>\n",
       "      <td>Brown Tabby/White</td>\n",
       "      <td>2</td>\n",
       "      <td>years</td>\n",
       "      <td>2</td>\n",
       "      <td>730</td>\n",
       "    </tr>\n",
       "    <tr>\n",
       "      <th>1</th>\n",
       "      <td>A776359</td>\n",
       "      <td>Gizmo</td>\n",
       "      <td>2018-07-18 16:02:00</td>\n",
       "      <td>Jul 2018</td>\n",
       "      <td>2017-07-12</td>\n",
       "      <td>Adoption</td>\n",
       "      <td>NaN</td>\n",
       "      <td>Dog</td>\n",
       "      <td>Neutered Male</td>\n",
       "      <td>1 year</td>\n",
       "      <td>Chihuahua Shorthair Mix</td>\n",
       "      <td>White/Brown</td>\n",
       "      <td>1</td>\n",
       "      <td>year</td>\n",
       "      <td>1</td>\n",
       "      <td>365</td>\n",
       "    </tr>\n",
       "    <tr>\n",
       "      <th>2</th>\n",
       "      <td>A821648</td>\n",
       "      <td>NaN</td>\n",
       "      <td>2020-08-16 11:38:00</td>\n",
       "      <td>Aug 2020</td>\n",
       "      <td>2019-08-16</td>\n",
       "      <td>Euthanasia</td>\n",
       "      <td>NaN</td>\n",
       "      <td>Other</td>\n",
       "      <td>Unknown</td>\n",
       "      <td>1 year</td>\n",
       "      <td>Raccoon</td>\n",
       "      <td>Gray</td>\n",
       "      <td>1</td>\n",
       "      <td>year</td>\n",
       "      <td>1</td>\n",
       "      <td>365</td>\n",
       "    </tr>\n",
       "    <tr>\n",
       "      <th>3</th>\n",
       "      <td>A720371</td>\n",
       "      <td>Moose</td>\n",
       "      <td>2016-02-13 17:59:00</td>\n",
       "      <td>Feb 2016</td>\n",
       "      <td>2015-10-08</td>\n",
       "      <td>Adoption</td>\n",
       "      <td>NaN</td>\n",
       "      <td>Dog</td>\n",
       "      <td>Neutered Male</td>\n",
       "      <td>4 months</td>\n",
       "      <td>Anatol Shepherd/Labrador Retriever</td>\n",
       "      <td>Buff</td>\n",
       "      <td>4</td>\n",
       "      <td>months</td>\n",
       "      <td>4</td>\n",
       "      <td>120</td>\n",
       "    </tr>\n",
       "    <tr>\n",
       "      <th>4</th>\n",
       "      <td>A674754</td>\n",
       "      <td>NaN</td>\n",
       "      <td>2014-03-18 11:47:00</td>\n",
       "      <td>Mar 2014</td>\n",
       "      <td>2014-03-12</td>\n",
       "      <td>Transfer</td>\n",
       "      <td>Partner</td>\n",
       "      <td>Cat</td>\n",
       "      <td>Intact Male</td>\n",
       "      <td>6 days</td>\n",
       "      <td>Domestic Shorthair Mix</td>\n",
       "      <td>Orange Tabby</td>\n",
       "      <td>6</td>\n",
       "      <td>days</td>\n",
       "      <td>6</td>\n",
       "      <td>6</td>\n",
       "    </tr>\n",
       "  </tbody>\n",
       "</table>\n",
       "</div>"
      ],
      "text/plain": [
       "  Animal ID   Name            DateTime MonthYear Date of Birth Outcome Type  \\\n",
       "0   A794011  Chunk 2019-05-08 18:20:00  May 2019    2017-05-02    Rto-Adopt   \n",
       "1   A776359  Gizmo 2018-07-18 16:02:00  Jul 2018    2017-07-12     Adoption   \n",
       "2   A821648    NaN 2020-08-16 11:38:00  Aug 2020    2019-08-16   Euthanasia   \n",
       "3   A720371  Moose 2016-02-13 17:59:00  Feb 2016    2015-10-08     Adoption   \n",
       "4   A674754    NaN 2014-03-18 11:47:00  Mar 2014    2014-03-12     Transfer   \n",
       "\n",
       "  Outcome Subtype Animal Type Sex upon Outcome Age upon Outcome  \\\n",
       "0             NaN         Cat    Neutered Male          2 years   \n",
       "1             NaN         Dog    Neutered Male           1 year   \n",
       "2             NaN       Other          Unknown           1 year   \n",
       "3             NaN         Dog    Neutered Male         4 months   \n",
       "4         Partner         Cat      Intact Male           6 days   \n",
       "\n",
       "                                Breed              Color (age unit,) age unit  \\\n",
       "0              Domestic Shorthair Mix  Brown Tabby/White           2    years   \n",
       "1             Chihuahua Shorthair Mix        White/Brown           1     year   \n",
       "2                             Raccoon               Gray           1     year   \n",
       "3  Anatol Shepherd/Labrador Retriever               Buff           4   months   \n",
       "4              Domestic Shorthair Mix       Orange Tabby           6     days   \n",
       "\n",
       "   age number  Age in Days  \n",
       "0           2          730  \n",
       "1           1          365  \n",
       "2           1          365  \n",
       "3           4          120  \n",
       "4           6            6  "
      ]
     },
     "execution_count": 64,
     "metadata": {},
     "output_type": "execute_result"
    }
   ],
   "source": [
    "# Sanity check\n",
    "df_clean.head()"
   ]
  },
  {
   "cell_type": "code",
   "execution_count": 66,
   "metadata": {},
   "outputs": [
    {
     "data": {
      "image/png": "[encoded data removed]",
      "text/plain": [
       "<Figure size 432x288 with 1 Axes>"
      ]
     },
     "metadata": {
      "needs_background": "light"
     },
     "output_type": "display_data"
    }
   ],
   "source": [
    "# Now we can visualize!\n",
    "df_clean.plot(x=\"Age in Days\",kind=\"hist\");"
   ]
  },
  {
   "cell_type": "code",
   "execution_count": null,
   "metadata": {},
   "outputs": [],
   "source": [
    "# Of course, we could also try...\n",
    "# Use .dt.normalize on the DateTime column to access the date!"
   ]
  },
  {
   "cell_type": "code",
   "execution_count": null,
   "metadata": {},
   "outputs": [],
   "source": [
    "# Check it\n",
    "df_clean.head()"
   ]
  },
  {
   "cell_type": "markdown",
   "metadata": {
    "heading_collapsed": true,
    "hidden": true
   },
   "source": [
    "## Question 2: Are Most of The Animals Already Fixed?"
   ]
  },
  {
   "cell_type": "markdown",
   "metadata": {
    "hidden": true
   },
   "source": [
    "Let's use `.map()` to turn the Sex upon Outcome column into a category with three values: Fixed, Intact, or Unknown. "
   ]
  },
  {
   "cell_type": "code",
   "execution_count": 29,
   "metadata": {
    "hidden": true
   },
   "outputs": [
    {
     "data": {
      "text/plain": [
       "array(['Neutered Male', 'Unknown', 'Intact Male', 'Spayed Female',\n",
       "       'Intact Female', nan], dtype=object)"
      ]
     },
     "execution_count": 29,
     "metadata": {},
     "output_type": "execute_result"
    }
   ],
   "source": [
    "# Check out what's currently in that column\n",
    "df_clean[\"Sex upon Outcome\"].unique()"
   ]
  },
  {
   "cell_type": "code",
   "execution_count": 30,
   "metadata": {
    "hidden": true
   },
   "outputs": [],
   "source": [
    "# We can write a function for this\n",
    "def fixed_mapper(status):\n",
    "    \"\"\"\n",
    "    takes in the current status of animals and outputs whether they have been fixed\n",
    "    \"\"\"\n",
    "    if status in [\"Neutered Male\",'Spayed Female']:\n",
    "        return \"fixed\"\n",
    "    elif status in [\"Intact Male\",'Intact Female']:\n",
    "        return \"Intact\"\n",
    "    else:\n",
    "        return \"Unknown\"\n"
   ]
  },
  {
   "cell_type": "code",
   "execution_count": 71,
   "metadata": {},
   "outputs": [],
   "source": [
    "fix_status = {\"Neutered Male\":\"fixed\",'Spayed Female':\"fixed\",\"Intact Male\":\"Incact\",'Intact Female':\"Intact\",\"Unknown\":\"Unknown\"}"
   ]
  },
  {
   "cell_type": "code",
   "execution_count": 69,
   "metadata": {},
   "outputs": [
    {
     "data": {
      "text/plain": [
       "Neutered Male    48299\n",
       "Spayed Female    43578\n",
       "Intact Male      17408\n",
       "Intact Female    16904\n",
       "Unknown          10902\n",
       "Name: Sex upon Outcome, dtype: int64"
      ]
     },
     "execution_count": 69,
     "metadata": {},
     "output_type": "execute_result"
    }
   ],
   "source": [
    "df_clean[\"Sex upon Outcome\"].value_counts()"
   ]
  },
  {
   "cell_type": "code",
   "execution_count": 72,
   "metadata": {
    "hidden": true
   },
   "outputs": [],
   "source": [
    "# Now let's use it!\n",
    "df_clean[\"Grouped Sex Upon Outcome\"] = df_clean[\"Sex upon Outcome\"].map(fix_status)"
   ]
  },
  {
   "cell_type": "code",
   "execution_count": 73,
   "metadata": {},
   "outputs": [
    {
     "data": {
      "text/plain": [
       "Animal ID                       0\n",
       "Name                        40999\n",
       "DateTime                        0\n",
       "MonthYear                       0\n",
       "Date of Birth                   0\n",
       "Outcome Type                   23\n",
       "Outcome Subtype             74443\n",
       "Animal Type                     0\n",
       "Sex upon Outcome                1\n",
       "Age upon Outcome                0\n",
       "Breed                           0\n",
       "Color                           0\n",
       "(age unit,)                     0\n",
       "age unit                        0\n",
       "age number                      0\n",
       "Age in Days                     0\n",
       "Grouped Sex Upon Outcome        1\n",
       "dtype: int64"
      ]
     },
     "execution_count": 73,
     "metadata": {},
     "output_type": "execute_result"
    }
   ],
   "source": [
    "# We had a null in that column before, did that change?\n",
    "df_clean.isna().sum()"
   ]
  },
  {
   "cell_type": "code",
   "execution_count": null,
   "metadata": {},
   "outputs": [],
   "source": [
    "# Visualize it!"
   ]
  },
  {
   "cell_type": "code",
   "execution_count": 74,
   "metadata": {},
   "outputs": [
    {
     "data": {
      "image/png": "[encoded data removed]",
      "text/plain": [
       "<Figure size 432x288 with 1 Axes>"
      ]
     },
     "metadata": {},
     "output_type": "display_data"
    }
   ],
   "source": [
    "df_clean[\"Grouped Sex Upon Outcome\"].value_counts().plot(kind=\"pie\");"
   ]
  },
  {
   "cell_type": "code",
   "execution_count": 75,
   "metadata": {},
   "outputs": [
    {
     "data": {
      "image/png": "[encoded data removed]",
      "text/plain": [
       "<Figure size 432x288 with 1 Axes>"
      ]
     },
     "metadata": {
      "needs_background": "light"
     },
     "output_type": "display_data"
    }
   ],
   "source": [
    "df_clean[\"Grouped Sex Upon Outcome\"].value_counts().plot(kind=\"bar\");"
   ]
  },
  {
   "cell_type": "markdown",
   "metadata": {},
   "source": [
    "## A Quick Aside - for Lambda Functions!"
   ]
  },
  {
   "cell_type": "markdown",
   "metadata": {
    "hidden": true
   },
   "source": [
    "Simple functions can be defined just when you need them, when you would call the function. These are called **lambda functions**. These functions are **anonymous** and disappear immediately after use.\n",
    "\n",
    "These can often be great as map transformation functions, but they can only do so much.\n",
    "\n",
    "Let's use them to fill some nulls!"
   ]
  },
  {
   "cell_type": "code",
   "execution_count": 76,
   "metadata": {},
   "outputs": [
    {
     "data": {
      "text/plain": [
       "Animal ID                       0\n",
       "Name                        40999\n",
       "DateTime                        0\n",
       "MonthYear                       0\n",
       "Date of Birth                   0\n",
       "Outcome Type                   23\n",
       "Outcome Subtype             74443\n",
       "Animal Type                     0\n",
       "Sex upon Outcome                1\n",
       "Age upon Outcome                0\n",
       "Breed                           0\n",
       "Color                           0\n",
       "(age unit,)                     0\n",
       "age unit                        0\n",
       "age number                      0\n",
       "Age in Days                     0\n",
       "Grouped Sex Upon Outcome        1\n",
       "dtype: int64"
      ]
     },
     "execution_count": 76,
     "metadata": {},
     "output_type": "execute_result"
    }
   ],
   "source": [
    "# Check which columns still have null values\n",
    "df_clean.isna().sum()"
   ]
  },
  {
   "cell_type": "markdown",
   "metadata": {},
   "source": [
    "Let's look at Outcome Subtype - a lot of nulls, why do we think that is? What would be an appropriate strategy here?\n",
    "\n",
    "<br>\n",
    "<details>\n",
    "    <summary>Possible Answer</summary>\n",
    "\n",
    "- Might be that the Type doesn't have Subtypes, or that there hasn't been an outcome yet\n",
    "- Would be appropriate to fill with N/A\n",
    "    \n",
    "</details>\n",
    "\n",
    "\n",
    "\n"
   ]
  },
  {
   "cell_type": "code",
   "execution_count": 77,
   "metadata": {},
   "outputs": [
    {
     "data": {
      "text/plain": [
       "N/A                    74443\n",
       "Partner                33258\n",
       "Foster                 12395\n",
       "Rabies Risk             3980\n",
       "Suffering               3465\n",
       "SCRP                    3211\n",
       "Snr                     2894\n",
       "In Kennel                670\n",
       "Aggressive               569\n",
       "Offsite                  445\n",
       "In Foster                329\n",
       "Medical                  325\n",
       "Out State                320\n",
       "At Vet                   295\n",
       "Behavior                 158\n",
       "Enroute                   89\n",
       "Field                     78\n",
       "Court/Investigation       37\n",
       "Underage                  36\n",
       "In Surgery                27\n",
       "Customer S                17\n",
       "Possible Theft            16\n",
       "Barn                      12\n",
       "Prc                       11\n",
       "Emergency                  6\n",
       "Emer                       5\n",
       "In State                   1\n",
       "Name: Outcome Subtype, dtype: int64"
      ]
     },
     "execution_count": 77,
     "metadata": {},
     "output_type": "execute_result"
    }
   ],
   "source": [
    "# Let's try it!\n",
    "# Note: need to use x is np.nan as our if condition\n",
    "df_clean[\"Outcome Subtype\"] = df_clean[\"Outcome Subtype\"].map(lambda x: \"N/A\" if x is np.nan else x )\n",
    "df_clean[\"Outcome Subtype\"].value_counts()"
   ]
  },
  {
   "cell_type": "code",
   "execution_count": null,
   "metadata": {},
   "outputs": [],
   "source": [
    "# BUT! Pandas has a function for this\n"
   ]
  },
  {
   "cell_type": "code",
   "execution_count": 78,
   "metadata": {},
   "outputs": [
    {
     "data": {
      "text/plain": [
       "array(['Rto-Adopt', 'Adoption', 'Euthanasia', 'Transfer',\n",
       "       'Return to Owner', 'Died', 'Disposal', 'Missing', 'Relocate', nan],\n",
       "      dtype=object)"
      ]
     },
     "execution_count": 78,
     "metadata": {},
     "output_type": "execute_result"
    }
   ],
   "source": [
    "# We can use one of these methods to fill the nulls for Outcome Type too\n",
    "# Explore the column here\n",
    "df_clean['Outcome Type'].unique()"
   ]
  },
  {
   "cell_type": "code",
   "execution_count": 79,
   "metadata": {},
   "outputs": [
    {
     "data": {
      "text/plain": [
       "0             N/A\n",
       "1             N/A\n",
       "2             N/A\n",
       "3             N/A\n",
       "4         Partner\n",
       "           ...   \n",
       "137092        N/A\n",
       "137093    Partner\n",
       "137094     Foster\n",
       "137095     Foster\n",
       "137096        N/A\n",
       "Name: Outcome Subtype, Length: 137092, dtype: object"
      ]
     },
     "execution_count": 79,
     "metadata": {},
     "output_type": "execute_result"
    }
   ],
   "source": [
    "# Fill nulls here\n",
    "df_clean[\"Outcome Subtype\"].fillna(\"N/A\")"
   ]
  },
  {
   "cell_type": "code",
   "execution_count": 80,
   "metadata": {},
   "outputs": [
    {
     "data": {
      "text/plain": [
       "Animal ID                       0\n",
       "Name                        40999\n",
       "DateTime                        0\n",
       "MonthYear                       0\n",
       "Date of Birth                   0\n",
       "Outcome Type                   23\n",
       "Outcome Subtype                 0\n",
       "Animal Type                     0\n",
       "Sex upon Outcome                1\n",
       "Age upon Outcome                0\n",
       "Breed                           0\n",
       "Color                           0\n",
       "(age unit,)                     0\n",
       "age unit                        0\n",
       "age number                      0\n",
       "Age in Days                     0\n",
       "Grouped Sex Upon Outcome        1\n",
       "dtype: int64"
      ]
     },
     "execution_count": 80,
     "metadata": {},
     "output_type": "execute_result"
    }
   ],
   "source": [
    "# Sanity Check\n",
    "df_clean.isna().sum()"
   ]
  },
  {
   "cell_type": "markdown",
   "metadata": {},
   "source": [
    "### One More Strategy: Build a Missing Indicator\n",
    "\n",
    "While this doesn't directly answer a question we have, let's go ahead and build a new column to indicate where Name is null (just to demo).\n",
    "\n",
    "This can be quite useful when modeling, if the data being missing actually means something!"
   ]
  },
  {
   "cell_type": "code",
   "execution_count": 40,
   "metadata": {},
   "outputs": [
    {
     "name": "stderr",
     "output_type": "stream",
     "text": [
      "<ipython-input-40-bb402b102116>:2: SettingWithCopyWarning: \n",
      "A value is trying to be set on a copy of a slice from a DataFrame.\n",
      "Try using .loc[row_indexer,col_indexer] = value instead\n",
      "\n",
      "See the caveats in the documentation: https://pandas.pydata.org/pandas-docs/stable/user_guide/indexing.html#returning-a-view-versus-a-copy\n",
      "  df_clean[\"Name Missing\"] = df_clean[\"Name\"].isna()\n"
     ]
    }
   ],
   "source": [
    "# Quick pandas method for this\n",
    "df_clean[\"Name Missing\"] = df_clean[\"Name\"].isna()"
   ]
  },
  {
   "cell_type": "markdown",
   "metadata": {},
   "source": [
    "Might be more interesting to build an indicator of where \"Mix\" is in the Breed column"
   ]
  },
  {
   "cell_type": "code",
   "execution_count": 41,
   "metadata": {},
   "outputs": [
    {
     "name": "stderr",
     "output_type": "stream",
     "text": [
      "<ipython-input-41-1f4f6233d298>:2: SettingWithCopyWarning: \n",
      "A value is trying to be set on a copy of a slice from a DataFrame.\n",
      "Try using .loc[row_indexer,col_indexer] = value instead\n",
      "\n",
      "See the caveats in the documentation: https://pandas.pydata.org/pandas-docs/stable/user_guide/indexing.html#returning-a-view-versus-a-copy\n",
      "  df_clean[\"Mix Breed\"] = df_clean[\"Breed\"].str.contains(\"Mix\")\n"
     ]
    }
   ],
   "source": [
    "# Let's do it\n",
    "df_clean[\"Mix Breed\"] = df_clean[\"Breed\"].str.contains(\"Mix\")"
   ]
  },
  {
   "cell_type": "code",
   "execution_count": 42,
   "metadata": {},
   "outputs": [
    {
     "data": {
      "text/html": [
       "<div>\n",
       "<style scoped>\n",
       "    .dataframe tbody tr th:only-of-type {\n",
       "        vertical-align: middle;\n",
       "    }\n",
       "\n",
       "    .dataframe tbody tr th {\n",
       "        vertical-align: top;\n",
       "    }\n",
       "\n",
       "    .dataframe thead th {\n",
       "        text-align: right;\n",
       "    }\n",
       "</style>\n",
       "<table border=\"1\" class=\"dataframe\">\n",
       "  <thead>\n",
       "    <tr style=\"text-align: right;\">\n",
       "      <th></th>\n",
       "      <th>Animal ID</th>\n",
       "      <th>Name</th>\n",
       "      <th>DateTime</th>\n",
       "      <th>MonthYear</th>\n",
       "      <th>Date of Birth</th>\n",
       "      <th>Outcome Type</th>\n",
       "      <th>Outcome Subtype</th>\n",
       "      <th>Animal Type</th>\n",
       "      <th>Sex upon Outcome</th>\n",
       "      <th>Age upon Outcome</th>\n",
       "      <th>Breed</th>\n",
       "      <th>Color</th>\n",
       "      <th>Age Number</th>\n",
       "      <th>Age Unit</th>\n",
       "      <th>Age in Days</th>\n",
       "      <th>Grouped Sex Upon Outcome</th>\n",
       "      <th>Name Missing</th>\n",
       "      <th>Mix Breed</th>\n",
       "    </tr>\n",
       "  </thead>\n",
       "  <tbody>\n",
       "    <tr>\n",
       "      <th>0</th>\n",
       "      <td>A794011</td>\n",
       "      <td>Chunk</td>\n",
       "      <td>2019-05-08 18:20:00</td>\n",
       "      <td>May 2019</td>\n",
       "      <td>2017-05-02</td>\n",
       "      <td>Rto-Adopt</td>\n",
       "      <td>N/A</td>\n",
       "      <td>Cat</td>\n",
       "      <td>Neutered Male</td>\n",
       "      <td>2 years</td>\n",
       "      <td>Domestic Shorthair Mix</td>\n",
       "      <td>Brown Tabby/White</td>\n",
       "      <td>2</td>\n",
       "      <td>years</td>\n",
       "      <td>730</td>\n",
       "      <td>fixed</td>\n",
       "      <td>False</td>\n",
       "      <td>True</td>\n",
       "    </tr>\n",
       "    <tr>\n",
       "      <th>1</th>\n",
       "      <td>A776359</td>\n",
       "      <td>Gizmo</td>\n",
       "      <td>2018-07-18 16:02:00</td>\n",
       "      <td>Jul 2018</td>\n",
       "      <td>2017-07-12</td>\n",
       "      <td>Adoption</td>\n",
       "      <td>N/A</td>\n",
       "      <td>Dog</td>\n",
       "      <td>Neutered Male</td>\n",
       "      <td>1 year</td>\n",
       "      <td>Chihuahua Shorthair Mix</td>\n",
       "      <td>White/Brown</td>\n",
       "      <td>1</td>\n",
       "      <td>year</td>\n",
       "      <td>365</td>\n",
       "      <td>fixed</td>\n",
       "      <td>False</td>\n",
       "      <td>True</td>\n",
       "    </tr>\n",
       "    <tr>\n",
       "      <th>2</th>\n",
       "      <td>A821648</td>\n",
       "      <td>NaN</td>\n",
       "      <td>2020-08-16 11:38:00</td>\n",
       "      <td>Aug 2020</td>\n",
       "      <td>2019-08-16</td>\n",
       "      <td>Euthanasia</td>\n",
       "      <td>N/A</td>\n",
       "      <td>Other</td>\n",
       "      <td>Unknown</td>\n",
       "      <td>1 year</td>\n",
       "      <td>Raccoon</td>\n",
       "      <td>Gray</td>\n",
       "      <td>1</td>\n",
       "      <td>year</td>\n",
       "      <td>365</td>\n",
       "      <td>Unknown</td>\n",
       "      <td>True</td>\n",
       "      <td>False</td>\n",
       "    </tr>\n",
       "    <tr>\n",
       "      <th>3</th>\n",
       "      <td>A720371</td>\n",
       "      <td>Moose</td>\n",
       "      <td>2016-02-13 17:59:00</td>\n",
       "      <td>Feb 2016</td>\n",
       "      <td>2015-10-08</td>\n",
       "      <td>Adoption</td>\n",
       "      <td>N/A</td>\n",
       "      <td>Dog</td>\n",
       "      <td>Neutered Male</td>\n",
       "      <td>4 months</td>\n",
       "      <td>Anatol Shepherd/Labrador Retriever</td>\n",
       "      <td>Buff</td>\n",
       "      <td>4</td>\n",
       "      <td>months</td>\n",
       "      <td>120</td>\n",
       "      <td>fixed</td>\n",
       "      <td>False</td>\n",
       "      <td>False</td>\n",
       "    </tr>\n",
       "    <tr>\n",
       "      <th>4</th>\n",
       "      <td>A674754</td>\n",
       "      <td>NaN</td>\n",
       "      <td>2014-03-18 11:47:00</td>\n",
       "      <td>Mar 2014</td>\n",
       "      <td>2014-03-12</td>\n",
       "      <td>Transfer</td>\n",
       "      <td>Partner</td>\n",
       "      <td>Cat</td>\n",
       "      <td>Intact Male</td>\n",
       "      <td>6 days</td>\n",
       "      <td>Domestic Shorthair Mix</td>\n",
       "      <td>Orange Tabby</td>\n",
       "      <td>6</td>\n",
       "      <td>days</td>\n",
       "      <td>6</td>\n",
       "      <td>Intact</td>\n",
       "      <td>True</td>\n",
       "      <td>True</td>\n",
       "    </tr>\n",
       "  </tbody>\n",
       "</table>\n",
       "</div>"
      ],
      "text/plain": [
       "  Animal ID   Name            DateTime MonthYear Date of Birth Outcome Type  \\\n",
       "0   A794011  Chunk 2019-05-08 18:20:00  May 2019    2017-05-02    Rto-Adopt   \n",
       "1   A776359  Gizmo 2018-07-18 16:02:00  Jul 2018    2017-07-12     Adoption   \n",
       "2   A821648    NaN 2020-08-16 11:38:00  Aug 2020    2019-08-16   Euthanasia   \n",
       "3   A720371  Moose 2016-02-13 17:59:00  Feb 2016    2015-10-08     Adoption   \n",
       "4   A674754    NaN 2014-03-18 11:47:00  Mar 2014    2014-03-12     Transfer   \n",
       "\n",
       "  Outcome Subtype Animal Type Sex upon Outcome Age upon Outcome  \\\n",
       "0             N/A         Cat    Neutered Male          2 years   \n",
       "1             N/A         Dog    Neutered Male           1 year   \n",
       "2             N/A       Other          Unknown           1 year   \n",
       "3             N/A         Dog    Neutered Male         4 months   \n",
       "4         Partner         Cat      Intact Male           6 days   \n",
       "\n",
       "                                Breed              Color  Age Number Age Unit  \\\n",
       "0              Domestic Shorthair Mix  Brown Tabby/White           2    years   \n",
       "1             Chihuahua Shorthair Mix        White/Brown           1     year   \n",
       "2                             Raccoon               Gray           1     year   \n",
       "3  Anatol Shepherd/Labrador Retriever               Buff           4   months   \n",
       "4              Domestic Shorthair Mix       Orange Tabby           6     days   \n",
       "\n",
       "   Age in Days Grouped Sex Upon Outcome  Name Missing  Mix Breed  \n",
       "0          730                    fixed         False       True  \n",
       "1          365                    fixed         False       True  \n",
       "2          365                  Unknown          True      False  \n",
       "3          120                    fixed         False      False  \n",
       "4            6                   Intact          True       True  "
      ]
     },
     "execution_count": 42,
     "metadata": {},
     "output_type": "execute_result"
    }
   ],
   "source": [
    "# Sanity check\n",
    "df_clean.head()"
   ]
  },
  {
   "cell_type": "markdown",
   "metadata": {
    "heading_collapsed": true,
    "hidden": true
   },
   "source": [
    "## Comparing Before and After"
   ]
  },
  {
   "cell_type": "markdown",
   "metadata": {
    "hidden": true
   },
   "source": [
    "We can now see all the work we did!"
   ]
  },
  {
   "cell_type": "code",
   "execution_count": 43,
   "metadata": {
    "hidden": true
   },
   "outputs": [
    {
     "name": "stdout",
     "output_type": "stream",
     "text": [
      "<class 'pandas.core.frame.DataFrame'>\n",
      "RangeIndex: 137097 entries, 0 to 137096\n",
      "Data columns (total 14 columns):\n",
      " #   Column            Non-Null Count   Dtype         \n",
      "---  ------            --------------   -----         \n",
      " 0   Animal ID         137097 non-null  object        \n",
      " 1   Name              96095 non-null   object        \n",
      " 2   DateTime          137097 non-null  datetime64[ns]\n",
      " 3   MonthYear         137097 non-null  object        \n",
      " 4   Date of Birth     137097 non-null  datetime64[ns]\n",
      " 5   Outcome Type      137073 non-null  object        \n",
      " 6   Outcome Subtype   62653 non-null   object        \n",
      " 7   Animal Type       137097 non-null  object        \n",
      " 8   Sex upon Outcome  137095 non-null  object        \n",
      " 9   Age upon Outcome  137092 non-null  object        \n",
      " 10  Breed             137097 non-null  object        \n",
      " 11  Color             137097 non-null  object        \n",
      " 12  Age Number        137092 non-null  object        \n",
      " 13  Age Unit          137092 non-null  object        \n",
      "dtypes: datetime64[ns](2), object(12)\n",
      "memory usage: 14.6+ MB\n"
     ]
    }
   ],
   "source": [
    "# Original data\n",
    "df.info()"
   ]
  },
  {
   "cell_type": "code",
   "execution_count": 44,
   "metadata": {
    "hidden": true,
    "scrolled": false
   },
   "outputs": [
    {
     "name": "stdout",
     "output_type": "stream",
     "text": [
      "<class 'pandas.core.frame.DataFrame'>\n",
      "Int64Index: 137092 entries, 0 to 137096\n",
      "Data columns (total 18 columns):\n",
      " #   Column                    Non-Null Count   Dtype         \n",
      "---  ------                    --------------   -----         \n",
      " 0   Animal ID                 137092 non-null  object        \n",
      " 1   Name                      96093 non-null   object        \n",
      " 2   DateTime                  137092 non-null  datetime64[ns]\n",
      " 3   MonthYear                 137092 non-null  object        \n",
      " 4   Date of Birth             137092 non-null  datetime64[ns]\n",
      " 5   Outcome Type              137069 non-null  object        \n",
      " 6   Outcome Subtype           137092 non-null  object        \n",
      " 7   Animal Type               137092 non-null  object        \n",
      " 8   Sex upon Outcome          137091 non-null  object        \n",
      " 9   Age upon Outcome          137092 non-null  object        \n",
      " 10  Breed                     137092 non-null  object        \n",
      " 11  Color                     137092 non-null  object        \n",
      " 12  Age Number                137092 non-null  int64         \n",
      " 13  Age Unit                  137092 non-null  object        \n",
      " 14  Age in Days               137092 non-null  int64         \n",
      " 15  Grouped Sex Upon Outcome  137092 non-null  object        \n",
      " 16  Name Missing              137092 non-null  bool          \n",
      " 17  Mix Breed                 137092 non-null  bool          \n",
      "dtypes: bool(2), datetime64[ns](2), int64(2), object(12)\n",
      "memory usage: 18.0+ MB\n"
     ]
    }
   ],
   "source": [
    "# Missing data cleaned\n",
    "df_clean.info()"
   ]
  },
  {
   "cell_type": "markdown",
   "metadata": {
    "heading_collapsed": true
   },
   "source": [
    "# Level Up: `.applymap()`"
   ]
  },
  {
   "cell_type": "markdown",
   "metadata": {
    "hidden": true
   },
   "source": [
    "`.applymap()` is used to apply a transformation to each element of a DataFrame."
   ]
  },
  {
   "cell_type": "code",
   "execution_count": 45,
   "metadata": {
    "hidden": true,
    "scrolled": false
   },
   "outputs": [
    {
     "data": {
      "text/html": [
       "<div>\n",
       "<style scoped>\n",
       "    .dataframe tbody tr th:only-of-type {\n",
       "        vertical-align: middle;\n",
       "    }\n",
       "\n",
       "    .dataframe tbody tr th {\n",
       "        vertical-align: top;\n",
       "    }\n",
       "\n",
       "    .dataframe thead th {\n",
       "        text-align: right;\n",
       "    }\n",
       "</style>\n",
       "<table border=\"1\" class=\"dataframe\">\n",
       "  <thead>\n",
       "    <tr style=\"text-align: right;\">\n",
       "      <th></th>\n",
       "      <th>Animal ID</th>\n",
       "      <th>Name</th>\n",
       "      <th>DateTime</th>\n",
       "      <th>MonthYear</th>\n",
       "      <th>Date of Birth</th>\n",
       "      <th>Outcome Type</th>\n",
       "      <th>Outcome Subtype</th>\n",
       "      <th>Animal Type</th>\n",
       "      <th>Sex upon Outcome</th>\n",
       "      <th>Age upon Outcome</th>\n",
       "      <th>Breed</th>\n",
       "      <th>Color</th>\n",
       "      <th>Age Number</th>\n",
       "      <th>Age Unit</th>\n",
       "    </tr>\n",
       "  </thead>\n",
       "  <tbody>\n",
       "    <tr>\n",
       "      <th>0</th>\n",
       "      <td>&lt;class 'str'&gt;</td>\n",
       "      <td>&lt;class 'str'&gt;</td>\n",
       "      <td>&lt;class 'pandas._libs.tslibs.timestamps.Timesta...</td>\n",
       "      <td>&lt;class 'str'&gt;</td>\n",
       "      <td>&lt;class 'pandas._libs.tslibs.timestamps.Timesta...</td>\n",
       "      <td>&lt;class 'str'&gt;</td>\n",
       "      <td>&lt;class 'float'&gt;</td>\n",
       "      <td>&lt;class 'str'&gt;</td>\n",
       "      <td>&lt;class 'str'&gt;</td>\n",
       "      <td>&lt;class 'str'&gt;</td>\n",
       "      <td>&lt;class 'str'&gt;</td>\n",
       "      <td>&lt;class 'str'&gt;</td>\n",
       "      <td>&lt;class 'str'&gt;</td>\n",
       "      <td>&lt;class 'str'&gt;</td>\n",
       "    </tr>\n",
       "    <tr>\n",
       "      <th>1</th>\n",
       "      <td>&lt;class 'str'&gt;</td>\n",
       "      <td>&lt;class 'str'&gt;</td>\n",
       "      <td>&lt;class 'pandas._libs.tslibs.timestamps.Timesta...</td>\n",
       "      <td>&lt;class 'str'&gt;</td>\n",
       "      <td>&lt;class 'pandas._libs.tslibs.timestamps.Timesta...</td>\n",
       "      <td>&lt;class 'str'&gt;</td>\n",
       "      <td>&lt;class 'float'&gt;</td>\n",
       "      <td>&lt;class 'str'&gt;</td>\n",
       "      <td>&lt;class 'str'&gt;</td>\n",
       "      <td>&lt;class 'str'&gt;</td>\n",
       "      <td>&lt;class 'str'&gt;</td>\n",
       "      <td>&lt;class 'str'&gt;</td>\n",
       "      <td>&lt;class 'str'&gt;</td>\n",
       "      <td>&lt;class 'str'&gt;</td>\n",
       "    </tr>\n",
       "    <tr>\n",
       "      <th>2</th>\n",
       "      <td>&lt;class 'str'&gt;</td>\n",
       "      <td>&lt;class 'float'&gt;</td>\n",
       "      <td>&lt;class 'pandas._libs.tslibs.timestamps.Timesta...</td>\n",
       "      <td>&lt;class 'str'&gt;</td>\n",
       "      <td>&lt;class 'pandas._libs.tslibs.timestamps.Timesta...</td>\n",
       "      <td>&lt;class 'str'&gt;</td>\n",
       "      <td>&lt;class 'float'&gt;</td>\n",
       "      <td>&lt;class 'str'&gt;</td>\n",
       "      <td>&lt;class 'str'&gt;</td>\n",
       "      <td>&lt;class 'str'&gt;</td>\n",
       "      <td>&lt;class 'str'&gt;</td>\n",
       "      <td>&lt;class 'str'&gt;</td>\n",
       "      <td>&lt;class 'str'&gt;</td>\n",
       "      <td>&lt;class 'str'&gt;</td>\n",
       "    </tr>\n",
       "    <tr>\n",
       "      <th>3</th>\n",
       "      <td>&lt;class 'str'&gt;</td>\n",
       "      <td>&lt;class 'str'&gt;</td>\n",
       "      <td>&lt;class 'pandas._libs.tslibs.timestamps.Timesta...</td>\n",
       "      <td>&lt;class 'str'&gt;</td>\n",
       "      <td>&lt;class 'pandas._libs.tslibs.timestamps.Timesta...</td>\n",
       "      <td>&lt;class 'str'&gt;</td>\n",
       "      <td>&lt;class 'float'&gt;</td>\n",
       "      <td>&lt;class 'str'&gt;</td>\n",
       "      <td>&lt;class 'str'&gt;</td>\n",
       "      <td>&lt;class 'str'&gt;</td>\n",
       "      <td>&lt;class 'str'&gt;</td>\n",
       "      <td>&lt;class 'str'&gt;</td>\n",
       "      <td>&lt;class 'str'&gt;</td>\n",
       "      <td>&lt;class 'str'&gt;</td>\n",
       "    </tr>\n",
       "    <tr>\n",
       "      <th>4</th>\n",
       "      <td>&lt;class 'str'&gt;</td>\n",
       "      <td>&lt;class 'float'&gt;</td>\n",
       "      <td>&lt;class 'pandas._libs.tslibs.timestamps.Timesta...</td>\n",
       "      <td>&lt;class 'str'&gt;</td>\n",
       "      <td>&lt;class 'pandas._libs.tslibs.timestamps.Timesta...</td>\n",
       "      <td>&lt;class 'str'&gt;</td>\n",
       "      <td>&lt;class 'str'&gt;</td>\n",
       "      <td>&lt;class 'str'&gt;</td>\n",
       "      <td>&lt;class 'str'&gt;</td>\n",
       "      <td>&lt;class 'str'&gt;</td>\n",
       "      <td>&lt;class 'str'&gt;</td>\n",
       "      <td>&lt;class 'str'&gt;</td>\n",
       "      <td>&lt;class 'str'&gt;</td>\n",
       "      <td>&lt;class 'str'&gt;</td>\n",
       "    </tr>\n",
       "  </tbody>\n",
       "</table>\n",
       "</div>"
      ],
      "text/plain": [
       "       Animal ID             Name  \\\n",
       "0  <class 'str'>    <class 'str'>   \n",
       "1  <class 'str'>    <class 'str'>   \n",
       "2  <class 'str'>  <class 'float'>   \n",
       "3  <class 'str'>    <class 'str'>   \n",
       "4  <class 'str'>  <class 'float'>   \n",
       "\n",
       "                                            DateTime      MonthYear  \\\n",
       "0  <class 'pandas._libs.tslibs.timestamps.Timesta...  <class 'str'>   \n",
       "1  <class 'pandas._libs.tslibs.timestamps.Timesta...  <class 'str'>   \n",
       "2  <class 'pandas._libs.tslibs.timestamps.Timesta...  <class 'str'>   \n",
       "3  <class 'pandas._libs.tslibs.timestamps.Timesta...  <class 'str'>   \n",
       "4  <class 'pandas._libs.tslibs.timestamps.Timesta...  <class 'str'>   \n",
       "\n",
       "                                       Date of Birth   Outcome Type  \\\n",
       "0  <class 'pandas._libs.tslibs.timestamps.Timesta...  <class 'str'>   \n",
       "1  <class 'pandas._libs.tslibs.timestamps.Timesta...  <class 'str'>   \n",
       "2  <class 'pandas._libs.tslibs.timestamps.Timesta...  <class 'str'>   \n",
       "3  <class 'pandas._libs.tslibs.timestamps.Timesta...  <class 'str'>   \n",
       "4  <class 'pandas._libs.tslibs.timestamps.Timesta...  <class 'str'>   \n",
       "\n",
       "   Outcome Subtype    Animal Type Sex upon Outcome Age upon Outcome  \\\n",
       "0  <class 'float'>  <class 'str'>    <class 'str'>    <class 'str'>   \n",
       "1  <class 'float'>  <class 'str'>    <class 'str'>    <class 'str'>   \n",
       "2  <class 'float'>  <class 'str'>    <class 'str'>    <class 'str'>   \n",
       "3  <class 'float'>  <class 'str'>    <class 'str'>    <class 'str'>   \n",
       "4    <class 'str'>  <class 'str'>    <class 'str'>    <class 'str'>   \n",
       "\n",
       "           Breed          Color     Age Number       Age Unit  \n",
       "0  <class 'str'>  <class 'str'>  <class 'str'>  <class 'str'>  \n",
       "1  <class 'str'>  <class 'str'>  <class 'str'>  <class 'str'>  \n",
       "2  <class 'str'>  <class 'str'>  <class 'str'>  <class 'str'>  \n",
       "3  <class 'str'>  <class 'str'>  <class 'str'>  <class 'str'>  \n",
       "4  <class 'str'>  <class 'str'>  <class 'str'>  <class 'str'>  "
      ]
     },
     "execution_count": 45,
     "metadata": {},
     "output_type": "execute_result"
    }
   ],
   "source": [
    "# This line will apply the base `type()` function to \n",
    "# all entries of the DataFrame.\n",
    "\n",
    "df.applymap(type).head()"
   ]
  },
  {
   "cell_type": "markdown",
   "metadata": {
    "heading_collapsed": true
   },
   "source": [
    "# Level Up: Faster NumPy Methods"
   ]
  },
  {
   "cell_type": "markdown",
   "metadata": {
    "hidden": true
   },
   "source": [
    "In general, `np.where()` and `np.select()` are faster than `map()`. This won't matter too much with reasonably-sized data but can be a consideration for ***big data***."
   ]
  },
  {
   "cell_type": "code",
   "execution_count": null,
   "metadata": {},
   "outputs": [],
   "source": [
    "# Let's copy the dataframe to play around with\n",
    "level_up = df_clean.copy()"
   ]
  },
  {
   "cell_type": "code",
   "execution_count": null,
   "metadata": {},
   "outputs": [],
   "source": [
    "level_up.head()"
   ]
  },
  {
   "cell_type": "markdown",
   "metadata": {
    "heading_collapsed": true,
    "hidden": true
   },
   "source": [
    "## NumPy's `where()` Method"
   ]
  },
  {
   "cell_type": "code",
   "execution_count": null,
   "metadata": {
    "hidden": true,
    "scrolled": false
   },
   "outputs": [],
   "source": [
    "# First pass a condition\n",
    "level_up['Adopted1'] = np.where(level_up['Outcome Type'] == 'Adoption',\n",
    "                                True,  # What to fill with if the condition is true\n",
    "                                False)  # What to fill with if not true\n",
    "level_up.head()"
   ]
  },
  {
   "cell_type": "code",
   "execution_count": null,
   "metadata": {},
   "outputs": [],
   "source": [
    "level_up['Adopted2'] = level_up['Outcome Type'].map(lambda x: True if x == 'Adoption' else False)\n",
    "level_up.head()"
   ]
  },
  {
   "cell_type": "code",
   "execution_count": null,
   "metadata": {
    "hidden": true,
    "scrolled": true
   },
   "outputs": [],
   "source": [
    "# Let's time how long it takes np.where() to run by running it multiple times\n",
    "%timeit np.where(level_up['Outcome Type'] == 'Adoption', True, False)"
   ]
  },
  {
   "cell_type": "code",
   "execution_count": null,
   "metadata": {},
   "outputs": [],
   "source": [
    "# Let's time how long it takes .map() to run by running it multiple times\n",
    "%timeit level_up['Outcome Type'].map(lambda x: True if x == 'Adoption' else False)"
   ]
  },
  {
   "cell_type": "markdown",
   "metadata": {
    "heading_collapsed": true,
    "hidden": true
   },
   "source": [
    "## NumPy's `select()` Method"
   ]
  },
  {
   "cell_type": "markdown",
   "metadata": {
    "hidden": true
   },
   "source": [
    "Again, `numpy` will be faster:"
   ]
  },
  {
   "cell_type": "code",
   "execution_count": null,
   "metadata": {
    "hidden": true
   },
   "outputs": [],
   "source": [
    "# Define our list of conditions\n",
    "conditions = [level_up['Sex upon Outcome'] == 'Neutered Male',\n",
    "              level_up['Sex upon Outcome'] == 'Spayed Female',\n",
    "              level_up['Sex upon Outcome'] == 'Intact Male',\n",
    "              level_up['Sex upon Outcome'] == 'Intact Female',\n",
    "              level_up['Sex upon Outcome'] == 'Unknown',\n",
    "              level_up['Sex upon Outcome'].isna()]\n",
    "\n",
    "# Define a matching list of outcomes\n",
    "choices = ['Fixed', 'Fixed', 'Intact', 'Intact', 'Unknown', 'Unknown']"
   ]
  },
  {
   "cell_type": "code",
   "execution_count": null,
   "metadata": {
    "hidden": true
   },
   "outputs": [],
   "source": [
    "# Use np.select\n",
    "level_up['Grouped Sex upon Outcome1'] = np.select(conditions, choices)\n",
    "level_up['Grouped Sex upon Outcome1']"
   ]
  },
  {
   "cell_type": "code",
   "execution_count": null,
   "metadata": {
    "hidden": true
   },
   "outputs": [],
   "source": [
    "# Check we got the same results with np.where()\n",
    "(level_up['Grouped Sex upon Outcome1'] != level_up['Grouped Sex upon Outcome']).sum()"
   ]
  },
  {
   "cell_type": "code",
   "execution_count": null,
   "metadata": {
    "hidden": true
   },
   "outputs": [],
   "source": [
    "# Let's time how long it takes .map() to run by running it multiple times\n",
    "%timeit level_up['Sex upon Outcome'].map(fixed_mapper)"
   ]
  },
  {
   "cell_type": "code",
   "execution_count": null,
   "metadata": {
    "hidden": true
   },
   "outputs": [],
   "source": [
    "# Let's time how long it takes np.select() to run by running it multiple times\n",
    "%timeit np.select(conditions, choices)"
   ]
  }
 ],
 "metadata": {
  "kernelspec": {
   "display_name": "Python 3",
   "language": "python",
   "name": "python3"
  },
  "language_info": {
   "codemirror_mode": {
    "name": "ipython",
    "version": 3
   },
   "file_extension": ".py",
   "mimetype": "text/x-python",
   "name": "python",
   "nbconvert_exporter": "python",
   "pygments_lexer": "ipython3",
   "version": "3.8.5"
  },
  "toc": {
   "base_numbering": 1,
   "nav_menu": {},
   "number_sections": true,
   "sideBar": true,
   "skip_h1_title": false,
   "title_cell": "Table of Contents",
   "title_sidebar": "TOC",
   "toc_cell": true,
   "toc_position": {
    "height": "calc(100% - 180px)",
    "left": "10px",
    "top": "150px",
    "width": "267px"
   },
   "toc_section_display": true,
   "toc_window_display": true
  }
 },
 "nbformat": 4,
 "nbformat_minor": 4
}
