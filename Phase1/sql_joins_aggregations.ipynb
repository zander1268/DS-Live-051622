{
 "cells": [
  {
   "cell_type": "markdown",
   "metadata": {
    "toc": true
   },
   "source": [
    "<h1>Table of Contents<span class=\"tocSkip\"></span></h1>\n",
    "<div class=\"toc\"><ul class=\"toc-item\"><li><span><a href=\"#Objectives\" data-toc-modified-id=\"Objectives-1\"><span class=\"toc-item-num\">1&nbsp;&nbsp;</span>Objectives</a></span></li><li><span><a href=\"#Aggregating-Functions\" data-toc-modified-id=\"Aggregating-Functions-2\"><span class=\"toc-item-num\">2&nbsp;&nbsp;</span>Aggregating Functions</a></span><ul class=\"toc-item\"><li><span><a href=\"#Example-Simple-Aggregations\" data-toc-modified-id=\"Example-Simple-Aggregations-2.1\"><span class=\"toc-item-num\">2.1&nbsp;&nbsp;</span>Example Simple Aggregations</a></span></li></ul></li><li><span><a href=\"#Grouping-in-SQL\" data-toc-modified-id=\"Grouping-in-SQL-3\"><span class=\"toc-item-num\">3&nbsp;&nbsp;</span>Grouping in SQL</a></span><ul class=\"toc-item\"><li><span><a href=\"#Example-GROUP-BY--Statements\" data-toc-modified-id=\"Example-GROUP-BY--Statements-3.1\"><span class=\"toc-item-num\">3.1&nbsp;&nbsp;</span>Example <code>GROUP BY</code>  Statements</a></span><ul class=\"toc-item\"><li><span><a href=\"#Without-GROUP-BY\" data-toc-modified-id=\"Without-GROUP-BY-3.1.1\"><span class=\"toc-item-num\">3.1.1&nbsp;&nbsp;</span>Without <code>GROUP BY</code></a></span></li><li><span><a href=\"#With-GROUP-BY\" data-toc-modified-id=\"With-GROUP-BY-3.1.2\"><span class=\"toc-item-num\">3.1.2&nbsp;&nbsp;</span>With <code>GROUP BY</code></a></span></li></ul></li><li><span><a href=\"#Group-Task\" data-toc-modified-id=\"Group-Task-3.2\"><span class=\"toc-item-num\">3.2&nbsp;&nbsp;</span>Group Task</a></span><ul class=\"toc-item\"><li><span><a href=\"#Possible-Solution\" data-toc-modified-id=\"Possible-Solution-3.2.1\"><span class=\"toc-item-num\">3.2.1&nbsp;&nbsp;</span>Possible Solution</a></span></li></ul></li><li><span><a href=\"#Exercise:-Grouping\" data-toc-modified-id=\"Exercise:-Grouping-3.3\"><span class=\"toc-item-num\">3.3&nbsp;&nbsp;</span>Exercise: Grouping</a></span><ul class=\"toc-item\"><li><span><a href=\"#Possible-Solution\" data-toc-modified-id=\"Possible-Solution-3.3.1\"><span class=\"toc-item-num\">3.3.1&nbsp;&nbsp;</span>Possible Solution</a></span></li></ul></li></ul></li><li><span><a href=\"#Filtering-Groups-with-HAVING\" data-toc-modified-id=\"Filtering-Groups-with-HAVING-4\"><span class=\"toc-item-num\">4&nbsp;&nbsp;</span>Filtering Groups with <code>HAVING</code></a></span><ul class=\"toc-item\"><li><span><a href=\"#Examples-of-Using-HAVING\" data-toc-modified-id=\"Examples-of-Using-HAVING-4.1\"><span class=\"toc-item-num\">4.1&nbsp;&nbsp;</span>Examples of Using <code>HAVING</code></a></span><ul class=\"toc-item\"><li><span><a href=\"#Simple-Filtering---Number-of-Airports-in-a-Country\" data-toc-modified-id=\"Simple-Filtering---Number-of-Airports-in-a-Country-4.1.1\"><span class=\"toc-item-num\">4.1.1&nbsp;&nbsp;</span>Simple Filtering - Number of Airports in a Country</a></span></li></ul></li><li><span><a href=\"#Filtering-Different-Aggregation---Airport-Altitudes\" data-toc-modified-id=\"Filtering-Different-Aggregation---Airport-Altitudes-4.2\"><span class=\"toc-item-num\">4.2&nbsp;&nbsp;</span>Filtering Different Aggregation - Airport Altitudes</a></span><ul class=\"toc-item\"><li><span><a href=\"#Looking-at-the-airports-Table\" data-toc-modified-id=\"Looking-at-the-airports-Table-4.2.1\"><span class=\"toc-item-num\">4.2.1&nbsp;&nbsp;</span>Looking at the <code>airports</code> Table</a></span></li><li><span><a href=\"#Looking-at-the-Highest-Airport\" data-toc-modified-id=\"Looking-at-the-Highest-Airport-4.2.2\"><span class=\"toc-item-num\">4.2.2&nbsp;&nbsp;</span>Looking at the Highest Airport</a></span></li><li><span><a href=\"#Looking-at-the-Number-of-Airports-Too\" data-toc-modified-id=\"Looking-at-the-Number-of-Airports-Too-4.2.3\"><span class=\"toc-item-num\">4.2.3&nbsp;&nbsp;</span>Looking at the Number of Airports Too</a></span></li><li><span><a href=\"#Finally-Filter-Aggregation\" data-toc-modified-id=\"Finally-Filter-Aggregation-4.2.4\"><span class=\"toc-item-num\">4.2.4&nbsp;&nbsp;</span>Finally Filter Aggregation</a></span></li></ul></li></ul></li><li><span><a href=\"#Joins\" data-toc-modified-id=\"Joins-5\"><span class=\"toc-item-num\">5&nbsp;&nbsp;</span>Joins</a></span><ul class=\"toc-item\"><li><span><a href=\"#INNER-JOIN\" data-toc-modified-id=\"INNER-JOIN-5.1\"><span class=\"toc-item-num\">5.1&nbsp;&nbsp;</span><code>INNER JOIN</code></a></span><ul class=\"toc-item\"><li><span><a href=\"#Code-Example-for-Inner-Joins\" data-toc-modified-id=\"Code-Example-for-Inner-Joins-5.1.1\"><span class=\"toc-item-num\">5.1.1&nbsp;&nbsp;</span>Code Example for Inner Joins</a></span><ul class=\"toc-item\"><li><span><a href=\"#Inner-Join-Routes-&amp;-Airline-Data\" data-toc-modified-id=\"Inner-Join-Routes-&amp;-Airline-Data-5.1.1.1\"><span class=\"toc-item-num\">5.1.1.1&nbsp;&nbsp;</span>Inner Join Routes &amp; Airline Data</a></span></li><li><span><a href=\"#Note:-Losing-Data-with-Inner-Joins\" data-toc-modified-id=\"Note:-Losing-Data-with-Inner-Joins-5.1.1.2\"><span class=\"toc-item-num\">5.1.1.2&nbsp;&nbsp;</span>Note: Losing Data with Inner Joins</a></span></li></ul></li></ul></li><li><span><a href=\"#LEFT-JOIN\" data-toc-modified-id=\"LEFT-JOIN-5.2\"><span class=\"toc-item-num\">5.2&nbsp;&nbsp;</span><code>LEFT JOIN</code></a></span><ul class=\"toc-item\"><li><span><a href=\"#Code-Example-for-Left-Join\" data-toc-modified-id=\"Code-Example-for-Left-Join-5.2.1\"><span class=\"toc-item-num\">5.2.1&nbsp;&nbsp;</span>Code Example for Left Join</a></span></li></ul></li><li><span><a href=\"#Exercise:-Joins\" data-toc-modified-id=\"Exercise:-Joins-5.3\"><span class=\"toc-item-num\">5.3&nbsp;&nbsp;</span>Exercise: Joins</a></span><ul class=\"toc-item\"><li><span><a href=\"#Possible-Solution\" data-toc-modified-id=\"Possible-Solution-5.3.1\"><span class=\"toc-item-num\">5.3.1&nbsp;&nbsp;</span>Possible Solution</a></span></li></ul></li></ul></li><li><span><a href=\"#Level-Up:-Execution-Order\" data-toc-modified-id=\"Level-Up:-Execution-Order-6\"><span class=\"toc-item-num\">6&nbsp;&nbsp;</span>Level Up: Execution Order</a></span></li></ul></div>"
   ]
  },
  {
   "cell_type": "markdown",
   "metadata": {},
   "source": [
    "![sql](images/sql-logo.jpg)"
   ]
  },
  {
   "cell_type": "code",
   "execution_count": 1,
   "metadata": {},
   "outputs": [],
   "source": [
    "import pandas as pd\n",
    "import pandasql\n",
    "import sqlite3"
   ]
  },
  {
   "cell_type": "code",
   "execution_count": 6,
   "metadata": {},
   "outputs": [],
   "source": [
    "conn = sqlite3.connect(\"data/flights.db\")"
   ]
  },
  {
   "cell_type": "markdown",
   "metadata": {},
   "source": [
    "### Quick Aside (Disabling auto close brackets/quotes)"
   ]
  },
  {
   "cell_type": "code",
   "execution_count": 5,
   "metadata": {},
   "outputs": [
    {
     "data": {
      "text/plain": [
       "{'CodeCell': {'cm_config': {'autoCloseBrackets': False}}}"
      ]
     },
     "execution_count": 5,
     "metadata": {},
     "output_type": "execute_result"
    }
   ],
   "source": [
    "from notebook.services.config import ConfigManager\n",
    "c = ConfigManager()\n",
    "c.update('notebook', {\"CodeCell\": {\"cm_config\": {\"autoCloseBrackets\": False}}})"
   ]
  },
  {
   "cell_type": "markdown",
   "metadata": {
    "heading_collapsed": true
   },
   "source": [
    "# Objectives"
   ]
  },
  {
   "cell_type": "markdown",
   "metadata": {
    "hidden": true
   },
   "source": [
    "- Use SQL aggregation functions with GROUP BY\n",
    "- Use HAVING for group filtering\n",
    "- Use SQL JOIN to combine tables using keys"
   ]
  },
  {
   "cell_type": "markdown",
   "metadata": {
    "heading_collapsed": true
   },
   "source": [
    "# Aggregating Functions"
   ]
  },
  {
   "cell_type": "markdown",
   "metadata": {
    "hidden": true
   },
   "source": [
    ">  A SQL **aggregating function** takes in many values and returns one value."
   ]
  },
  {
   "cell_type": "markdown",
   "metadata": {
    "hidden": true
   },
   "source": [
    "We have already seen some SQL aggregating functions like `COUNT()`. There are also others, like SUM(), AVG(), MIN(), and MAX()."
   ]
  },
  {
   "cell_type": "markdown",
   "metadata": {
    "heading_collapsed": true,
    "hidden": true
   },
   "source": [
    "## Example Simple Aggregations"
   ]
  },
  {
   "cell_type": "code",
   "execution_count": 8,
   "metadata": {
    "hidden": true
   },
   "outputs": [
    {
     "data": {
      "text/html": [
       "<div>\n",
       "<style scoped>\n",
       "    .dataframe tbody tr th:only-of-type {\n",
       "        vertical-align: middle;\n",
       "    }\n",
       "\n",
       "    .dataframe tbody tr th {\n",
       "        vertical-align: top;\n",
       "    }\n",
       "\n",
       "    .dataframe thead th {\n",
       "        text-align: right;\n",
       "    }\n",
       "</style>\n",
       "<table border=\"1\" class=\"dataframe\">\n",
       "  <thead>\n",
       "    <tr style=\"text-align: right;\">\n",
       "      <th></th>\n",
       "      <th>MAX(\\n            CAST(\"longitude\" AS REAL)\\n        )</th>\n",
       "    </tr>\n",
       "  </thead>\n",
       "  <tbody>\n",
       "    <tr>\n",
       "      <th>0</th>\n",
       "      <td>179.951</td>\n",
       "    </tr>\n",
       "  </tbody>\n",
       "</table>\n",
       "</div>"
      ],
      "text/plain": [
       "   MAX(\\n            CAST(\"longitude\" AS REAL)\\n        )\n",
       "0                                            179.951     "
      ]
     },
     "execution_count": 8,
     "metadata": {},
     "output_type": "execute_result"
    }
   ],
   "source": [
    "# Max value for longitude\n",
    "pd.read_sql(\"\"\"\n",
    "    SELECT \n",
    "        -- Note we have to cast to a numerical value first\n",
    "        MAX(\n",
    "            CAST(\"longitude\" AS REAL)\n",
    "        )\n",
    "    FROM \n",
    "        airports\n",
    "\"\"\", conn)"
   ]
  },
  {
   "cell_type": "code",
   "execution_count": 14,
   "metadata": {
    "hidden": true
   },
   "outputs": [
    {
     "data": {
      "text/html": [
       "<div>\n",
       "<style scoped>\n",
       "    .dataframe tbody tr th:only-of-type {\n",
       "        vertical-align: middle;\n",
       "    }\n",
       "\n",
       "    .dataframe tbody tr th {\n",
       "        vertical-align: top;\n",
       "    }\n",
       "\n",
       "    .dataframe thead th {\n",
       "        text-align: right;\n",
       "    }\n",
       "</style>\n",
       "<table border=\"1\" class=\"dataframe\">\n",
       "  <thead>\n",
       "    <tr style=\"text-align: right;\">\n",
       "      <th></th>\n",
       "      <th>MAX(CAST(id AS INTEGER))</th>\n",
       "    </tr>\n",
       "  </thead>\n",
       "  <tbody>\n",
       "    <tr>\n",
       "      <th>0</th>\n",
       "      <td>9541</td>\n",
       "    </tr>\n",
       "  </tbody>\n",
       "</table>\n",
       "</div>"
      ],
      "text/plain": [
       "   MAX(CAST(id AS INTEGER))\n",
       "0                      9541"
      ]
     },
     "execution_count": 14,
     "metadata": {},
     "output_type": "execute_result"
    }
   ],
   "source": [
    "# Max value for id in table\n",
    "pd.read_sql(\"\"\" \n",
    "SELECT \n",
    "    MAX(CAST(id AS INTEGER))\n",
    "FROM\n",
    "    airports\n",
    "\"\"\",conn)"
   ]
  },
  {
   "cell_type": "code",
   "execution_count": 16,
   "metadata": {},
   "outputs": [
    {
     "data": {
      "text/html": [
       "<div>\n",
       "<style scoped>\n",
       "    .dataframe tbody tr th:only-of-type {\n",
       "        vertical-align: middle;\n",
       "    }\n",
       "\n",
       "    .dataframe tbody tr th {\n",
       "        vertical-align: top;\n",
       "    }\n",
       "\n",
       "    .dataframe thead th {\n",
       "        text-align: right;\n",
       "    }\n",
       "</style>\n",
       "<table border=\"1\" class=\"dataframe\">\n",
       "  <thead>\n",
       "    <tr style=\"text-align: right;\">\n",
       "      <th></th>\n",
       "      <th>index</th>\n",
       "      <th>id</th>\n",
       "      <th>name</th>\n",
       "      <th>alias</th>\n",
       "      <th>iata</th>\n",
       "      <th>icao</th>\n",
       "      <th>callsign</th>\n",
       "      <th>country</th>\n",
       "      <th>active</th>\n",
       "    </tr>\n",
       "  </thead>\n",
       "  <tbody>\n",
       "    <tr>\n",
       "      <th>0</th>\n",
       "      <td>0</td>\n",
       "      <td>1</td>\n",
       "      <td>Private flight</td>\n",
       "      <td>\\N</td>\n",
       "      <td>-</td>\n",
       "      <td>None</td>\n",
       "      <td>None</td>\n",
       "      <td>None</td>\n",
       "      <td>Y</td>\n",
       "    </tr>\n",
       "    <tr>\n",
       "      <th>1</th>\n",
       "      <td>1</td>\n",
       "      <td>2</td>\n",
       "      <td>135 Airways</td>\n",
       "      <td>\\N</td>\n",
       "      <td>None</td>\n",
       "      <td>GNL</td>\n",
       "      <td>GENERAL</td>\n",
       "      <td>United States</td>\n",
       "      <td>N</td>\n",
       "    </tr>\n",
       "    <tr>\n",
       "      <th>2</th>\n",
       "      <td>2</td>\n",
       "      <td>3</td>\n",
       "      <td>1Time Airline</td>\n",
       "      <td>\\N</td>\n",
       "      <td>1T</td>\n",
       "      <td>RNX</td>\n",
       "      <td>NEXTIME</td>\n",
       "      <td>South Africa</td>\n",
       "      <td>Y</td>\n",
       "    </tr>\n",
       "    <tr>\n",
       "      <th>3</th>\n",
       "      <td>3</td>\n",
       "      <td>4</td>\n",
       "      <td>2 Sqn No 1 Elementary Flying Training School</td>\n",
       "      <td>\\N</td>\n",
       "      <td>None</td>\n",
       "      <td>WYT</td>\n",
       "      <td>None</td>\n",
       "      <td>United Kingdom</td>\n",
       "      <td>N</td>\n",
       "    </tr>\n",
       "    <tr>\n",
       "      <th>4</th>\n",
       "      <td>4</td>\n",
       "      <td>5</td>\n",
       "      <td>213 Flight Unit</td>\n",
       "      <td>\\N</td>\n",
       "      <td>None</td>\n",
       "      <td>TFU</td>\n",
       "      <td>None</td>\n",
       "      <td>Russia</td>\n",
       "      <td>N</td>\n",
       "    </tr>\n",
       "    <tr>\n",
       "      <th>...</th>\n",
       "      <td>...</td>\n",
       "      <td>...</td>\n",
       "      <td>...</td>\n",
       "      <td>...</td>\n",
       "      <td>...</td>\n",
       "      <td>...</td>\n",
       "      <td>...</td>\n",
       "      <td>...</td>\n",
       "      <td>...</td>\n",
       "    </tr>\n",
       "    <tr>\n",
       "      <th>6043</th>\n",
       "      <td>6043</td>\n",
       "      <td>19828</td>\n",
       "      <td>Vuela Cuba</td>\n",
       "      <td>Vuela Cuba</td>\n",
       "      <td>6C</td>\n",
       "      <td>6CC</td>\n",
       "      <td>None</td>\n",
       "      <td>Cuba</td>\n",
       "      <td>Y</td>\n",
       "    </tr>\n",
       "    <tr>\n",
       "      <th>6044</th>\n",
       "      <td>6044</td>\n",
       "      <td>19830</td>\n",
       "      <td>All Australia</td>\n",
       "      <td>All Australia</td>\n",
       "      <td>88</td>\n",
       "      <td>8K8</td>\n",
       "      <td>None</td>\n",
       "      <td>Australia</td>\n",
       "      <td>Y</td>\n",
       "    </tr>\n",
       "    <tr>\n",
       "      <th>6045</th>\n",
       "      <td>6045</td>\n",
       "      <td>19831</td>\n",
       "      <td>Fly Europa</td>\n",
       "      <td>None</td>\n",
       "      <td>ER</td>\n",
       "      <td>RWW</td>\n",
       "      <td>None</td>\n",
       "      <td>Spain</td>\n",
       "      <td>Y</td>\n",
       "    </tr>\n",
       "    <tr>\n",
       "      <th>6046</th>\n",
       "      <td>6046</td>\n",
       "      <td>19834</td>\n",
       "      <td>FlyPortugal</td>\n",
       "      <td>None</td>\n",
       "      <td>PO</td>\n",
       "      <td>FPT</td>\n",
       "      <td>FlyPortugal</td>\n",
       "      <td>Portugal</td>\n",
       "      <td>Y</td>\n",
       "    </tr>\n",
       "    <tr>\n",
       "      <th>6047</th>\n",
       "      <td>6047</td>\n",
       "      <td>19845</td>\n",
       "      <td>FTI Fluggesellschaft</td>\n",
       "      <td>None</td>\n",
       "      <td>None</td>\n",
       "      <td>FTI</td>\n",
       "      <td>None</td>\n",
       "      <td>Germany</td>\n",
       "      <td>N</td>\n",
       "    </tr>\n",
       "  </tbody>\n",
       "</table>\n",
       "<p>6048 rows × 9 columns</p>\n",
       "</div>"
      ],
      "text/plain": [
       "      index     id                                          name  \\\n",
       "0         0      1                                Private flight   \n",
       "1         1      2                                   135 Airways   \n",
       "2         2      3                                 1Time Airline   \n",
       "3         3      4  2 Sqn No 1 Elementary Flying Training School   \n",
       "4         4      5                               213 Flight Unit   \n",
       "...     ...    ...                                           ...   \n",
       "6043   6043  19828                                    Vuela Cuba   \n",
       "6044   6044  19830                                 All Australia   \n",
       "6045   6045  19831                                    Fly Europa   \n",
       "6046   6046  19834                                   FlyPortugal   \n",
       "6047   6047  19845                          FTI Fluggesellschaft   \n",
       "\n",
       "              alias  iata  icao     callsign         country active  \n",
       "0                \\N     -  None         None            None      Y  \n",
       "1                \\N  None   GNL      GENERAL   United States      N  \n",
       "2                \\N    1T   RNX      NEXTIME    South Africa      Y  \n",
       "3                \\N  None   WYT         None  United Kingdom      N  \n",
       "4                \\N  None   TFU         None          Russia      N  \n",
       "...             ...   ...   ...          ...             ...    ...  \n",
       "6043     Vuela Cuba    6C   6CC         None            Cuba      Y  \n",
       "6044  All Australia    88   8K8         None       Australia      Y  \n",
       "6045           None    ER   RWW         None           Spain      Y  \n",
       "6046           None    PO   FPT  FlyPortugal        Portugal      Y  \n",
       "6047           None  None   FTI         None         Germany      N  \n",
       "\n",
       "[6048 rows x 9 columns]"
      ]
     },
     "execution_count": 16,
     "metadata": {},
     "output_type": "execute_result"
    }
   ],
   "source": [
    "pd.read_sql(\"\"\" SELECT * FROM airlines\"\"\",conn)"
   ]
  },
  {
   "cell_type": "code",
   "execution_count": 17,
   "metadata": {
    "hidden": true
   },
   "outputs": [
    {
     "data": {
      "text/html": [
       "<div>\n",
       "<style scoped>\n",
       "    .dataframe tbody tr th:only-of-type {\n",
       "        vertical-align: middle;\n",
       "    }\n",
       "\n",
       "    .dataframe tbody tr th {\n",
       "        vertical-align: top;\n",
       "    }\n",
       "\n",
       "    .dataframe thead th {\n",
       "        text-align: right;\n",
       "    }\n",
       "</style>\n",
       "<table border=\"1\" class=\"dataframe\">\n",
       "  <thead>\n",
       "    <tr style=\"text-align: right;\">\n",
       "      <th></th>\n",
       "      <th>COUNT(\"active\")</th>\n",
       "    </tr>\n",
       "  </thead>\n",
       "  <tbody>\n",
       "    <tr>\n",
       "      <th>0</th>\n",
       "      <td>4886</td>\n",
       "    </tr>\n",
       "  </tbody>\n",
       "</table>\n",
       "</div>"
      ],
      "text/plain": [
       "   COUNT(\"active\")\n",
       "0             4886"
      ]
     },
     "execution_count": 17,
     "metadata": {},
     "output_type": "execute_result"
    }
   ],
   "source": [
    "# Effectively counts all the inactive airlines \n",
    "pd.read_sql(\"\"\"\n",
    "    SELECT \n",
    "        COUNT(\"active\")\n",
    "    FROM \n",
    "        airlines\n",
    "    WHERE \n",
    "        active='N'\n",
    "\"\"\", conn)"
   ]
  },
  {
   "cell_type": "markdown",
   "metadata": {
    "hidden": true
   },
   "source": [
    "We can also give aliases to our aggregations:"
   ]
  },
  {
   "cell_type": "code",
   "execution_count": 18,
   "metadata": {
    "hidden": true
   },
   "outputs": [
    {
     "data": {
      "text/html": [
       "<div>\n",
       "<style scoped>\n",
       "    .dataframe tbody tr th:only-of-type {\n",
       "        vertical-align: middle;\n",
       "    }\n",
       "\n",
       "    .dataframe tbody tr th {\n",
       "        vertical-align: top;\n",
       "    }\n",
       "\n",
       "    .dataframe thead th {\n",
       "        text-align: right;\n",
       "    }\n",
       "</style>\n",
       "<table border=\"1\" class=\"dataframe\">\n",
       "  <thead>\n",
       "    <tr style=\"text-align: right;\">\n",
       "      <th></th>\n",
       "      <th>Active Airlines</th>\n",
       "    </tr>\n",
       "  </thead>\n",
       "  <tbody>\n",
       "    <tr>\n",
       "      <th>0</th>\n",
       "      <td>1161</td>\n",
       "    </tr>\n",
       "  </tbody>\n",
       "</table>\n",
       "</div>"
      ],
      "text/plain": [
       "   Active Airlines\n",
       "0             1161"
      ]
     },
     "execution_count": 18,
     "metadata": {},
     "output_type": "execute_result"
    }
   ],
   "source": [
    "# Effectively counts all the active airlines \n",
    "pd.read_sql(\"\"\"\n",
    "    SELECT \n",
    "        COUNT(\"active\") AS \"Active Airlines\"\n",
    "    FROM \n",
    "        airlines\n",
    "    WHERE \n",
    "        active='Y'\n",
    "\"\"\", conn)"
   ]
  },
  {
   "cell_type": "markdown",
   "metadata": {
    "heading_collapsed": true
   },
   "source": [
    "# Grouping in SQL"
   ]
  },
  {
   "cell_type": "markdown",
   "metadata": {
    "hidden": true
   },
   "source": [
    "We can go deeper and use aggregation functions on _groups_ using the `GROUP BY` clause."
   ]
  },
  {
   "cell_type": "markdown",
   "metadata": {
    "hidden": true
   },
   "source": [
    "The `GROUP BY` clause will group one or more columns together with the same values as one group to perform aggregation functions on."
   ]
  },
  {
   "cell_type": "markdown",
   "metadata": {
    "heading_collapsed": true,
    "hidden": true
   },
   "source": [
    "## Example `GROUP BY`  Statements"
   ]
  },
  {
   "cell_type": "markdown",
   "metadata": {
    "hidden": true
   },
   "source": [
    "Let's say we want to know how many active and non-active airlines there are."
   ]
  },
  {
   "cell_type": "markdown",
   "metadata": {
    "heading_collapsed": true,
    "hidden": true
   },
   "source": [
    "### Without `GROUP BY`"
   ]
  },
  {
   "cell_type": "markdown",
   "metadata": {
    "hidden": true
   },
   "source": [
    "Let's first start with just seeing how many airlines there are:"
   ]
  },
  {
   "cell_type": "code",
   "execution_count": null,
   "metadata": {
    "hidden": true
   },
   "outputs": [],
   "source": [
    "df_results = pd.read_sql(\"\"\"\n",
    "    SELECT \n",
    "        -- Reminder that this counts the number of rows before the SELECT\n",
    "        COUNT() AS number_of_airlines\n",
    "    FROM \n",
    "        airlines\n",
    "\"\"\", conn)\n",
    "\n",
    "df_results"
   ]
  },
  {
   "cell_type": "markdown",
   "metadata": {
    "hidden": true
   },
   "source": [
    "One way for us to get the counts for each is to create two queries that will filter each kind of airline (active vs non-active) and count those values:"
   ]
  },
  {
   "cell_type": "code",
   "execution_count": 19,
   "metadata": {
    "hidden": true
   },
   "outputs": [
    {
     "data": {
      "text/html": [
       "<div>\n",
       "<style scoped>\n",
       "    .dataframe tbody tr th:only-of-type {\n",
       "        vertical-align: middle;\n",
       "    }\n",
       "\n",
       "    .dataframe tbody tr th {\n",
       "        vertical-align: top;\n",
       "    }\n",
       "\n",
       "    .dataframe thead th {\n",
       "        text-align: right;\n",
       "    }\n",
       "</style>\n",
       "<table border=\"1\" class=\"dataframe\">\n",
       "  <thead>\n",
       "    <tr style=\"text-align: right;\">\n",
       "      <th></th>\n",
       "      <th>number_of_active_airlines</th>\n",
       "    </tr>\n",
       "  </thead>\n",
       "  <tbody>\n",
       "    <tr>\n",
       "      <th>0</th>\n",
       "      <td>1161</td>\n",
       "    </tr>\n",
       "  </tbody>\n",
       "</table>\n",
       "</div>"
      ],
      "text/plain": [
       "   number_of_active_airlines\n",
       "0                       1161"
      ]
     },
     "metadata": {},
     "output_type": "display_data"
    },
    {
     "data": {
      "text/html": [
       "<div>\n",
       "<style scoped>\n",
       "    .dataframe tbody tr th:only-of-type {\n",
       "        vertical-align: middle;\n",
       "    }\n",
       "\n",
       "    .dataframe tbody tr th {\n",
       "        vertical-align: top;\n",
       "    }\n",
       "\n",
       "    .dataframe thead th {\n",
       "        text-align: right;\n",
       "    }\n",
       "</style>\n",
       "<table border=\"1\" class=\"dataframe\">\n",
       "  <thead>\n",
       "    <tr style=\"text-align: right;\">\n",
       "      <th></th>\n",
       "      <th>number_of_not_active_airlines</th>\n",
       "    </tr>\n",
       "  </thead>\n",
       "  <tbody>\n",
       "    <tr>\n",
       "      <th>0</th>\n",
       "      <td>4886</td>\n",
       "    </tr>\n",
       "  </tbody>\n",
       "</table>\n",
       "</div>"
      ],
      "text/plain": [
       "   number_of_not_active_airlines\n",
       "0                           4886"
      ]
     },
     "metadata": {},
     "output_type": "display_data"
    }
   ],
   "source": [
    "df_active = pd.read_sql(\"\"\"\n",
    "    SELECT \n",
    "        COUNT() AS number_of_active_airlines\n",
    "    FROM \n",
    "        airlines\n",
    "    WHERE \n",
    "        active='Y'\n",
    "\"\"\", conn)\n",
    "\n",
    "df_not_active = pd.read_sql(\"\"\"\n",
    "    SELECT \n",
    "        COUNT() AS number_of_not_active_airlines\n",
    "    FROM \n",
    "        airlines\n",
    "    WHERE \n",
    "        active='N'\n",
    "\"\"\", conn)\n",
    "\n",
    "display(df_active)\n",
    "display(df_not_active)"
   ]
  },
  {
   "cell_type": "markdown",
   "metadata": {
    "hidden": true
   },
   "source": [
    "This works but it's inefficient."
   ]
  },
  {
   "cell_type": "markdown",
   "metadata": {
    "heading_collapsed": true,
    "hidden": true
   },
   "source": [
    "### With `GROUP BY`"
   ]
  },
  {
   "cell_type": "markdown",
   "metadata": {
    "hidden": true
   },
   "source": [
    "Instead, we can tell the SQL server to do the work for us by grouping values we care about for us!"
   ]
  },
  {
   "cell_type": "code",
   "execution_count": 21,
   "metadata": {
    "hidden": true
   },
   "outputs": [
    {
     "data": {
      "text/html": [
       "<div>\n",
       "<style scoped>\n",
       "    .dataframe tbody tr th:only-of-type {\n",
       "        vertical-align: middle;\n",
       "    }\n",
       "\n",
       "    .dataframe tbody tr th {\n",
       "        vertical-align: top;\n",
       "    }\n",
       "\n",
       "    .dataframe thead th {\n",
       "        text-align: right;\n",
       "    }\n",
       "</style>\n",
       "<table border=\"1\" class=\"dataframe\">\n",
       "  <thead>\n",
       "    <tr style=\"text-align: right;\">\n",
       "      <th></th>\n",
       "      <th>active</th>\n",
       "      <th>number_of_airlines</th>\n",
       "    </tr>\n",
       "  </thead>\n",
       "  <tbody>\n",
       "    <tr>\n",
       "      <th>0</th>\n",
       "      <td>N</td>\n",
       "      <td>4886</td>\n",
       "    </tr>\n",
       "    <tr>\n",
       "      <th>1</th>\n",
       "      <td>Y</td>\n",
       "      <td>1161</td>\n",
       "    </tr>\n",
       "    <tr>\n",
       "      <th>2</th>\n",
       "      <td>n</td>\n",
       "      <td>1</td>\n",
       "    </tr>\n",
       "  </tbody>\n",
       "</table>\n",
       "</div>"
      ],
      "text/plain": [
       "  active  number_of_airlines\n",
       "0      N                4886\n",
       "1      Y                1161\n",
       "2      n                   1"
      ]
     },
     "execution_count": 21,
     "metadata": {},
     "output_type": "execute_result"
    }
   ],
   "source": [
    "df_results = pd.read_sql(\"\"\"\n",
    "    SELECT \n",
    "        \"active\",COUNT() AS number_of_airlines\n",
    "    FROM \n",
    "        airlines\n",
    "    GROUP BY\n",
    "        active\n",
    "\"\"\", conn)\n",
    "\n",
    "df_results"
   ]
  },
  {
   "cell_type": "markdown",
   "metadata": {
    "hidden": true
   },
   "source": [
    "This is great! And if you look closely, you can observe we have _three_ different groups instead of our expected two!"
   ]
  },
  {
   "cell_type": "markdown",
   "metadata": {
    "hidden": true
   },
   "source": [
    "Let's also print out the `airlines.active` value for each group/aggregation so we know what we're looking at:"
   ]
  },
  {
   "cell_type": "code",
   "execution_count": 25,
   "metadata": {
    "hidden": true
   },
   "outputs": [
    {
     "data": {
      "text/html": [
       "<div>\n",
       "<style scoped>\n",
       "    .dataframe tbody tr th:only-of-type {\n",
       "        vertical-align: middle;\n",
       "    }\n",
       "\n",
       "    .dataframe tbody tr th {\n",
       "        vertical-align: top;\n",
       "    }\n",
       "\n",
       "    .dataframe thead th {\n",
       "        text-align: right;\n",
       "    }\n",
       "</style>\n",
       "<table border=\"1\" class=\"dataframe\">\n",
       "  <thead>\n",
       "    <tr style=\"text-align: right;\">\n",
       "      <th></th>\n",
       "      <th>active</th>\n",
       "      <th>COUNT()</th>\n",
       "    </tr>\n",
       "  </thead>\n",
       "  <tbody>\n",
       "    <tr>\n",
       "      <th>0</th>\n",
       "      <td>N</td>\n",
       "      <td>4886</td>\n",
       "    </tr>\n",
       "    <tr>\n",
       "      <th>1</th>\n",
       "      <td>Y</td>\n",
       "      <td>1161</td>\n",
       "    </tr>\n",
       "    <tr>\n",
       "      <th>2</th>\n",
       "      <td>n</td>\n",
       "      <td>1</td>\n",
       "    </tr>\n",
       "  </tbody>\n",
       "</table>\n",
       "</div>"
      ],
      "text/plain": [
       "  active  COUNT()\n",
       "0      N     4886\n",
       "1      Y     1161\n",
       "2      n        1"
      ]
     },
     "execution_count": 25,
     "metadata": {},
     "output_type": "execute_result"
    }
   ],
   "source": [
    "df_results = pd.read_sql(\"\"\" \n",
    "SELECT\n",
    "    \"active\",COUNT()\n",
    "FROM airlines\n",
    "GROUP BY\n",
    "    \"active\"\n",
    "\"\"\",conn)\n",
    "df_results"
   ]
  },
  {
   "cell_type": "markdown",
   "metadata": {
    "heading_collapsed": true,
    "hidden": true
   },
   "source": [
    "## Group Task"
   ]
  },
  {
   "cell_type": "markdown",
   "metadata": {
    "hidden": true
   },
   "source": [
    "- Which countries have the highest numbers of active airlines? Return the top 10."
   ]
  },
  {
   "cell_type": "code",
   "execution_count": 32,
   "metadata": {
    "hidden": true
   },
   "outputs": [
    {
     "data": {
      "text/html": [
       "<div>\n",
       "<style scoped>\n",
       "    .dataframe tbody tr th:only-of-type {\n",
       "        vertical-align: middle;\n",
       "    }\n",
       "\n",
       "    .dataframe tbody tr th {\n",
       "        vertical-align: top;\n",
       "    }\n",
       "\n",
       "    .dataframe thead th {\n",
       "        text-align: right;\n",
       "    }\n",
       "</style>\n",
       "<table border=\"1\" class=\"dataframe\">\n",
       "  <thead>\n",
       "    <tr style=\"text-align: right;\">\n",
       "      <th></th>\n",
       "      <th>country</th>\n",
       "      <th>Active Count</th>\n",
       "    </tr>\n",
       "  </thead>\n",
       "  <tbody>\n",
       "    <tr>\n",
       "      <th>0</th>\n",
       "      <td>United States</td>\n",
       "      <td>141</td>\n",
       "    </tr>\n",
       "    <tr>\n",
       "      <th>1</th>\n",
       "      <td>Russia</td>\n",
       "      <td>72</td>\n",
       "    </tr>\n",
       "    <tr>\n",
       "      <th>2</th>\n",
       "      <td>United Kingdom</td>\n",
       "      <td>40</td>\n",
       "    </tr>\n",
       "    <tr>\n",
       "      <th>3</th>\n",
       "      <td>Germany</td>\n",
       "      <td>37</td>\n",
       "    </tr>\n",
       "    <tr>\n",
       "      <th>4</th>\n",
       "      <td>Canada</td>\n",
       "      <td>34</td>\n",
       "    </tr>\n",
       "    <tr>\n",
       "      <th>5</th>\n",
       "      <td>Australia</td>\n",
       "      <td>26</td>\n",
       "    </tr>\n",
       "    <tr>\n",
       "      <th>6</th>\n",
       "      <td>China</td>\n",
       "      <td>25</td>\n",
       "    </tr>\n",
       "    <tr>\n",
       "      <th>7</th>\n",
       "      <td>Spain</td>\n",
       "      <td>24</td>\n",
       "    </tr>\n",
       "    <tr>\n",
       "      <th>8</th>\n",
       "      <td>Brazil</td>\n",
       "      <td>23</td>\n",
       "    </tr>\n",
       "    <tr>\n",
       "      <th>9</th>\n",
       "      <td>France</td>\n",
       "      <td>22</td>\n",
       "    </tr>\n",
       "  </tbody>\n",
       "</table>\n",
       "</div>"
      ],
      "text/plain": [
       "          country  Active Count\n",
       "0   United States           141\n",
       "1          Russia            72\n",
       "2  United Kingdom            40\n",
       "3         Germany            37\n",
       "4          Canada            34\n",
       "5       Australia            26\n",
       "6           China            25\n",
       "7           Spain            24\n",
       "8          Brazil            23\n",
       "9          France            22"
      ]
     },
     "execution_count": 32,
     "metadata": {},
     "output_type": "execute_result"
    }
   ],
   "source": [
    "pd.read_sql('''\n",
    "    SELECT\n",
    "        \"country\",COUNT() AS \"Active Count\"\n",
    "    FROM\n",
    "        airlines\n",
    "    WHERE\n",
    "        \"active\" = 'Y'\n",
    "    GROUP BY\n",
    "        \"country\"\n",
    "\n",
    "    ORDER BY\n",
    "        \"Active Count\" DESC\n",
    "    LIMIT 10\n",
    "''', conn)"
   ]
  },
  {
   "cell_type": "code",
   "execution_count": 34,
   "metadata": {},
   "outputs": [
    {
     "data": {
      "text/html": [
       "<div>\n",
       "<style scoped>\n",
       "    .dataframe tbody tr th:only-of-type {\n",
       "        vertical-align: middle;\n",
       "    }\n",
       "\n",
       "    .dataframe tbody tr th {\n",
       "        vertical-align: top;\n",
       "    }\n",
       "\n",
       "    .dataframe thead th {\n",
       "        text-align: right;\n",
       "    }\n",
       "</style>\n",
       "<table border=\"1\" class=\"dataframe\">\n",
       "  <thead>\n",
       "    <tr style=\"text-align: right;\">\n",
       "      <th></th>\n",
       "      <th>country</th>\n",
       "      <th>Active Count</th>\n",
       "    </tr>\n",
       "  </thead>\n",
       "  <tbody>\n",
       "    <tr>\n",
       "      <th>0</th>\n",
       "      <td>United States</td>\n",
       "      <td>141</td>\n",
       "    </tr>\n",
       "    <tr>\n",
       "      <th>1</th>\n",
       "      <td>Russia</td>\n",
       "      <td>72</td>\n",
       "    </tr>\n",
       "    <tr>\n",
       "      <th>2</th>\n",
       "      <td>United Kingdom</td>\n",
       "      <td>40</td>\n",
       "    </tr>\n",
       "    <tr>\n",
       "      <th>3</th>\n",
       "      <td>Germany</td>\n",
       "      <td>37</td>\n",
       "    </tr>\n",
       "    <tr>\n",
       "      <th>4</th>\n",
       "      <td>Canada</td>\n",
       "      <td>34</td>\n",
       "    </tr>\n",
       "    <tr>\n",
       "      <th>5</th>\n",
       "      <td>Australia</td>\n",
       "      <td>26</td>\n",
       "    </tr>\n",
       "    <tr>\n",
       "      <th>6</th>\n",
       "      <td>China</td>\n",
       "      <td>25</td>\n",
       "    </tr>\n",
       "    <tr>\n",
       "      <th>7</th>\n",
       "      <td>Spain</td>\n",
       "      <td>24</td>\n",
       "    </tr>\n",
       "    <tr>\n",
       "      <th>8</th>\n",
       "      <td>Brazil</td>\n",
       "      <td>23</td>\n",
       "    </tr>\n",
       "    <tr>\n",
       "      <th>9</th>\n",
       "      <td>France</td>\n",
       "      <td>22</td>\n",
       "    </tr>\n",
       "  </tbody>\n",
       "</table>\n",
       "</div>"
      ],
      "text/plain": [
       "          country  Active Count\n",
       "0   United States           141\n",
       "1          Russia            72\n",
       "2  United Kingdom            40\n",
       "3         Germany            37\n",
       "4          Canada            34\n",
       "5       Australia            26\n",
       "6           China            25\n",
       "7           Spain            24\n",
       "8          Brazil            23\n",
       "9          France            22"
      ]
     },
     "execution_count": 34,
     "metadata": {},
     "output_type": "execute_result"
    }
   ],
   "source": [
    "pd.read_sql('''\n",
    "    SELECT\n",
    "        \"country\",COUNT() AS \"Active Count\"\n",
    "    FROM\n",
    "        airlines\n",
    "    WHERE\n",
    "        \"active\" = 'Y'\n",
    "    GROUP BY\n",
    "        \"country\"\n",
    "\n",
    "    ORDER BY\n",
    "        \"Active Count\" DESC\n",
    "    LIMIT 10\n",
    "''', conn)"
   ]
  },
  {
   "cell_type": "markdown",
   "metadata": {
    "heading_collapsed": true,
    "hidden": true
   },
   "source": [
    "<details>\n",
    "    <summary><b>Possible Solution</b></summary>\n",
    "\n",
    "``` sql\n",
    "    pd.read_sql('''\n",
    "    SELECT \n",
    "        COUNT() AS num,\n",
    "        country\n",
    "    FROM \n",
    "        airlines\n",
    "    WHERE \n",
    "        active='Y'\n",
    "    GROUP BY \n",
    "        country\n",
    "    ORDER BY \n",
    "        num DESC\n",
    "    LIMIT 10\n",
    "    ''', conn)```\n",
    "</details>"
   ]
  },
  {
   "cell_type": "markdown",
   "metadata": {
    "hidden": true
   },
   "source": [
    "> Note that the `GROUP BY` clause is considered _before_ the `ORDER BY` and `LIMIT` clauses"
   ]
  },
  {
   "cell_type": "markdown",
   "metadata": {
    "heading_collapsed": true,
    "hidden": true
   },
   "source": [
    "## Exercise: Grouping"
   ]
  },
  {
   "cell_type": "markdown",
   "metadata": {
    "hidden": true
   },
   "source": [
    "- Run a query that will return the number of airports by time zone. Each row should have a number of airports and a time zone."
   ]
  },
  {
   "cell_type": "code",
   "execution_count": 36,
   "metadata": {
    "hidden": true
   },
   "outputs": [
    {
     "data": {
      "text/html": [
       "<div>\n",
       "<style scoped>\n",
       "    .dataframe tbody tr th:only-of-type {\n",
       "        vertical-align: middle;\n",
       "    }\n",
       "\n",
       "    .dataframe tbody tr th {\n",
       "        vertical-align: top;\n",
       "    }\n",
       "\n",
       "    .dataframe thead th {\n",
       "        text-align: right;\n",
       "    }\n",
       "</style>\n",
       "<table border=\"1\" class=\"dataframe\">\n",
       "  <thead>\n",
       "    <tr style=\"text-align: right;\">\n",
       "      <th></th>\n",
       "      <th>timezone</th>\n",
       "      <th>num_airports</th>\n",
       "    </tr>\n",
       "  </thead>\n",
       "  <tbody>\n",
       "    <tr>\n",
       "      <th>0</th>\n",
       "      <td>America/New_York</td>\n",
       "      <td>628</td>\n",
       "    </tr>\n",
       "    <tr>\n",
       "      <th>1</th>\n",
       "      <td>America/Chicago</td>\n",
       "      <td>373</td>\n",
       "    </tr>\n",
       "    <tr>\n",
       "      <th>2</th>\n",
       "      <td>Europe/Berlin</td>\n",
       "      <td>319</td>\n",
       "    </tr>\n",
       "    <tr>\n",
       "      <th>3</th>\n",
       "      <td>America/Anchorage</td>\n",
       "      <td>258</td>\n",
       "    </tr>\n",
       "    <tr>\n",
       "      <th>4</th>\n",
       "      <td>Europe/Paris</td>\n",
       "      <td>232</td>\n",
       "    </tr>\n",
       "    <tr>\n",
       "      <th>...</th>\n",
       "      <td>...</td>\n",
       "      <td>...</td>\n",
       "    </tr>\n",
       "    <tr>\n",
       "      <th>289</th>\n",
       "      <td>America/Anguilla</td>\n",
       "      <td>1</td>\n",
       "    </tr>\n",
       "    <tr>\n",
       "      <th>290</th>\n",
       "      <td>Africa/Porto-Novo</td>\n",
       "      <td>1</td>\n",
       "    </tr>\n",
       "    <tr>\n",
       "      <th>291</th>\n",
       "      <td>Africa/Mbabane</td>\n",
       "      <td>1</td>\n",
       "    </tr>\n",
       "    <tr>\n",
       "      <th>292</th>\n",
       "      <td>Africa/Bujumbura</td>\n",
       "      <td>1</td>\n",
       "    </tr>\n",
       "    <tr>\n",
       "      <th>293</th>\n",
       "      <td>Africa/Banjul</td>\n",
       "      <td>1</td>\n",
       "    </tr>\n",
       "  </tbody>\n",
       "</table>\n",
       "<p>294 rows × 2 columns</p>\n",
       "</div>"
      ],
      "text/plain": [
       "              timezone  num_airports\n",
       "0     America/New_York           628\n",
       "1      America/Chicago           373\n",
       "2        Europe/Berlin           319\n",
       "3    America/Anchorage           258\n",
       "4         Europe/Paris           232\n",
       "..                 ...           ...\n",
       "289   America/Anguilla             1\n",
       "290  Africa/Porto-Novo             1\n",
       "291     Africa/Mbabane             1\n",
       "292   Africa/Bujumbura             1\n",
       "293      Africa/Banjul             1\n",
       "\n",
       "[294 rows x 2 columns]"
      ]
     },
     "execution_count": 36,
     "metadata": {},
     "output_type": "execute_result"
    }
   ],
   "source": [
    "# Your code here\n",
    "pd.read_sql(\"\"\" \n",
    "SELECT\n",
    "    timezone,count() AS num_airports\n",
    "\n",
    "FROM\n",
    "    airports\n",
    "GROUP BY\n",
    "    timezone\n",
    "ORDER BY\n",
    "    num_airports DESC\n",
    "\n",
    "\"\"\",conn)"
   ]
  },
  {
   "cell_type": "markdown",
   "metadata": {
    "heading_collapsed": true,
    "hidden": true
   },
   "source": [
    "<details>\n",
    "    <summary><b>Possible Solution</b></summary>\n",
    "\n",
    "``` sql\n",
    "pd.read_sql('''\n",
    "    SELECT \n",
    "        airports.timezone\n",
    "        ,COUNT() AS num_of_airports\n",
    "    FROM \n",
    "        airports\n",
    "    GROUP BY\n",
    "        airports.timezone\n",
    "    ORDER BY\n",
    "        num_of_airports DESC\n",
    "''', conn) ```\n",
    "</details>"
   ]
  },
  {
   "cell_type": "markdown",
   "metadata": {
    "heading_collapsed": true
   },
   "source": [
    "# Filtering Groups with `HAVING`"
   ]
  },
  {
   "cell_type": "markdown",
   "metadata": {
    "hidden": true
   },
   "source": [
    "We showed that you can filter tables with `WHERE`. We can similarly filter _groups/aggregations_ using `HAVING` clauses."
   ]
  },
  {
   "cell_type": "markdown",
   "metadata": {
    "heading_collapsed": true,
    "hidden": true
   },
   "source": [
    "## Examples of Using `HAVING`"
   ]
  },
  {
   "cell_type": "markdown",
   "metadata": {
    "heading_collapsed": true,
    "hidden": true
   },
   "source": [
    "### Simple Filtering - Number of Airports in a Country"
   ]
  },
  {
   "cell_type": "markdown",
   "metadata": {
    "hidden": true
   },
   "source": [
    "Let's come back to the aggregation of active airports:"
   ]
  },
  {
   "cell_type": "code",
   "execution_count": 37,
   "metadata": {
    "hidden": true
   },
   "outputs": [
    {
     "data": {
      "text/html": [
       "<div>\n",
       "<style scoped>\n",
       "    .dataframe tbody tr th:only-of-type {\n",
       "        vertical-align: middle;\n",
       "    }\n",
       "\n",
       "    .dataframe tbody tr th {\n",
       "        vertical-align: top;\n",
       "    }\n",
       "\n",
       "    .dataframe thead th {\n",
       "        text-align: right;\n",
       "    }\n",
       "</style>\n",
       "<table border=\"1\" class=\"dataframe\">\n",
       "  <thead>\n",
       "    <tr style=\"text-align: right;\">\n",
       "      <th></th>\n",
       "      <th>num</th>\n",
       "      <th>country</th>\n",
       "    </tr>\n",
       "  </thead>\n",
       "  <tbody>\n",
       "    <tr>\n",
       "      <th>0</th>\n",
       "      <td>141</td>\n",
       "      <td>United States</td>\n",
       "    </tr>\n",
       "    <tr>\n",
       "      <th>1</th>\n",
       "      <td>72</td>\n",
       "      <td>Russia</td>\n",
       "    </tr>\n",
       "    <tr>\n",
       "      <th>2</th>\n",
       "      <td>40</td>\n",
       "      <td>United Kingdom</td>\n",
       "    </tr>\n",
       "    <tr>\n",
       "      <th>3</th>\n",
       "      <td>37</td>\n",
       "      <td>Germany</td>\n",
       "    </tr>\n",
       "    <tr>\n",
       "      <th>4</th>\n",
       "      <td>34</td>\n",
       "      <td>Canada</td>\n",
       "    </tr>\n",
       "    <tr>\n",
       "      <th>...</th>\n",
       "      <td>...</td>\n",
       "      <td>...</td>\n",
       "    </tr>\n",
       "    <tr>\n",
       "      <th>190</th>\n",
       "      <td>1</td>\n",
       "      <td>Antigua and Barbuda</td>\n",
       "    </tr>\n",
       "    <tr>\n",
       "      <th>191</th>\n",
       "      <td>1</td>\n",
       "      <td>American Samoa</td>\n",
       "    </tr>\n",
       "    <tr>\n",
       "      <th>192</th>\n",
       "      <td>1</td>\n",
       "      <td>AVIANCA</td>\n",
       "    </tr>\n",
       "    <tr>\n",
       "      <th>193</th>\n",
       "      <td>1</td>\n",
       "      <td>ALASKA</td>\n",
       "    </tr>\n",
       "    <tr>\n",
       "      <th>194</th>\n",
       "      <td>1</td>\n",
       "      <td>S.A.</td>\n",
       "    </tr>\n",
       "  </tbody>\n",
       "</table>\n",
       "<p>195 rows × 2 columns</p>\n",
       "</div>"
      ],
      "text/plain": [
       "     num              country\n",
       "0    141        United States\n",
       "1     72               Russia\n",
       "2     40       United Kingdom\n",
       "3     37              Germany\n",
       "4     34               Canada\n",
       "..   ...                  ...\n",
       "190    1  Antigua and Barbuda\n",
       "191    1       American Samoa\n",
       "192    1              AVIANCA\n",
       "193    1               ALASKA\n",
       "194    1                 S.A.\n",
       "\n",
       "[195 rows x 2 columns]"
      ]
     },
     "execution_count": 37,
     "metadata": {},
     "output_type": "execute_result"
    }
   ],
   "source": [
    "pd.read_sql('''\n",
    "    SELECT \n",
    "        COUNT() AS num,\n",
    "        country\n",
    "    FROM \n",
    "        airlines\n",
    "    WHERE \n",
    "        active='Y'\n",
    "    GROUP BY \n",
    "        country\n",
    "    ORDER BY \n",
    "        num DESC\n",
    "''', conn)"
   ]
  },
  {
   "cell_type": "markdown",
   "metadata": {
    "hidden": true
   },
   "source": [
    "We can see we have a lot of results. But maybe we only want to keep the countries that have more than $30$ active airlines:"
   ]
  },
  {
   "cell_type": "code",
   "execution_count": 38,
   "metadata": {
    "hidden": true
   },
   "outputs": [
    {
     "data": {
      "text/html": [
       "<div>\n",
       "<style scoped>\n",
       "    .dataframe tbody tr th:only-of-type {\n",
       "        vertical-align: middle;\n",
       "    }\n",
       "\n",
       "    .dataframe tbody tr th {\n",
       "        vertical-align: top;\n",
       "    }\n",
       "\n",
       "    .dataframe thead th {\n",
       "        text-align: right;\n",
       "    }\n",
       "</style>\n",
       "<table border=\"1\" class=\"dataframe\">\n",
       "  <thead>\n",
       "    <tr style=\"text-align: right;\">\n",
       "      <th></th>\n",
       "      <th>country</th>\n",
       "      <th>num</th>\n",
       "    </tr>\n",
       "  </thead>\n",
       "  <tbody>\n",
       "    <tr>\n",
       "      <th>0</th>\n",
       "      <td>United States</td>\n",
       "      <td>141</td>\n",
       "    </tr>\n",
       "    <tr>\n",
       "      <th>1</th>\n",
       "      <td>Russia</td>\n",
       "      <td>72</td>\n",
       "    </tr>\n",
       "    <tr>\n",
       "      <th>2</th>\n",
       "      <td>United Kingdom</td>\n",
       "      <td>40</td>\n",
       "    </tr>\n",
       "    <tr>\n",
       "      <th>3</th>\n",
       "      <td>Germany</td>\n",
       "      <td>37</td>\n",
       "    </tr>\n",
       "    <tr>\n",
       "      <th>4</th>\n",
       "      <td>Canada</td>\n",
       "      <td>34</td>\n",
       "    </tr>\n",
       "  </tbody>\n",
       "</table>\n",
       "</div>"
      ],
      "text/plain": [
       "          country  num\n",
       "0   United States  141\n",
       "1          Russia   72\n",
       "2  United Kingdom   40\n",
       "3         Germany   37\n",
       "4          Canada   34"
      ]
     },
     "execution_count": 38,
     "metadata": {},
     "output_type": "execute_result"
    }
   ],
   "source": [
    "pd.read_sql('''\n",
    "    SELECT \n",
    "        country,\n",
    "        COUNT() AS num\n",
    "    FROM \n",
    "        airlines\n",
    "    WHERE \n",
    "        active='Y'\n",
    "    GROUP BY \n",
    "        country\n",
    "    HAVING\n",
    "        num > 30\n",
    "    ORDER BY \n",
    "        num DESC\n",
    "''', conn)"
   ]
  },
  {
   "cell_type": "markdown",
   "metadata": {
    "heading_collapsed": true,
    "hidden": true
   },
   "source": [
    "## Filtering Different Aggregations - Airport Altitudes"
   ]
  },
  {
   "cell_type": "markdown",
   "metadata": {
    "hidden": true
   },
   "source": [
    "We can also filter on other aggregations. For example, let's say we want to investigate the `airports` table."
   ]
  },
  {
   "cell_type": "markdown",
   "metadata": {
    "hidden": true
   },
   "source": [
    "Specifically, we want to know the height of the _highest airport_ in a country given that it has _at least $100$ airports_."
   ]
  },
  {
   "cell_type": "markdown",
   "metadata": {
    "heading_collapsed": true,
    "hidden": true
   },
   "source": [
    "### Looking at the `airports` Table"
   ]
  },
  {
   "cell_type": "code",
   "execution_count": 39,
   "metadata": {
    "hidden": true
   },
   "outputs": [
    {
     "data": {
      "text/html": [
       "<div>\n",
       "<style scoped>\n",
       "    .dataframe tbody tr th:only-of-type {\n",
       "        vertical-align: middle;\n",
       "    }\n",
       "\n",
       "    .dataframe tbody tr th {\n",
       "        vertical-align: top;\n",
       "    }\n",
       "\n",
       "    .dataframe thead th {\n",
       "        text-align: right;\n",
       "    }\n",
       "</style>\n",
       "<table border=\"1\" class=\"dataframe\">\n",
       "  <thead>\n",
       "    <tr style=\"text-align: right;\">\n",
       "      <th></th>\n",
       "      <th>index</th>\n",
       "      <th>id</th>\n",
       "      <th>name</th>\n",
       "      <th>city</th>\n",
       "      <th>country</th>\n",
       "      <th>code</th>\n",
       "      <th>icao</th>\n",
       "      <th>latitude</th>\n",
       "      <th>longitude</th>\n",
       "      <th>altitude</th>\n",
       "      <th>offset</th>\n",
       "      <th>dst</th>\n",
       "      <th>timezone</th>\n",
       "    </tr>\n",
       "  </thead>\n",
       "  <tbody>\n",
       "    <tr>\n",
       "      <th>0</th>\n",
       "      <td>0</td>\n",
       "      <td>1</td>\n",
       "      <td>Goroka</td>\n",
       "      <td>Goroka</td>\n",
       "      <td>Papua New Guinea</td>\n",
       "      <td>GKA</td>\n",
       "      <td>AYGA</td>\n",
       "      <td>-6.081689</td>\n",
       "      <td>145.391881</td>\n",
       "      <td>5282</td>\n",
       "      <td>10</td>\n",
       "      <td>U</td>\n",
       "      <td>Pacific/Port_Moresby</td>\n",
       "    </tr>\n",
       "    <tr>\n",
       "      <th>1</th>\n",
       "      <td>1</td>\n",
       "      <td>2</td>\n",
       "      <td>Madang</td>\n",
       "      <td>Madang</td>\n",
       "      <td>Papua New Guinea</td>\n",
       "      <td>MAG</td>\n",
       "      <td>AYMD</td>\n",
       "      <td>-5.207083</td>\n",
       "      <td>145.7887</td>\n",
       "      <td>20</td>\n",
       "      <td>10</td>\n",
       "      <td>U</td>\n",
       "      <td>Pacific/Port_Moresby</td>\n",
       "    </tr>\n",
       "    <tr>\n",
       "      <th>2</th>\n",
       "      <td>2</td>\n",
       "      <td>3</td>\n",
       "      <td>Mount Hagen</td>\n",
       "      <td>Mount Hagen</td>\n",
       "      <td>Papua New Guinea</td>\n",
       "      <td>HGU</td>\n",
       "      <td>AYMH</td>\n",
       "      <td>-5.826789</td>\n",
       "      <td>144.295861</td>\n",
       "      <td>5388</td>\n",
       "      <td>10</td>\n",
       "      <td>U</td>\n",
       "      <td>Pacific/Port_Moresby</td>\n",
       "    </tr>\n",
       "    <tr>\n",
       "      <th>3</th>\n",
       "      <td>3</td>\n",
       "      <td>4</td>\n",
       "      <td>Nadzab</td>\n",
       "      <td>Nadzab</td>\n",
       "      <td>Papua New Guinea</td>\n",
       "      <td>LAE</td>\n",
       "      <td>AYNZ</td>\n",
       "      <td>-6.569828</td>\n",
       "      <td>146.726242</td>\n",
       "      <td>239</td>\n",
       "      <td>10</td>\n",
       "      <td>U</td>\n",
       "      <td>Pacific/Port_Moresby</td>\n",
       "    </tr>\n",
       "    <tr>\n",
       "      <th>4</th>\n",
       "      <td>4</td>\n",
       "      <td>5</td>\n",
       "      <td>Port Moresby Jacksons Intl</td>\n",
       "      <td>Port Moresby</td>\n",
       "      <td>Papua New Guinea</td>\n",
       "      <td>POM</td>\n",
       "      <td>AYPY</td>\n",
       "      <td>-9.443383</td>\n",
       "      <td>147.22005</td>\n",
       "      <td>146</td>\n",
       "      <td>10</td>\n",
       "      <td>U</td>\n",
       "      <td>Pacific/Port_Moresby</td>\n",
       "    </tr>\n",
       "  </tbody>\n",
       "</table>\n",
       "</div>"
      ],
      "text/plain": [
       "   index id                        name          city           country code  \\\n",
       "0      0  1                      Goroka        Goroka  Papua New Guinea  GKA   \n",
       "1      1  2                      Madang        Madang  Papua New Guinea  MAG   \n",
       "2      2  3                 Mount Hagen   Mount Hagen  Papua New Guinea  HGU   \n",
       "3      3  4                      Nadzab        Nadzab  Papua New Guinea  LAE   \n",
       "4      4  5  Port Moresby Jacksons Intl  Port Moresby  Papua New Guinea  POM   \n",
       "\n",
       "   icao   latitude   longitude altitude offset dst              timezone  \n",
       "0  AYGA  -6.081689  145.391881     5282     10   U  Pacific/Port_Moresby  \n",
       "1  AYMD  -5.207083    145.7887       20     10   U  Pacific/Port_Moresby  \n",
       "2  AYMH  -5.826789  144.295861     5388     10   U  Pacific/Port_Moresby  \n",
       "3  AYNZ  -6.569828  146.726242      239     10   U  Pacific/Port_Moresby  \n",
       "4  AYPY  -9.443383   147.22005      146     10   U  Pacific/Port_Moresby  "
      ]
     },
     "execution_count": 39,
     "metadata": {},
     "output_type": "execute_result"
    }
   ],
   "source": [
    "df_airports = pd.read_sql('''\n",
    "    SELECT \n",
    "        *\n",
    "    FROM \n",
    "        airports \n",
    "''', conn)\n",
    "\n",
    "df_airports.head()"
   ]
  },
  {
   "cell_type": "markdown",
   "metadata": {
    "heading_collapsed": true,
    "hidden": true
   },
   "source": [
    "### Looking at the Highest Airport"
   ]
  },
  {
   "cell_type": "markdown",
   "metadata": {
    "hidden": true
   },
   "source": [
    "Let's first get the highest altitude of airports for each country:"
   ]
  },
  {
   "cell_type": "code",
   "execution_count": 40,
   "metadata": {
    "hidden": true
   },
   "outputs": [
    {
     "data": {
      "text/html": [
       "<div>\n",
       "<style scoped>\n",
       "    .dataframe tbody tr th:only-of-type {\n",
       "        vertical-align: middle;\n",
       "    }\n",
       "\n",
       "    .dataframe tbody tr th {\n",
       "        vertical-align: top;\n",
       "    }\n",
       "\n",
       "    .dataframe thead th {\n",
       "        text-align: right;\n",
       "    }\n",
       "</style>\n",
       "<table border=\"1\" class=\"dataframe\">\n",
       "  <thead>\n",
       "    <tr style=\"text-align: right;\">\n",
       "      <th></th>\n",
       "      <th>country</th>\n",
       "      <th>highest_airport_in_country</th>\n",
       "    </tr>\n",
       "  </thead>\n",
       "  <tbody>\n",
       "    <tr>\n",
       "      <th>0</th>\n",
       "      <td>Afghanistan</td>\n",
       "      <td>7400.0</td>\n",
       "    </tr>\n",
       "    <tr>\n",
       "      <th>1</th>\n",
       "      <td>Albania</td>\n",
       "      <td>126.0</td>\n",
       "    </tr>\n",
       "    <tr>\n",
       "      <th>2</th>\n",
       "      <td>Algeria</td>\n",
       "      <td>4518.0</td>\n",
       "    </tr>\n",
       "    <tr>\n",
       "      <th>3</th>\n",
       "      <td>American Samoa</td>\n",
       "      <td>110.0</td>\n",
       "    </tr>\n",
       "    <tr>\n",
       "      <th>4</th>\n",
       "      <td>Angola</td>\n",
       "      <td>5778.0</td>\n",
       "    </tr>\n",
       "    <tr>\n",
       "      <th>...</th>\n",
       "      <td>...</td>\n",
       "      <td>...</td>\n",
       "    </tr>\n",
       "    <tr>\n",
       "      <th>235</th>\n",
       "      <td>West Bank</td>\n",
       "      <td>2485.0</td>\n",
       "    </tr>\n",
       "    <tr>\n",
       "      <th>236</th>\n",
       "      <td>Western Sahara</td>\n",
       "      <td>350.0</td>\n",
       "    </tr>\n",
       "    <tr>\n",
       "      <th>237</th>\n",
       "      <td>Yemen</td>\n",
       "      <td>7216.0</td>\n",
       "    </tr>\n",
       "    <tr>\n",
       "      <th>238</th>\n",
       "      <td>Zambia</td>\n",
       "      <td>4636.0</td>\n",
       "    </tr>\n",
       "    <tr>\n",
       "      <th>239</th>\n",
       "      <td>Zimbabwe</td>\n",
       "      <td>4887.0</td>\n",
       "    </tr>\n",
       "  </tbody>\n",
       "</table>\n",
       "<p>240 rows × 2 columns</p>\n",
       "</div>"
      ],
      "text/plain": [
       "            country  highest_airport_in_country\n",
       "0       Afghanistan                      7400.0\n",
       "1           Albania                       126.0\n",
       "2           Algeria                      4518.0\n",
       "3    American Samoa                       110.0\n",
       "4            Angola                      5778.0\n",
       "..              ...                         ...\n",
       "235       West Bank                      2485.0\n",
       "236  Western Sahara                       350.0\n",
       "237           Yemen                      7216.0\n",
       "238          Zambia                      4636.0\n",
       "239        Zimbabwe                      4887.0\n",
       "\n",
       "[240 rows x 2 columns]"
      ]
     },
     "execution_count": 40,
     "metadata": {},
     "output_type": "execute_result"
    }
   ],
   "source": [
    "pd.read_sql('''\n",
    "    SELECT \n",
    "        airports.country\n",
    "        ,MAX(\n",
    "            CAST(airports.altitude AS REAL)\n",
    "        ) AS highest_airport_in_country\n",
    "    FROM \n",
    "        airports \n",
    "    GROUP BY\n",
    "        airports.country\n",
    "    ORDER BY\n",
    "        airports.country\n",
    "''', conn)"
   ]
  },
  {
   "cell_type": "markdown",
   "metadata": {
    "heading_collapsed": true,
    "hidden": true
   },
   "source": [
    "### Looking at the Number of Airports Too"
   ]
  },
  {
   "cell_type": "markdown",
   "metadata": {
    "hidden": true
   },
   "source": [
    "We can also get the number of airports for each country."
   ]
  },
  {
   "cell_type": "code",
   "execution_count": null,
   "metadata": {
    "hidden": true
   },
   "outputs": [],
   "source": []
  },
  {
   "cell_type": "markdown",
   "metadata": {
    "heading_collapsed": true,
    "hidden": true
   },
   "source": [
    "### Filtering on Aggregations"
   ]
  },
  {
   "cell_type": "markdown",
   "metadata": {
    "hidden": true
   },
   "source": [
    "> Recall:\n",
    ">\n",
    "> We want to know the height of the _highest airport_ in a country given that it has _at least $100$ airports_."
   ]
  },
  {
   "cell_type": "code",
   "execution_count": null,
   "metadata": {
    "hidden": true
   },
   "outputs": [],
   "source": []
  },
  {
   "cell_type": "markdown",
   "metadata": {
    "heading_collapsed": true
   },
   "source": [
    "# Joins"
   ]
  },
  {
   "cell_type": "markdown",
   "metadata": {
    "hidden": true
   },
   "source": [
    "The biggest advantage in using a relational database (like we've been with SQL) is that you can create **joins**."
   ]
  },
  {
   "cell_type": "markdown",
   "metadata": {
    "hidden": true
   },
   "source": [
    "> By using **`JOIN`** in our query, we can connect different tables using their _relationships_ to other tables.\n",
    ">\n",
    "> Usually we use a key (*foreign key*) to tell us how the two tables are related."
   ]
  },
  {
   "cell_type": "markdown",
   "metadata": {
    "hidden": true
   },
   "source": [
    "There are different types of joins and each has their different use case."
   ]
  },
  {
   "cell_type": "markdown",
   "metadata": {
    "heading_collapsed": true,
    "hidden": true
   },
   "source": [
    "## `INNER JOIN`"
   ]
  },
  {
   "cell_type": "markdown",
   "metadata": {
    "hidden": true
   },
   "source": [
    "> An **inner join** will join two tables together and only keep rows if the _key is in both tables_"
   ]
  },
  {
   "cell_type": "markdown",
   "metadata": {
    "hidden": true
   },
   "source": [
    "![](img/inner_join.png)"
   ]
  },
  {
   "cell_type": "markdown",
   "metadata": {
    "hidden": true
   },
   "source": [
    "Example of an inner join:\n",
    "\n",
    "```sql\n",
    "SELECT\n",
    "    table1.column_name,\n",
    "    table2.different_column_name\n",
    "FROM\n",
    "    table1\n",
    "    INNER JOIN table2\n",
    "        ON table1.shared_column_name = table2.shared_column_name\n",
    "```"
   ]
  },
  {
   "cell_type": "markdown",
   "metadata": {
    "heading_collapsed": true,
    "hidden": true
   },
   "source": [
    "### Code Example for Inner Joins"
   ]
  },
  {
   "cell_type": "markdown",
   "metadata": {
    "hidden": true
   },
   "source": [
    "Let's say we want to look at the different airplane routes"
   ]
  },
  {
   "cell_type": "code",
   "execution_count": 41,
   "metadata": {
    "hidden": true
   },
   "outputs": [
    {
     "data": {
      "text/html": [
       "<div>\n",
       "<style scoped>\n",
       "    .dataframe tbody tr th:only-of-type {\n",
       "        vertical-align: middle;\n",
       "    }\n",
       "\n",
       "    .dataframe tbody tr th {\n",
       "        vertical-align: top;\n",
       "    }\n",
       "\n",
       "    .dataframe thead th {\n",
       "        text-align: right;\n",
       "    }\n",
       "</style>\n",
       "<table border=\"1\" class=\"dataframe\">\n",
       "  <thead>\n",
       "    <tr style=\"text-align: right;\">\n",
       "      <th></th>\n",
       "      <th>index</th>\n",
       "      <th>airline</th>\n",
       "      <th>airline_id</th>\n",
       "      <th>source</th>\n",
       "      <th>source_id</th>\n",
       "      <th>dest</th>\n",
       "      <th>dest_id</th>\n",
       "      <th>codeshare</th>\n",
       "      <th>stops</th>\n",
       "      <th>equipment</th>\n",
       "    </tr>\n",
       "  </thead>\n",
       "  <tbody>\n",
       "    <tr>\n",
       "      <th>0</th>\n",
       "      <td>0</td>\n",
       "      <td>2B</td>\n",
       "      <td>410</td>\n",
       "      <td>AER</td>\n",
       "      <td>2965</td>\n",
       "      <td>KZN</td>\n",
       "      <td>2990</td>\n",
       "      <td>None</td>\n",
       "      <td>0</td>\n",
       "      <td>CR2</td>\n",
       "    </tr>\n",
       "    <tr>\n",
       "      <th>1</th>\n",
       "      <td>1</td>\n",
       "      <td>2B</td>\n",
       "      <td>410</td>\n",
       "      <td>ASF</td>\n",
       "      <td>2966</td>\n",
       "      <td>KZN</td>\n",
       "      <td>2990</td>\n",
       "      <td>None</td>\n",
       "      <td>0</td>\n",
       "      <td>CR2</td>\n",
       "    </tr>\n",
       "    <tr>\n",
       "      <th>2</th>\n",
       "      <td>2</td>\n",
       "      <td>2B</td>\n",
       "      <td>410</td>\n",
       "      <td>ASF</td>\n",
       "      <td>2966</td>\n",
       "      <td>MRV</td>\n",
       "      <td>2962</td>\n",
       "      <td>None</td>\n",
       "      <td>0</td>\n",
       "      <td>CR2</td>\n",
       "    </tr>\n",
       "    <tr>\n",
       "      <th>3</th>\n",
       "      <td>3</td>\n",
       "      <td>2B</td>\n",
       "      <td>410</td>\n",
       "      <td>CEK</td>\n",
       "      <td>2968</td>\n",
       "      <td>KZN</td>\n",
       "      <td>2990</td>\n",
       "      <td>None</td>\n",
       "      <td>0</td>\n",
       "      <td>CR2</td>\n",
       "    </tr>\n",
       "    <tr>\n",
       "      <th>4</th>\n",
       "      <td>4</td>\n",
       "      <td>2B</td>\n",
       "      <td>410</td>\n",
       "      <td>CEK</td>\n",
       "      <td>2968</td>\n",
       "      <td>OVB</td>\n",
       "      <td>4078</td>\n",
       "      <td>None</td>\n",
       "      <td>0</td>\n",
       "      <td>CR2</td>\n",
       "    </tr>\n",
       "    <tr>\n",
       "      <th>...</th>\n",
       "      <td>...</td>\n",
       "      <td>...</td>\n",
       "      <td>...</td>\n",
       "      <td>...</td>\n",
       "      <td>...</td>\n",
       "      <td>...</td>\n",
       "      <td>...</td>\n",
       "      <td>...</td>\n",
       "      <td>...</td>\n",
       "      <td>...</td>\n",
       "    </tr>\n",
       "    <tr>\n",
       "      <th>67658</th>\n",
       "      <td>67658</td>\n",
       "      <td>ZL</td>\n",
       "      <td>4178</td>\n",
       "      <td>WYA</td>\n",
       "      <td>6334</td>\n",
       "      <td>ADL</td>\n",
       "      <td>3341</td>\n",
       "      <td>None</td>\n",
       "      <td>0</td>\n",
       "      <td>SF3</td>\n",
       "    </tr>\n",
       "    <tr>\n",
       "      <th>67659</th>\n",
       "      <td>67659</td>\n",
       "      <td>ZM</td>\n",
       "      <td>19016</td>\n",
       "      <td>DME</td>\n",
       "      <td>4029</td>\n",
       "      <td>FRU</td>\n",
       "      <td>2912</td>\n",
       "      <td>None</td>\n",
       "      <td>0</td>\n",
       "      <td>734</td>\n",
       "    </tr>\n",
       "    <tr>\n",
       "      <th>67660</th>\n",
       "      <td>67660</td>\n",
       "      <td>ZM</td>\n",
       "      <td>19016</td>\n",
       "      <td>FRU</td>\n",
       "      <td>2912</td>\n",
       "      <td>DME</td>\n",
       "      <td>4029</td>\n",
       "      <td>None</td>\n",
       "      <td>0</td>\n",
       "      <td>734</td>\n",
       "    </tr>\n",
       "    <tr>\n",
       "      <th>67661</th>\n",
       "      <td>67661</td>\n",
       "      <td>ZM</td>\n",
       "      <td>19016</td>\n",
       "      <td>FRU</td>\n",
       "      <td>2912</td>\n",
       "      <td>OSS</td>\n",
       "      <td>2913</td>\n",
       "      <td>None</td>\n",
       "      <td>0</td>\n",
       "      <td>734</td>\n",
       "    </tr>\n",
       "    <tr>\n",
       "      <th>67662</th>\n",
       "      <td>67662</td>\n",
       "      <td>ZM</td>\n",
       "      <td>19016</td>\n",
       "      <td>OSS</td>\n",
       "      <td>2913</td>\n",
       "      <td>FRU</td>\n",
       "      <td>2912</td>\n",
       "      <td>None</td>\n",
       "      <td>0</td>\n",
       "      <td>734</td>\n",
       "    </tr>\n",
       "  </tbody>\n",
       "</table>\n",
       "<p>67663 rows × 10 columns</p>\n",
       "</div>"
      ],
      "text/plain": [
       "       index airline airline_id source source_id dest dest_id codeshare stops  \\\n",
       "0          0      2B        410    AER      2965  KZN    2990      None     0   \n",
       "1          1      2B        410    ASF      2966  KZN    2990      None     0   \n",
       "2          2      2B        410    ASF      2966  MRV    2962      None     0   \n",
       "3          3      2B        410    CEK      2968  KZN    2990      None     0   \n",
       "4          4      2B        410    CEK      2968  OVB    4078      None     0   \n",
       "...      ...     ...        ...    ...       ...  ...     ...       ...   ...   \n",
       "67658  67658      ZL       4178    WYA      6334  ADL    3341      None     0   \n",
       "67659  67659      ZM      19016    DME      4029  FRU    2912      None     0   \n",
       "67660  67660      ZM      19016    FRU      2912  DME    4029      None     0   \n",
       "67661  67661      ZM      19016    FRU      2912  OSS    2913      None     0   \n",
       "67662  67662      ZM      19016    OSS      2913  FRU    2912      None     0   \n",
       "\n",
       "      equipment  \n",
       "0           CR2  \n",
       "1           CR2  \n",
       "2           CR2  \n",
       "3           CR2  \n",
       "4           CR2  \n",
       "...         ...  \n",
       "67658       SF3  \n",
       "67659       734  \n",
       "67660       734  \n",
       "67661       734  \n",
       "67662       734  \n",
       "\n",
       "[67663 rows x 10 columns]"
      ]
     },
     "execution_count": 41,
     "metadata": {},
     "output_type": "execute_result"
    }
   ],
   "source": [
    "pd.read_sql('''\n",
    "    SELECT \n",
    "        *\n",
    "    FROM\n",
    "        routes \n",
    "''', conn)"
   ]
  },
  {
   "cell_type": "markdown",
   "metadata": {
    "hidden": true
   },
   "source": [
    "This is great but notice the `airline_id` column. It'd be nice to have some more information about the airlines associated with these routes."
   ]
  },
  {
   "cell_type": "markdown",
   "metadata": {
    "hidden": true
   },
   "source": [
    "We can do an **inner join** to get this information!"
   ]
  },
  {
   "cell_type": "markdown",
   "metadata": {
    "heading_collapsed": true,
    "hidden": true
   },
   "source": [
    "#### Inner Join Routes & Airline Data"
   ]
  },
  {
   "cell_type": "code",
   "execution_count": 52,
   "metadata": {
    "hidden": true
   },
   "outputs": [
    {
     "data": {
      "text/html": [
       "<div>\n",
       "<style scoped>\n",
       "    .dataframe tbody tr th:only-of-type {\n",
       "        vertical-align: middle;\n",
       "    }\n",
       "\n",
       "    .dataframe tbody tr th {\n",
       "        vertical-align: top;\n",
       "    }\n",
       "\n",
       "    .dataframe thead th {\n",
       "        text-align: right;\n",
       "    }\n",
       "</style>\n",
       "<table border=\"1\" class=\"dataframe\">\n",
       "  <thead>\n",
       "    <tr style=\"text-align: right;\">\n",
       "      <th></th>\n",
       "      <th>index</th>\n",
       "      <th>airline</th>\n",
       "      <th>airline_id</th>\n",
       "      <th>source</th>\n",
       "      <th>source_id</th>\n",
       "      <th>dest</th>\n",
       "      <th>dest_id</th>\n",
       "      <th>codeshare</th>\n",
       "      <th>stops</th>\n",
       "      <th>equipment</th>\n",
       "    </tr>\n",
       "  </thead>\n",
       "  <tbody>\n",
       "    <tr>\n",
       "      <th>0</th>\n",
       "      <td>0</td>\n",
       "      <td>2B</td>\n",
       "      <td>410</td>\n",
       "      <td>AER</td>\n",
       "      <td>2965</td>\n",
       "      <td>KZN</td>\n",
       "      <td>2990</td>\n",
       "      <td>None</td>\n",
       "      <td>0</td>\n",
       "      <td>CR2</td>\n",
       "    </tr>\n",
       "    <tr>\n",
       "      <th>1</th>\n",
       "      <td>1</td>\n",
       "      <td>2B</td>\n",
       "      <td>410</td>\n",
       "      <td>ASF</td>\n",
       "      <td>2966</td>\n",
       "      <td>KZN</td>\n",
       "      <td>2990</td>\n",
       "      <td>None</td>\n",
       "      <td>0</td>\n",
       "      <td>CR2</td>\n",
       "    </tr>\n",
       "    <tr>\n",
       "      <th>2</th>\n",
       "      <td>2</td>\n",
       "      <td>2B</td>\n",
       "      <td>410</td>\n",
       "      <td>ASF</td>\n",
       "      <td>2966</td>\n",
       "      <td>MRV</td>\n",
       "      <td>2962</td>\n",
       "      <td>None</td>\n",
       "      <td>0</td>\n",
       "      <td>CR2</td>\n",
       "    </tr>\n",
       "    <tr>\n",
       "      <th>3</th>\n",
       "      <td>3</td>\n",
       "      <td>2B</td>\n",
       "      <td>410</td>\n",
       "      <td>CEK</td>\n",
       "      <td>2968</td>\n",
       "      <td>KZN</td>\n",
       "      <td>2990</td>\n",
       "      <td>None</td>\n",
       "      <td>0</td>\n",
       "      <td>CR2</td>\n",
       "    </tr>\n",
       "    <tr>\n",
       "      <th>4</th>\n",
       "      <td>4</td>\n",
       "      <td>2B</td>\n",
       "      <td>410</td>\n",
       "      <td>CEK</td>\n",
       "      <td>2968</td>\n",
       "      <td>OVB</td>\n",
       "      <td>4078</td>\n",
       "      <td>None</td>\n",
       "      <td>0</td>\n",
       "      <td>CR2</td>\n",
       "    </tr>\n",
       "    <tr>\n",
       "      <th>...</th>\n",
       "      <td>...</td>\n",
       "      <td>...</td>\n",
       "      <td>...</td>\n",
       "      <td>...</td>\n",
       "      <td>...</td>\n",
       "      <td>...</td>\n",
       "      <td>...</td>\n",
       "      <td>...</td>\n",
       "      <td>...</td>\n",
       "      <td>...</td>\n",
       "    </tr>\n",
       "    <tr>\n",
       "      <th>67658</th>\n",
       "      <td>67658</td>\n",
       "      <td>ZL</td>\n",
       "      <td>4178</td>\n",
       "      <td>WYA</td>\n",
       "      <td>6334</td>\n",
       "      <td>ADL</td>\n",
       "      <td>3341</td>\n",
       "      <td>None</td>\n",
       "      <td>0</td>\n",
       "      <td>SF3</td>\n",
       "    </tr>\n",
       "    <tr>\n",
       "      <th>67659</th>\n",
       "      <td>67659</td>\n",
       "      <td>ZM</td>\n",
       "      <td>19016</td>\n",
       "      <td>DME</td>\n",
       "      <td>4029</td>\n",
       "      <td>FRU</td>\n",
       "      <td>2912</td>\n",
       "      <td>None</td>\n",
       "      <td>0</td>\n",
       "      <td>734</td>\n",
       "    </tr>\n",
       "    <tr>\n",
       "      <th>67660</th>\n",
       "      <td>67660</td>\n",
       "      <td>ZM</td>\n",
       "      <td>19016</td>\n",
       "      <td>FRU</td>\n",
       "      <td>2912</td>\n",
       "      <td>DME</td>\n",
       "      <td>4029</td>\n",
       "      <td>None</td>\n",
       "      <td>0</td>\n",
       "      <td>734</td>\n",
       "    </tr>\n",
       "    <tr>\n",
       "      <th>67661</th>\n",
       "      <td>67661</td>\n",
       "      <td>ZM</td>\n",
       "      <td>19016</td>\n",
       "      <td>FRU</td>\n",
       "      <td>2912</td>\n",
       "      <td>OSS</td>\n",
       "      <td>2913</td>\n",
       "      <td>None</td>\n",
       "      <td>0</td>\n",
       "      <td>734</td>\n",
       "    </tr>\n",
       "    <tr>\n",
       "      <th>67662</th>\n",
       "      <td>67662</td>\n",
       "      <td>ZM</td>\n",
       "      <td>19016</td>\n",
       "      <td>OSS</td>\n",
       "      <td>2913</td>\n",
       "      <td>FRU</td>\n",
       "      <td>2912</td>\n",
       "      <td>None</td>\n",
       "      <td>0</td>\n",
       "      <td>734</td>\n",
       "    </tr>\n",
       "  </tbody>\n",
       "</table>\n",
       "<p>67663 rows × 10 columns</p>\n",
       "</div>"
      ],
      "text/plain": [
       "       index airline airline_id source source_id dest dest_id codeshare stops  \\\n",
       "0          0      2B        410    AER      2965  KZN    2990      None     0   \n",
       "1          1      2B        410    ASF      2966  KZN    2990      None     0   \n",
       "2          2      2B        410    ASF      2966  MRV    2962      None     0   \n",
       "3          3      2B        410    CEK      2968  KZN    2990      None     0   \n",
       "4          4      2B        410    CEK      2968  OVB    4078      None     0   \n",
       "...      ...     ...        ...    ...       ...  ...     ...       ...   ...   \n",
       "67658  67658      ZL       4178    WYA      6334  ADL    3341      None     0   \n",
       "67659  67659      ZM      19016    DME      4029  FRU    2912      None     0   \n",
       "67660  67660      ZM      19016    FRU      2912  DME    4029      None     0   \n",
       "67661  67661      ZM      19016    FRU      2912  OSS    2913      None     0   \n",
       "67662  67662      ZM      19016    OSS      2913  FRU    2912      None     0   \n",
       "\n",
       "      equipment  \n",
       "0           CR2  \n",
       "1           CR2  \n",
       "2           CR2  \n",
       "3           CR2  \n",
       "4           CR2  \n",
       "...         ...  \n",
       "67658       SF3  \n",
       "67659       734  \n",
       "67660       734  \n",
       "67661       734  \n",
       "67662       734  \n",
       "\n",
       "[67663 rows x 10 columns]"
      ]
     },
     "execution_count": 52,
     "metadata": {},
     "output_type": "execute_result"
    }
   ],
   "source": [
    "pd.read_sql('''\n",
    "    SELECT \n",
    "        *\n",
    "    FROM\n",
    "        routes\n",
    "''', conn)"
   ]
  },
  {
   "cell_type": "markdown",
   "metadata": {
    "hidden": true
   },
   "source": [
    "We can also specify that we want to retain only certain columns in the `SELECT` clause:"
   ]
  },
  {
   "cell_type": "code",
   "execution_count": 43,
   "metadata": {
    "hidden": true
   },
   "outputs": [
    {
     "data": {
      "text/html": [
       "<div>\n",
       "<style scoped>\n",
       "    .dataframe tbody tr th:only-of-type {\n",
       "        vertical-align: middle;\n",
       "    }\n",
       "\n",
       "    .dataframe tbody tr th {\n",
       "        vertical-align: top;\n",
       "    }\n",
       "\n",
       "    .dataframe thead th {\n",
       "        text-align: right;\n",
       "    }\n",
       "</style>\n",
       "<table border=\"1\" class=\"dataframe\">\n",
       "  <thead>\n",
       "    <tr style=\"text-align: right;\">\n",
       "      <th></th>\n",
       "      <th>departing</th>\n",
       "      <th>destination</th>\n",
       "      <th>stops_before_destination</th>\n",
       "      <th>airline</th>\n",
       "    </tr>\n",
       "  </thead>\n",
       "  <tbody>\n",
       "    <tr>\n",
       "      <th>0</th>\n",
       "      <td>AER</td>\n",
       "      <td>KZN</td>\n",
       "      <td>0</td>\n",
       "      <td>Aerocondor</td>\n",
       "    </tr>\n",
       "    <tr>\n",
       "      <th>1</th>\n",
       "      <td>ASF</td>\n",
       "      <td>KZN</td>\n",
       "      <td>0</td>\n",
       "      <td>Aerocondor</td>\n",
       "    </tr>\n",
       "    <tr>\n",
       "      <th>2</th>\n",
       "      <td>ASF</td>\n",
       "      <td>MRV</td>\n",
       "      <td>0</td>\n",
       "      <td>Aerocondor</td>\n",
       "    </tr>\n",
       "    <tr>\n",
       "      <th>3</th>\n",
       "      <td>CEK</td>\n",
       "      <td>KZN</td>\n",
       "      <td>0</td>\n",
       "      <td>Aerocondor</td>\n",
       "    </tr>\n",
       "    <tr>\n",
       "      <th>4</th>\n",
       "      <td>CEK</td>\n",
       "      <td>OVB</td>\n",
       "      <td>0</td>\n",
       "      <td>Aerocondor</td>\n",
       "    </tr>\n",
       "    <tr>\n",
       "      <th>...</th>\n",
       "      <td>...</td>\n",
       "      <td>...</td>\n",
       "      <td>...</td>\n",
       "      <td>...</td>\n",
       "    </tr>\n",
       "    <tr>\n",
       "      <th>66980</th>\n",
       "      <td>WYA</td>\n",
       "      <td>ADL</td>\n",
       "      <td>0</td>\n",
       "      <td>Regional Express</td>\n",
       "    </tr>\n",
       "    <tr>\n",
       "      <th>66981</th>\n",
       "      <td>DME</td>\n",
       "      <td>FRU</td>\n",
       "      <td>0</td>\n",
       "      <td>Apache Air</td>\n",
       "    </tr>\n",
       "    <tr>\n",
       "      <th>66982</th>\n",
       "      <td>FRU</td>\n",
       "      <td>DME</td>\n",
       "      <td>0</td>\n",
       "      <td>Apache Air</td>\n",
       "    </tr>\n",
       "    <tr>\n",
       "      <th>66983</th>\n",
       "      <td>FRU</td>\n",
       "      <td>OSS</td>\n",
       "      <td>0</td>\n",
       "      <td>Apache Air</td>\n",
       "    </tr>\n",
       "    <tr>\n",
       "      <th>66984</th>\n",
       "      <td>OSS</td>\n",
       "      <td>FRU</td>\n",
       "      <td>0</td>\n",
       "      <td>Apache Air</td>\n",
       "    </tr>\n",
       "  </tbody>\n",
       "</table>\n",
       "<p>66985 rows × 4 columns</p>\n",
       "</div>"
      ],
      "text/plain": [
       "      departing destination stops_before_destination           airline\n",
       "0           AER         KZN                        0        Aerocondor\n",
       "1           ASF         KZN                        0        Aerocondor\n",
       "2           ASF         MRV                        0        Aerocondor\n",
       "3           CEK         KZN                        0        Aerocondor\n",
       "4           CEK         OVB                        0        Aerocondor\n",
       "...         ...         ...                      ...               ...\n",
       "66980       WYA         ADL                        0  Regional Express\n",
       "66981       DME         FRU                        0        Apache Air\n",
       "66982       FRU         DME                        0        Apache Air\n",
       "66983       FRU         OSS                        0        Apache Air\n",
       "66984       OSS         FRU                        0        Apache Air\n",
       "\n",
       "[66985 rows x 4 columns]"
      ]
     },
     "execution_count": 43,
     "metadata": {},
     "output_type": "execute_result"
    }
   ],
   "source": [
    "pd.read_sql('''\n",
    "    SELECT \n",
    "        routes.source AS departing\n",
    "        ,routes.dest AS destination\n",
    "        ,routes.stops AS stops_before_destination\n",
    "        ,airlines.name AS airline\n",
    "    FROM\n",
    "        routes\n",
    "        INNER JOIN airlines\n",
    "            ON routes.airline_id = airlines.id\n",
    "''', conn)"
   ]
  },
  {
   "cell_type": "markdown",
   "metadata": {
    "heading_collapsed": true,
    "hidden": true
   },
   "source": [
    "#### Note: Losing Data with Inner Joins"
   ]
  },
  {
   "cell_type": "markdown",
   "metadata": {
    "hidden": true
   },
   "source": [
    "Since data rows are kept only if _both_ tables have the key, some data can be lost"
   ]
  },
  {
   "cell_type": "code",
   "execution_count": 44,
   "metadata": {
    "hidden": true
   },
   "outputs": [],
   "source": [
    "df_all_routes = pd.read_sql('''\n",
    "    SELECT \n",
    "        *\n",
    "    FROM\n",
    "        routes\n",
    "''', conn)\n",
    "\n",
    "df_routes_after_join = pd.read_sql('''\n",
    "    SELECT \n",
    "        *\n",
    "    FROM\n",
    "        routes\n",
    "        INNER JOIN airlines\n",
    "            ON routes.airline_id = airlines.id\n",
    "''', conn)"
   ]
  },
  {
   "cell_type": "code",
   "execution_count": 45,
   "metadata": {
    "hidden": true
   },
   "outputs": [
    {
     "data": {
      "text/plain": [
       "((67663, 10), (66985, 19))"
      ]
     },
     "execution_count": 45,
     "metadata": {},
     "output_type": "execute_result"
    }
   ],
   "source": [
    "# Look at how the number of rows are different\n",
    "df_all_routes.shape, df_routes_after_join.shape"
   ]
  },
  {
   "cell_type": "markdown",
   "metadata": {
    "hidden": true
   },
   "source": [
    "If you want to keep your data from at least one of your tables, you should use a left join instead of an inner join."
   ]
  },
  {
   "cell_type": "markdown",
   "metadata": {
    "heading_collapsed": true,
    "hidden": true
   },
   "source": [
    "## `LEFT JOIN`"
   ]
  },
  {
   "cell_type": "markdown",
   "metadata": {
    "hidden": true
   },
   "source": [
    "> A **left join** will join two tables together and but will keep all data from the first (left) table using the key provided."
   ]
  },
  {
   "cell_type": "markdown",
   "metadata": {
    "hidden": true
   },
   "source": [
    "![](img/left_join.png)"
   ]
  },
  {
   "cell_type": "markdown",
   "metadata": {
    "hidden": true
   },
   "source": [
    "Example of a left and right join:\n",
    "\n",
    "```sql\n",
    "SELECT\n",
    "    table1.column_name,\n",
    "    table2.different_column_name\n",
    "FROM\n",
    "    table1\n",
    "    LEFT JOIN table2\n",
    "        ON table1.shared_column_name = table2.shared_column_name\n",
    "```"
   ]
  },
  {
   "cell_type": "markdown",
   "metadata": {
    "heading_collapsed": true,
    "hidden": true
   },
   "source": [
    "### Code Example for Left Join"
   ]
  },
  {
   "cell_type": "markdown",
   "metadata": {
    "hidden": true
   },
   "source": [
    "Recall our example using an inner join and how it lost some data since the key wasn't in both the `routes` _and_ `airlines` tables. "
   ]
  },
  {
   "cell_type": "code",
   "execution_count": 46,
   "metadata": {
    "hidden": true
   },
   "outputs": [
    {
     "data": {
      "text/plain": [
       "((67663, 10), (66985, 19))"
      ]
     },
     "execution_count": 46,
     "metadata": {},
     "output_type": "execute_result"
    }
   ],
   "source": [
    "df_all_routes = pd.read_sql('''\n",
    "    SELECT \n",
    "        *\n",
    "    FROM\n",
    "        routes\n",
    "''', conn)\n",
    "\n",
    "# This will lose some data (some routes not included)\n",
    "df_routes_after_inner_join = pd.read_sql('''\n",
    "    SELECT \n",
    "        *\n",
    "    FROM\n",
    "        routes\n",
    "        INNER JOIN airlines\n",
    "            ON routes.airline_id = airlines.id\n",
    "''', conn)\n",
    "\n",
    "# The number of rows are different\n",
    "df_all_routes.shape, df_routes_after_inner_join.shape"
   ]
  },
  {
   "cell_type": "markdown",
   "metadata": {
    "hidden": true
   },
   "source": [
    "If wanted to ensure we always had every route even if the key in `airlines` was not found, we could replace our `INNER JOIN` with a `LEFT JOIN`:"
   ]
  },
  {
   "cell_type": "code",
   "execution_count": 47,
   "metadata": {
    "hidden": true
   },
   "outputs": [
    {
     "data": {
      "text/plain": [
       "(67663, 19)"
      ]
     },
     "execution_count": 47,
     "metadata": {},
     "output_type": "execute_result"
    }
   ],
   "source": [
    "# This will include all the data from routes\n",
    "df_routes_after_left_join = pd.read_sql('''\n",
    "    SELECT \n",
    "        *\n",
    "    FROM\n",
    "        routes\n",
    "        LEFT JOIN airlines\n",
    "            ON routes.airline_id = airlines.id\n",
    "''', conn)\n",
    "\n",
    "df_routes_after_left_join.shape"
   ]
  },
  {
   "cell_type": "markdown",
   "metadata": {
    "heading_collapsed": true,
    "hidden": true
   },
   "source": [
    "## Exercise: Joins"
   ]
  },
  {
   "cell_type": "markdown",
   "metadata": {
    "hidden": true
   },
   "source": [
    "Which airline has the most routes listed in our database?"
   ]
  },
  {
   "cell_type": "code",
   "execution_count": 51,
   "metadata": {},
   "outputs": [
    {
     "data": {
      "text/html": [
       "<div>\n",
       "<style scoped>\n",
       "    .dataframe tbody tr th:only-of-type {\n",
       "        vertical-align: middle;\n",
       "    }\n",
       "\n",
       "    .dataframe tbody tr th {\n",
       "        vertical-align: top;\n",
       "    }\n",
       "\n",
       "    .dataframe thead th {\n",
       "        text-align: right;\n",
       "    }\n",
       "</style>\n",
       "<table border=\"1\" class=\"dataframe\">\n",
       "  <thead>\n",
       "    <tr style=\"text-align: right;\">\n",
       "      <th></th>\n",
       "      <th>index</th>\n",
       "      <th>airline</th>\n",
       "      <th>airline_id</th>\n",
       "      <th>source</th>\n",
       "      <th>source_id</th>\n",
       "      <th>dest</th>\n",
       "      <th>dest_id</th>\n",
       "      <th>codeshare</th>\n",
       "      <th>stops</th>\n",
       "      <th>equipment</th>\n",
       "      <th>index</th>\n",
       "      <th>id</th>\n",
       "      <th>name</th>\n",
       "      <th>alias</th>\n",
       "      <th>iata</th>\n",
       "      <th>icao</th>\n",
       "      <th>callsign</th>\n",
       "      <th>country</th>\n",
       "      <th>active</th>\n",
       "    </tr>\n",
       "  </thead>\n",
       "  <tbody>\n",
       "    <tr>\n",
       "      <th>0</th>\n",
       "      <td>0</td>\n",
       "      <td>2B</td>\n",
       "      <td>410</td>\n",
       "      <td>AER</td>\n",
       "      <td>2965</td>\n",
       "      <td>KZN</td>\n",
       "      <td>2990</td>\n",
       "      <td>None</td>\n",
       "      <td>0</td>\n",
       "      <td>CR2</td>\n",
       "      <td>409</td>\n",
       "      <td>410</td>\n",
       "      <td>Aerocondor</td>\n",
       "      <td>\\N</td>\n",
       "      <td>2B</td>\n",
       "      <td>ARD</td>\n",
       "      <td>AEROCONDOR</td>\n",
       "      <td>Portugal</td>\n",
       "      <td>Y</td>\n",
       "    </tr>\n",
       "    <tr>\n",
       "      <th>1</th>\n",
       "      <td>1</td>\n",
       "      <td>2B</td>\n",
       "      <td>410</td>\n",
       "      <td>ASF</td>\n",
       "      <td>2966</td>\n",
       "      <td>KZN</td>\n",
       "      <td>2990</td>\n",
       "      <td>None</td>\n",
       "      <td>0</td>\n",
       "      <td>CR2</td>\n",
       "      <td>409</td>\n",
       "      <td>410</td>\n",
       "      <td>Aerocondor</td>\n",
       "      <td>\\N</td>\n",
       "      <td>2B</td>\n",
       "      <td>ARD</td>\n",
       "      <td>AEROCONDOR</td>\n",
       "      <td>Portugal</td>\n",
       "      <td>Y</td>\n",
       "    </tr>\n",
       "    <tr>\n",
       "      <th>2</th>\n",
       "      <td>2</td>\n",
       "      <td>2B</td>\n",
       "      <td>410</td>\n",
       "      <td>ASF</td>\n",
       "      <td>2966</td>\n",
       "      <td>MRV</td>\n",
       "      <td>2962</td>\n",
       "      <td>None</td>\n",
       "      <td>0</td>\n",
       "      <td>CR2</td>\n",
       "      <td>409</td>\n",
       "      <td>410</td>\n",
       "      <td>Aerocondor</td>\n",
       "      <td>\\N</td>\n",
       "      <td>2B</td>\n",
       "      <td>ARD</td>\n",
       "      <td>AEROCONDOR</td>\n",
       "      <td>Portugal</td>\n",
       "      <td>Y</td>\n",
       "    </tr>\n",
       "    <tr>\n",
       "      <th>3</th>\n",
       "      <td>3</td>\n",
       "      <td>2B</td>\n",
       "      <td>410</td>\n",
       "      <td>CEK</td>\n",
       "      <td>2968</td>\n",
       "      <td>KZN</td>\n",
       "      <td>2990</td>\n",
       "      <td>None</td>\n",
       "      <td>0</td>\n",
       "      <td>CR2</td>\n",
       "      <td>409</td>\n",
       "      <td>410</td>\n",
       "      <td>Aerocondor</td>\n",
       "      <td>\\N</td>\n",
       "      <td>2B</td>\n",
       "      <td>ARD</td>\n",
       "      <td>AEROCONDOR</td>\n",
       "      <td>Portugal</td>\n",
       "      <td>Y</td>\n",
       "    </tr>\n",
       "    <tr>\n",
       "      <th>4</th>\n",
       "      <td>4</td>\n",
       "      <td>2B</td>\n",
       "      <td>410</td>\n",
       "      <td>CEK</td>\n",
       "      <td>2968</td>\n",
       "      <td>OVB</td>\n",
       "      <td>4078</td>\n",
       "      <td>None</td>\n",
       "      <td>0</td>\n",
       "      <td>CR2</td>\n",
       "      <td>409</td>\n",
       "      <td>410</td>\n",
       "      <td>Aerocondor</td>\n",
       "      <td>\\N</td>\n",
       "      <td>2B</td>\n",
       "      <td>ARD</td>\n",
       "      <td>AEROCONDOR</td>\n",
       "      <td>Portugal</td>\n",
       "      <td>Y</td>\n",
       "    </tr>\n",
       "    <tr>\n",
       "      <th>...</th>\n",
       "      <td>...</td>\n",
       "      <td>...</td>\n",
       "      <td>...</td>\n",
       "      <td>...</td>\n",
       "      <td>...</td>\n",
       "      <td>...</td>\n",
       "      <td>...</td>\n",
       "      <td>...</td>\n",
       "      <td>...</td>\n",
       "      <td>...</td>\n",
       "      <td>...</td>\n",
       "      <td>...</td>\n",
       "      <td>...</td>\n",
       "      <td>...</td>\n",
       "      <td>...</td>\n",
       "      <td>...</td>\n",
       "      <td>...</td>\n",
       "      <td>...</td>\n",
       "      <td>...</td>\n",
       "    </tr>\n",
       "    <tr>\n",
       "      <th>66980</th>\n",
       "      <td>67658</td>\n",
       "      <td>ZL</td>\n",
       "      <td>4178</td>\n",
       "      <td>WYA</td>\n",
       "      <td>6334</td>\n",
       "      <td>ADL</td>\n",
       "      <td>3341</td>\n",
       "      <td>None</td>\n",
       "      <td>0</td>\n",
       "      <td>SF3</td>\n",
       "      <td>4171</td>\n",
       "      <td>4178</td>\n",
       "      <td>Regional Express</td>\n",
       "      <td>\\N</td>\n",
       "      <td>ZL</td>\n",
       "      <td>RXA</td>\n",
       "      <td>REX</td>\n",
       "      <td>Australia</td>\n",
       "      <td>Y</td>\n",
       "    </tr>\n",
       "    <tr>\n",
       "      <th>66981</th>\n",
       "      <td>67659</td>\n",
       "      <td>ZM</td>\n",
       "      <td>19016</td>\n",
       "      <td>DME</td>\n",
       "      <td>4029</td>\n",
       "      <td>FRU</td>\n",
       "      <td>2912</td>\n",
       "      <td>None</td>\n",
       "      <td>0</td>\n",
       "      <td>734</td>\n",
       "      <td>5977</td>\n",
       "      <td>19016</td>\n",
       "      <td>Apache Air</td>\n",
       "      <td>Apache</td>\n",
       "      <td>ZM</td>\n",
       "      <td>IWA</td>\n",
       "      <td>APACHE</td>\n",
       "      <td>United States</td>\n",
       "      <td>Y</td>\n",
       "    </tr>\n",
       "    <tr>\n",
       "      <th>66982</th>\n",
       "      <td>67660</td>\n",
       "      <td>ZM</td>\n",
       "      <td>19016</td>\n",
       "      <td>FRU</td>\n",
       "      <td>2912</td>\n",
       "      <td>DME</td>\n",
       "      <td>4029</td>\n",
       "      <td>None</td>\n",
       "      <td>0</td>\n",
       "      <td>734</td>\n",
       "      <td>5977</td>\n",
       "      <td>19016</td>\n",
       "      <td>Apache Air</td>\n",
       "      <td>Apache</td>\n",
       "      <td>ZM</td>\n",
       "      <td>IWA</td>\n",
       "      <td>APACHE</td>\n",
       "      <td>United States</td>\n",
       "      <td>Y</td>\n",
       "    </tr>\n",
       "    <tr>\n",
       "      <th>66983</th>\n",
       "      <td>67661</td>\n",
       "      <td>ZM</td>\n",
       "      <td>19016</td>\n",
       "      <td>FRU</td>\n",
       "      <td>2912</td>\n",
       "      <td>OSS</td>\n",
       "      <td>2913</td>\n",
       "      <td>None</td>\n",
       "      <td>0</td>\n",
       "      <td>734</td>\n",
       "      <td>5977</td>\n",
       "      <td>19016</td>\n",
       "      <td>Apache Air</td>\n",
       "      <td>Apache</td>\n",
       "      <td>ZM</td>\n",
       "      <td>IWA</td>\n",
       "      <td>APACHE</td>\n",
       "      <td>United States</td>\n",
       "      <td>Y</td>\n",
       "    </tr>\n",
       "    <tr>\n",
       "      <th>66984</th>\n",
       "      <td>67662</td>\n",
       "      <td>ZM</td>\n",
       "      <td>19016</td>\n",
       "      <td>OSS</td>\n",
       "      <td>2913</td>\n",
       "      <td>FRU</td>\n",
       "      <td>2912</td>\n",
       "      <td>None</td>\n",
       "      <td>0</td>\n",
       "      <td>734</td>\n",
       "      <td>5977</td>\n",
       "      <td>19016</td>\n",
       "      <td>Apache Air</td>\n",
       "      <td>Apache</td>\n",
       "      <td>ZM</td>\n",
       "      <td>IWA</td>\n",
       "      <td>APACHE</td>\n",
       "      <td>United States</td>\n",
       "      <td>Y</td>\n",
       "    </tr>\n",
       "  </tbody>\n",
       "</table>\n",
       "<p>66985 rows × 19 columns</p>\n",
       "</div>"
      ],
      "text/plain": [
       "       index airline airline_id source source_id dest dest_id codeshare stops  \\\n",
       "0          0      2B        410    AER      2965  KZN    2990      None     0   \n",
       "1          1      2B        410    ASF      2966  KZN    2990      None     0   \n",
       "2          2      2B        410    ASF      2966  MRV    2962      None     0   \n",
       "3          3      2B        410    CEK      2968  KZN    2990      None     0   \n",
       "4          4      2B        410    CEK      2968  OVB    4078      None     0   \n",
       "...      ...     ...        ...    ...       ...  ...     ...       ...   ...   \n",
       "66980  67658      ZL       4178    WYA      6334  ADL    3341      None     0   \n",
       "66981  67659      ZM      19016    DME      4029  FRU    2912      None     0   \n",
       "66982  67660      ZM      19016    FRU      2912  DME    4029      None     0   \n",
       "66983  67661      ZM      19016    FRU      2912  OSS    2913      None     0   \n",
       "66984  67662      ZM      19016    OSS      2913  FRU    2912      None     0   \n",
       "\n",
       "      equipment  index     id              name   alias iata icao    callsign  \\\n",
       "0           CR2    409    410        Aerocondor      \\N   2B  ARD  AEROCONDOR   \n",
       "1           CR2    409    410        Aerocondor      \\N   2B  ARD  AEROCONDOR   \n",
       "2           CR2    409    410        Aerocondor      \\N   2B  ARD  AEROCONDOR   \n",
       "3           CR2    409    410        Aerocondor      \\N   2B  ARD  AEROCONDOR   \n",
       "4           CR2    409    410        Aerocondor      \\N   2B  ARD  AEROCONDOR   \n",
       "...         ...    ...    ...               ...     ...  ...  ...         ...   \n",
       "66980       SF3   4171   4178  Regional Express      \\N   ZL  RXA         REX   \n",
       "66981       734   5977  19016        Apache Air  Apache   ZM  IWA      APACHE   \n",
       "66982       734   5977  19016        Apache Air  Apache   ZM  IWA      APACHE   \n",
       "66983       734   5977  19016        Apache Air  Apache   ZM  IWA      APACHE   \n",
       "66984       734   5977  19016        Apache Air  Apache   ZM  IWA      APACHE   \n",
       "\n",
       "             country active  \n",
       "0           Portugal      Y  \n",
       "1           Portugal      Y  \n",
       "2           Portugal      Y  \n",
       "3           Portugal      Y  \n",
       "4           Portugal      Y  \n",
       "...              ...    ...  \n",
       "66980      Australia      Y  \n",
       "66981  United States      Y  \n",
       "66982  United States      Y  \n",
       "66983  United States      Y  \n",
       "66984  United States      Y  \n",
       "\n",
       "[66985 rows x 19 columns]"
      ]
     },
     "execution_count": 51,
     "metadata": {},
     "output_type": "execute_result"
    }
   ],
   "source": [
    "df_routes_after_inner_join = pd.read_sql('''\n",
    "    SELECT \n",
    "        *\n",
    "    FROM\n",
    "        routes\n",
    "        INNER JOIN airlines\n",
    "            ON routes.airline_id = airlines.id\n",
    "            \n",
    "''', conn)\n",
    "df_routes_after_inner_join"
   ]
  },
  {
   "cell_type": "code",
   "execution_count": 64,
   "metadata": {},
   "outputs": [
    {
     "data": {
      "text/html": [
       "<div>\n",
       "<style scoped>\n",
       "    .dataframe tbody tr th:only-of-type {\n",
       "        vertical-align: middle;\n",
       "    }\n",
       "\n",
       "    .dataframe tbody tr th {\n",
       "        vertical-align: top;\n",
       "    }\n",
       "\n",
       "    .dataframe thead th {\n",
       "        text-align: right;\n",
       "    }\n",
       "</style>\n",
       "<table border=\"1\" class=\"dataframe\">\n",
       "  <thead>\n",
       "    <tr style=\"text-align: right;\">\n",
       "      <th></th>\n",
       "      <th>index</th>\n",
       "      <th>airline</th>\n",
       "      <th>airline_id</th>\n",
       "      <th>source</th>\n",
       "      <th>source_id</th>\n",
       "      <th>dest</th>\n",
       "      <th>dest_id</th>\n",
       "      <th>codeshare</th>\n",
       "      <th>stops</th>\n",
       "      <th>equipment</th>\n",
       "      <th>index</th>\n",
       "      <th>id</th>\n",
       "      <th>name</th>\n",
       "      <th>alias</th>\n",
       "      <th>iata</th>\n",
       "      <th>icao</th>\n",
       "      <th>callsign</th>\n",
       "      <th>country</th>\n",
       "      <th>active</th>\n",
       "    </tr>\n",
       "  </thead>\n",
       "  <tbody>\n",
       "    <tr>\n",
       "      <th>0</th>\n",
       "      <td>312</td>\n",
       "      <td>3H</td>\n",
       "      <td>\\N</td>\n",
       "      <td>AKV</td>\n",
       "      <td>5506</td>\n",
       "      <td>YIK</td>\n",
       "      <td>5504</td>\n",
       "      <td>None</td>\n",
       "      <td>0</td>\n",
       "      <td>DH8</td>\n",
       "      <td>NaN</td>\n",
       "      <td>None</td>\n",
       "      <td>None</td>\n",
       "      <td>None</td>\n",
       "      <td>None</td>\n",
       "      <td>None</td>\n",
       "      <td>None</td>\n",
       "      <td>None</td>\n",
       "      <td>None</td>\n",
       "    </tr>\n",
       "    <tr>\n",
       "      <th>1</th>\n",
       "      <td>46584</td>\n",
       "      <td>Q5</td>\n",
       "      <td>10</td>\n",
       "      <td>CKX</td>\n",
       "      <td>\\N</td>\n",
       "      <td>TKJ</td>\n",
       "      <td>\\N</td>\n",
       "      <td>None</td>\n",
       "      <td>0</td>\n",
       "      <td>CNA</td>\n",
       "      <td>9.0</td>\n",
       "      <td>10</td>\n",
       "      <td>40-Mile Air</td>\n",
       "      <td>\\N</td>\n",
       "      <td>Q5</td>\n",
       "      <td>MLA</td>\n",
       "      <td>MILE-AIR</td>\n",
       "      <td>United States</td>\n",
       "      <td>Y</td>\n",
       "    </tr>\n",
       "    <tr>\n",
       "      <th>2</th>\n",
       "      <td>35714</td>\n",
       "      <td>KC</td>\n",
       "      <td>1006</td>\n",
       "      <td>AKX</td>\n",
       "      <td>2920</td>\n",
       "      <td>ALA</td>\n",
       "      <td>2908</td>\n",
       "      <td>None</td>\n",
       "      <td>0</td>\n",
       "      <td>757 320 767 321</td>\n",
       "      <td>1005.0</td>\n",
       "      <td>1006</td>\n",
       "      <td>Air Astana</td>\n",
       "      <td>\\N</td>\n",
       "      <td>KC</td>\n",
       "      <td>KZR</td>\n",
       "      <td>ASTANALINE</td>\n",
       "      <td>Kazakhstan</td>\n",
       "      <td>Y</td>\n",
       "    </tr>\n",
       "    <tr>\n",
       "      <th>3</th>\n",
       "      <td>39524</td>\n",
       "      <td>LV</td>\n",
       "      <td>1008</td>\n",
       "      <td>MLE</td>\n",
       "      <td>3156</td>\n",
       "      <td>PEK</td>\n",
       "      <td>3364</td>\n",
       "      <td>None</td>\n",
       "      <td>0</td>\n",
       "      <td>763</td>\n",
       "      <td>1007.0</td>\n",
       "      <td>1008</td>\n",
       "      <td>Albanian Airlines</td>\n",
       "      <td>\\N</td>\n",
       "      <td>LV</td>\n",
       "      <td>LBC</td>\n",
       "      <td>ALBANIAN</td>\n",
       "      <td>Albania</td>\n",
       "      <td>Y</td>\n",
       "    </tr>\n",
       "    <tr>\n",
       "      <th>4</th>\n",
       "      <td>33261</td>\n",
       "      <td>IL</td>\n",
       "      <td>10121</td>\n",
       "      <td>AMQ</td>\n",
       "      <td>3256</td>\n",
       "      <td>SXK</td>\n",
       "      <td>\\N</td>\n",
       "      <td>None</td>\n",
       "      <td>0</td>\n",
       "      <td>AT4</td>\n",
       "      <td>5577.0</td>\n",
       "      <td>10121</td>\n",
       "      <td>Illinois Airways</td>\n",
       "      <td>None</td>\n",
       "      <td>IL</td>\n",
       "      <td>ILW</td>\n",
       "      <td>None</td>\n",
       "      <td>United States</td>\n",
       "      <td>N</td>\n",
       "    </tr>\n",
       "    <tr>\n",
       "      <th>...</th>\n",
       "      <td>...</td>\n",
       "      <td>...</td>\n",
       "      <td>...</td>\n",
       "      <td>...</td>\n",
       "      <td>...</td>\n",
       "      <td>...</td>\n",
       "      <td>...</td>\n",
       "      <td>...</td>\n",
       "      <td>...</td>\n",
       "      <td>...</td>\n",
       "      <td>...</td>\n",
       "      <td>...</td>\n",
       "      <td>...</td>\n",
       "      <td>...</td>\n",
       "      <td>...</td>\n",
       "      <td>...</td>\n",
       "      <td>...</td>\n",
       "      <td>...</td>\n",
       "      <td>...</td>\n",
       "    </tr>\n",
       "    <tr>\n",
       "      <th>536</th>\n",
       "      <td>510</td>\n",
       "      <td>3O</td>\n",
       "      <td>9818</td>\n",
       "      <td>AMS</td>\n",
       "      <td>580</td>\n",
       "      <td>NDR</td>\n",
       "      <td>5673</td>\n",
       "      <td>None</td>\n",
       "      <td>0</td>\n",
       "      <td>320</td>\n",
       "      <td>5561.0</td>\n",
       "      <td>9818</td>\n",
       "      <td>Air Arabia Maroc</td>\n",
       "      <td>None</td>\n",
       "      <td>3O</td>\n",
       "      <td>\\N</td>\n",
       "      <td>Air Arabia</td>\n",
       "      <td>Morocco</td>\n",
       "      <td>Y</td>\n",
       "    </tr>\n",
       "    <tr>\n",
       "      <th>537</th>\n",
       "      <td>66025</td>\n",
       "      <td>YC</td>\n",
       "      <td>9828</td>\n",
       "      <td>BAX</td>\n",
       "      <td>2956</td>\n",
       "      <td>DME</td>\n",
       "      <td>4029</td>\n",
       "      <td>None</td>\n",
       "      <td>0</td>\n",
       "      <td>735</td>\n",
       "      <td>5563.0</td>\n",
       "      <td>9828</td>\n",
       "      <td>Ciel Canadien</td>\n",
       "      <td>None</td>\n",
       "      <td>YC</td>\n",
       "      <td>YCC</td>\n",
       "      <td>Ciel</td>\n",
       "      <td>Canada</td>\n",
       "      <td>Y</td>\n",
       "    </tr>\n",
       "    <tr>\n",
       "      <th>538</th>\n",
       "      <td>17745</td>\n",
       "      <td>CN</td>\n",
       "      <td>9829</td>\n",
       "      <td>HLD</td>\n",
       "      <td>3366</td>\n",
       "      <td>PEK</td>\n",
       "      <td>3364</td>\n",
       "      <td>None</td>\n",
       "      <td>0</td>\n",
       "      <td>738</td>\n",
       "      <td>5564.0</td>\n",
       "      <td>9829</td>\n",
       "      <td>Canadian National Airways</td>\n",
       "      <td>None</td>\n",
       "      <td>CN</td>\n",
       "      <td>YCP</td>\n",
       "      <td>CaNational</td>\n",
       "      <td>Canada</td>\n",
       "      <td>Y</td>\n",
       "    </tr>\n",
       "    <tr>\n",
       "      <th>539</th>\n",
       "      <td>36124</td>\n",
       "      <td>KK</td>\n",
       "      <td>995</td>\n",
       "      <td>ADA</td>\n",
       "      <td>1685</td>\n",
       "      <td>EBL</td>\n",
       "      <td>3989</td>\n",
       "      <td>None</td>\n",
       "      <td>0</td>\n",
       "      <td>320</td>\n",
       "      <td>994.0</td>\n",
       "      <td>995</td>\n",
       "      <td>Atlasjet</td>\n",
       "      <td>\\N</td>\n",
       "      <td>KK</td>\n",
       "      <td>KKK</td>\n",
       "      <td>ATLASJET</td>\n",
       "      <td>Turkey</td>\n",
       "      <td>Y</td>\n",
       "    </tr>\n",
       "    <tr>\n",
       "      <th>540</th>\n",
       "      <td>35065</td>\n",
       "      <td>JS</td>\n",
       "      <td>998</td>\n",
       "      <td>FNJ</td>\n",
       "      <td>3377</td>\n",
       "      <td>KUL</td>\n",
       "      <td>3304</td>\n",
       "      <td>None</td>\n",
       "      <td>0</td>\n",
       "      <td>T20</td>\n",
       "      <td>997.0</td>\n",
       "      <td>998</td>\n",
       "      <td>Air Koryo</td>\n",
       "      <td>\\N</td>\n",
       "      <td>JS</td>\n",
       "      <td>KOR</td>\n",
       "      <td>AIR KORYO</td>\n",
       "      <td>Democratic People's Republic of Korea</td>\n",
       "      <td>Y</td>\n",
       "    </tr>\n",
       "  </tbody>\n",
       "</table>\n",
       "<p>541 rows × 19 columns</p>\n",
       "</div>"
      ],
      "text/plain": [
       "     index airline airline_id source source_id dest dest_id codeshare stops  \\\n",
       "0      312      3H         \\N    AKV      5506  YIK    5504      None     0   \n",
       "1    46584      Q5         10    CKX        \\N  TKJ      \\N      None     0   \n",
       "2    35714      KC       1006    AKX      2920  ALA    2908      None     0   \n",
       "3    39524      LV       1008    MLE      3156  PEK    3364      None     0   \n",
       "4    33261      IL      10121    AMQ      3256  SXK      \\N      None     0   \n",
       "..     ...     ...        ...    ...       ...  ...     ...       ...   ...   \n",
       "536    510      3O       9818    AMS       580  NDR    5673      None     0   \n",
       "537  66025      YC       9828    BAX      2956  DME    4029      None     0   \n",
       "538  17745      CN       9829    HLD      3366  PEK    3364      None     0   \n",
       "539  36124      KK        995    ADA      1685  EBL    3989      None     0   \n",
       "540  35065      JS        998    FNJ      3377  KUL    3304      None     0   \n",
       "\n",
       "           equipment   index     id                       name alias  iata  \\\n",
       "0                DH8     NaN   None                       None  None  None   \n",
       "1                CNA     9.0     10                40-Mile Air    \\N    Q5   \n",
       "2    757 320 767 321  1005.0   1006                 Air Astana    \\N    KC   \n",
       "3                763  1007.0   1008          Albanian Airlines    \\N    LV   \n",
       "4                AT4  5577.0  10121           Illinois Airways  None    IL   \n",
       "..               ...     ...    ...                        ...   ...   ...   \n",
       "536              320  5561.0   9818           Air Arabia Maroc  None    3O   \n",
       "537              735  5563.0   9828              Ciel Canadien  None    YC   \n",
       "538              738  5564.0   9829  Canadian National Airways  None    CN   \n",
       "539              320   994.0    995                   Atlasjet    \\N    KK   \n",
       "540              T20   997.0    998                  Air Koryo    \\N    JS   \n",
       "\n",
       "     icao    callsign                                country active  \n",
       "0    None        None                                   None   None  \n",
       "1     MLA    MILE-AIR                          United States      Y  \n",
       "2     KZR  ASTANALINE                             Kazakhstan      Y  \n",
       "3     LBC    ALBANIAN                                Albania      Y  \n",
       "4     ILW        None                          United States      N  \n",
       "..    ...         ...                                    ...    ...  \n",
       "536    \\N  Air Arabia                                Morocco      Y  \n",
       "537   YCC        Ciel                                 Canada      Y  \n",
       "538   YCP  CaNational                                 Canada      Y  \n",
       "539   KKK    ATLASJET                                 Turkey      Y  \n",
       "540   KOR   AIR KORYO  Democratic People's Republic of Korea      Y  \n",
       "\n",
       "[541 rows x 19 columns]"
      ]
     },
     "execution_count": 64,
     "metadata": {},
     "output_type": "execute_result"
    }
   ],
   "source": [
    "df_routes_after_inner_join = pd.read_sql('''\n",
    "    SELECT \n",
    "*\n",
    "    FROM\n",
    "        routes\n",
    "        LEFT JOIN airlines\n",
    "            ON routes.airline_id = airlines.id\n",
    "            \n",
    "    GROUP BY\n",
    "        airlines.\"id\"\n",
    "''', conn)\n",
    "df_routes_after_inner_join"
   ]
  },
  {
   "cell_type": "code",
   "execution_count": 65,
   "metadata": {
    "hidden": true
   },
   "outputs": [
    {
     "data": {
      "text/html": [
       "<div>\n",
       "<style scoped>\n",
       "    .dataframe tbody tr th:only-of-type {\n",
       "        vertical-align: middle;\n",
       "    }\n",
       "\n",
       "    .dataframe tbody tr th {\n",
       "        vertical-align: top;\n",
       "    }\n",
       "\n",
       "    .dataframe thead th {\n",
       "        text-align: right;\n",
       "    }\n",
       "</style>\n",
       "<table border=\"1\" class=\"dataframe\">\n",
       "  <thead>\n",
       "    <tr style=\"text-align: right;\">\n",
       "      <th></th>\n",
       "      <th>Airline</th>\n",
       "      <th>number_number_of_routes</th>\n",
       "    </tr>\n",
       "  </thead>\n",
       "  <tbody>\n",
       "    <tr>\n",
       "      <th>0</th>\n",
       "      <td>Ryanair</td>\n",
       "      <td>2484</td>\n",
       "    </tr>\n",
       "    <tr>\n",
       "      <th>1</th>\n",
       "      <td>American Airlines</td>\n",
       "      <td>2354</td>\n",
       "    </tr>\n",
       "    <tr>\n",
       "      <th>2</th>\n",
       "      <td>United Airlines</td>\n",
       "      <td>2180</td>\n",
       "    </tr>\n",
       "    <tr>\n",
       "      <th>3</th>\n",
       "      <td>Delta Air Lines</td>\n",
       "      <td>1981</td>\n",
       "    </tr>\n",
       "    <tr>\n",
       "      <th>4</th>\n",
       "      <td>US Airways</td>\n",
       "      <td>1960</td>\n",
       "    </tr>\n",
       "    <tr>\n",
       "      <th>...</th>\n",
       "      <td>...</td>\n",
       "      <td>...</td>\n",
       "    </tr>\n",
       "    <tr>\n",
       "      <th>536</th>\n",
       "      <td>Papillon Grand Canyon Helicopters</td>\n",
       "      <td>2</td>\n",
       "    </tr>\n",
       "    <tr>\n",
       "      <th>537</th>\n",
       "      <td>SmartLynx Airlines</td>\n",
       "      <td>2</td>\n",
       "    </tr>\n",
       "    <tr>\n",
       "      <th>538</th>\n",
       "      <td>Alaska Central Express</td>\n",
       "      <td>2</td>\n",
       "    </tr>\n",
       "    <tr>\n",
       "      <th>539</th>\n",
       "      <td>Air Europe</td>\n",
       "      <td>2</td>\n",
       "    </tr>\n",
       "    <tr>\n",
       "      <th>540</th>\n",
       "      <td>Eurowings</td>\n",
       "      <td>1</td>\n",
       "    </tr>\n",
       "  </tbody>\n",
       "</table>\n",
       "<p>541 rows × 2 columns</p>\n",
       "</div>"
      ],
      "text/plain": [
       "                               Airline  number_number_of_routes\n",
       "0                              Ryanair                     2484\n",
       "1                    American Airlines                     2354\n",
       "2                      United Airlines                     2180\n",
       "3                      Delta Air Lines                     1981\n",
       "4                           US Airways                     1960\n",
       "..                                 ...                      ...\n",
       "536  Papillon Grand Canyon Helicopters                        2\n",
       "537                 SmartLynx Airlines                        2\n",
       "538             Alaska Central Express                        2\n",
       "539                         Air Europe                        2\n",
       "540                          Eurowings                        1\n",
       "\n",
       "[541 rows x 2 columns]"
      ]
     },
     "execution_count": 65,
     "metadata": {},
     "output_type": "execute_result"
    }
   ],
   "source": [
    "# Your code here\n",
    "df_routes_after_inner_join = pd.read_sql('''\n",
    "    SELECT \n",
    "        airlines.name AS \"Airline\", count() AS number_number_of_routes\n",
    "    FROM\n",
    "        routes\n",
    "        LEFT JOIN airlines\n",
    "            ON routes.airline_id = airlines.id\n",
    "            \n",
    "    GROUP BY\n",
    "        airlines.\"id\"\n",
    "    ORDER BY\n",
    "        number_number_of_routes DESC\n",
    "''', conn)\n",
    "df_routes_after_inner_join"
   ]
  },
  {
   "cell_type": "markdown",
   "metadata": {
    "heading_collapsed": true,
    "hidden": true
   },
   "source": [
    "<details>\n",
    "    <summary><b>Possible Solution</b></summary>\n",
    "\n",
    "```sql\n",
    "SELECT\n",
    "    airlines.name AS airline,\n",
    "    COUNT() AS number_of_routes\n",
    "-- We first need to get all the relevant info via a join\n",
    "FROM\n",
    "    routes\n",
    "    -- LEFT JOIN since we want all routes (even if airline id is unknown)\n",
    "    LEFT JOIN airlines\n",
    "        ON routes.airline_id = airlines.id\n",
    "-- We need to group by airline's ID\n",
    "GROUP BY\n",
    "    airlines.id\n",
    "ORDER BY\n",
    "    number_of_routes DESC\n",
    "```\n",
    "</details>"
   ]
  },
  {
   "cell_type": "markdown",
   "metadata": {
    "heading_collapsed": true
   },
   "source": [
    "# Level Up: Execution Order"
   ]
  },
  {
   "cell_type": "markdown",
   "metadata": {
    "hidden": true
   },
   "source": [
    "```SQL\n",
    "SELECT \n",
    "    COUNT(table2.col2) AS my_new_count\n",
    "    ,table1.col2\n",
    "FROM\n",
    "    table1\n",
    "    JOIN table2\n",
    "        ON table1.col1 = table2.col2\n",
    "WHERE\n",
    "    table1.col1 > 0\n",
    "GROUP BY\n",
    "    table2.col1\n",
    "```"
   ]
  },
  {
   "cell_type": "markdown",
   "metadata": {
    "hidden": true
   },
   "source": [
    "1. `From`\n",
    "2. `Where`\n",
    "3. `Group By`\n",
    "4. `Having`\n",
    "5. `Select`\n",
    "6. `Order By`\n",
    "7. `Limit`"
   ]
  }
 ],
 "metadata": {
  "kernelspec": {
   "display_name": "Python 3",
   "language": "python",
   "name": "python3"
  },
  "language_info": {
   "codemirror_mode": {
    "name": "ipython",
    "version": 3
   },
   "file_extension": ".py",
   "mimetype": "text/x-python",
   "name": "python",
   "nbconvert_exporter": "python",
   "pygments_lexer": "ipython3",
   "version": "3.8.5"
  },
  "toc": {
   "base_numbering": 1,
   "nav_menu": {},
   "number_sections": true,
   "sideBar": true,
   "skip_h1_title": false,
   "title_cell": "Table of Contents",
   "title_sidebar": "TOC",
   "toc_cell": true,
   "toc_position": {
    "height": "calc(100% - 180px)",
    "left": "10px",
    "top": "150px",
    "width": "277px"
   },
   "toc_section_display": true,
   "toc_window_display": true
  }
 },
 "nbformat": 4,
 "nbformat_minor": 4
}
